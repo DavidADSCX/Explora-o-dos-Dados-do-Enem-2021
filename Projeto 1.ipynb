{
 "cells": [
  {
   "cell_type": "markdown",
   "id": "59a32780",
   "metadata": {},
   "source": [
    "<font color=green size=7>Exploração dos Dados do Enem 2021</font>"
   ]
  },
  {
   "cell_type": "markdown",
   "id": "0fabf421",
   "metadata": {},
   "source": [
    "### Exame nacional do Ensino Médio\n",
    "\n",
    "O <b>Exame Nacional do Ensino Médio (Enem)</b> foi instituído em 1998, com o objetivo de avaliar o desempenho escolar dos estudantes ao término da educação básica. Em 2009, o exame aperfeiçoou sua metodologia e passou a ser utilizado como mecanismo de acesso à educação superior. Desde 2020, o participante pode escolher entre fazer o exame impresso ou o Enem Digital, com provas aplicadas em computadores, em locais de prova definidos pelo Inep.  \n",
    "                                                                               <b>Fonte:</b> Site do Inep \n",
    "    \n"
   ]
  },
  {
   "cell_type": "markdown",
   "id": "50430368",
   "metadata": {},
   "source": [
    "### Fonte dos Dados\n",
    "\n",
    "https://www.gov.br/inep/pt-br/acesso-a-informacao/dados-abertos/microdados/enem"
   ]
  },
  {
   "cell_type": "markdown",
   "id": "aedb747c",
   "metadata": {},
   "source": [
    "### Dicionário do Dataset\n",
    "\n",
    "> ### Sexo\t\n",
    "> ***\n",
    "\n",
    "|Código|Descrição|\n",
    "|---|---|\n",
    "|M|Masculino|\n",
    "|F|Feminino|\n",
    "\n",
    "> ### Faixa Etária\n",
    "> ***\n",
    "\n",
    "|Código|Descrição|\n",
    "|---|---|\n",
    "|1|Menor de 17 anos|\n",
    "|2|17 anos|\n",
    "|3|18 anos|\n",
    "|4|19 anos|\n",
    "|5|20 anos|\n",
    "|6|21 anos|\n",
    "|7|22 anos|\n",
    "|8|23 anos|\n",
    "|9|24 anos|\n",
    "|10|25 anos|\n",
    "|11|Entre 26 e 30 anos|\n",
    "|12|Entre 31 e 35 anos|\n",
    "|13|Entre 36 e 40 anos|\n",
    "|14|Entre 41 e 45 anos|\n",
    "|15|Entre 46 e 50 anos|\n",
    "|16|Entre 51 e 55 anos|\n",
    "|17|Entre 56 e 60 anos| \n",
    "|18|Entre Entre 61 e 65 anos|\n",
    "|19|Entre 66 e 70 anos|\n",
    "|20|Maior de 70 anos|\n",
    "\n",
    "> ### Cor/Raça\n",
    "> ***\n",
    "\n",
    "|Código|Descrição|\n",
    "|---|---|\n",
    "|0|Não Declarado|\n",
    "|1|Branca|\n",
    "|2|Preta|\n",
    "|3|Parda|\n",
    "|4|Amarela|\n",
    "|5|Indígena|\n",
    "|6|NA|\n",
    "\n",
    "> ### Nacionalidade\n",
    "> ***\n",
    "\n",
    "|Código|Descrição|\n",
    "|---|---|\n",
    "|0|Não informado|\n",
    "|1|Brasileiro(a)|\n",
    "|2|Brasileiro(a) Naturalizado(a)|\n",
    "|3|Estrangeiro(a)|\n",
    "|4|Brasileiro(a) Nato(a), nascido(a) no exterior|\n",
    "\n",
    "> ### Questionário Q001 e Q002\n",
    "> ***\n",
    "\n",
    "|Código|Descrição|\n",
    "|---|---|\n",
    "|A|Nunca estudou|\n",
    "|B|Não completou a 4ª série/5º ano do Ensino Fundamental|\n",
    "|C|Completou a 4ª série/5º ano, mas não completou a 8ª série/9º ano do Ensino Fundamental|\n",
    "|D|Completou a 8ª série/9º ano do Ensino Fundamental, mas não completou o Ensino Médio|\n",
    "|E|Completou o Ensino Médio, mas não completou a Faculdade|\n",
    "|F|Completou a Faculdade, mas não completou a Pós-graduação|\n",
    "|G|Completou a Pós-graduação|\n",
    "|H|Não sei|\n"
   ]
  },
  {
   "cell_type": "code",
   "execution_count": 59,
   "id": "ee3404d3",
   "metadata": {},
   "outputs": [],
   "source": [
    "# Importar a biblioteca pandas e numpy para manipular os dados armazenados no dataset\n",
    "\n",
    "import pandas as pd\n",
    "import seaborn as sns\n",
    "import matplotlib.pyplot as plt\n",
    "from scipy import stats\n",
    "import numpy as np\n",
    "from scipy.stats import normaltest"
   ]
  },
  {
   "cell_type": "code",
   "execution_count": 2,
   "id": "4ff92160",
   "metadata": {},
   "outputs": [
    {
     "data": {
      "text/plain": [
       "'1.23.0'"
      ]
     },
     "execution_count": 2,
     "metadata": {},
     "output_type": "execute_result"
    }
   ],
   "source": [
    "np.__version__"
   ]
  },
  {
   "cell_type": "code",
   "execution_count": 3,
   "id": "bb0f57d9",
   "metadata": {},
   "outputs": [],
   "source": [
    "# utilizar o método pd.read_csv para ler o arquivo csv\n",
    "dados_enem = pd.read_csv(\"MICRODADOS_ENEM_2021.csv\", encoding=\"ISO -8859-1\", sep = ';')"
   ]
  },
  {
   "cell_type": "code",
   "execution_count": 4,
   "id": "3382219f",
   "metadata": {},
   "outputs": [
    {
     "data": {
      "text/html": [
       "<div>\n",
       "<style scoped>\n",
       "    .dataframe tbody tr th:only-of-type {\n",
       "        vertical-align: middle;\n",
       "    }\n",
       "\n",
       "    .dataframe tbody tr th {\n",
       "        vertical-align: top;\n",
       "    }\n",
       "\n",
       "    .dataframe thead th {\n",
       "        text-align: right;\n",
       "    }\n",
       "</style>\n",
       "<table border=\"1\" class=\"dataframe\">\n",
       "  <thead>\n",
       "    <tr style=\"text-align: right;\">\n",
       "      <th></th>\n",
       "      <th>NU_INSCRICAO</th>\n",
       "      <th>NU_ANO</th>\n",
       "      <th>TP_FAIXA_ETARIA</th>\n",
       "      <th>TP_SEXO</th>\n",
       "      <th>TP_ESTADO_CIVIL</th>\n",
       "      <th>TP_COR_RACA</th>\n",
       "      <th>TP_NACIONALIDADE</th>\n",
       "      <th>TP_ST_CONCLUSAO</th>\n",
       "      <th>TP_ANO_CONCLUIU</th>\n",
       "      <th>TP_ESCOLA</th>\n",
       "      <th>...</th>\n",
       "      <th>Q016</th>\n",
       "      <th>Q017</th>\n",
       "      <th>Q018</th>\n",
       "      <th>Q019</th>\n",
       "      <th>Q020</th>\n",
       "      <th>Q021</th>\n",
       "      <th>Q022</th>\n",
       "      <th>Q023</th>\n",
       "      <th>Q024</th>\n",
       "      <th>Q025</th>\n",
       "    </tr>\n",
       "  </thead>\n",
       "  <tbody>\n",
       "    <tr>\n",
       "      <th>0</th>\n",
       "      <td>210053865474</td>\n",
       "      <td>2021</td>\n",
       "      <td>5</td>\n",
       "      <td>F</td>\n",
       "      <td>1</td>\n",
       "      <td>1</td>\n",
       "      <td>1</td>\n",
       "      <td>1</td>\n",
       "      <td>3</td>\n",
       "      <td>1</td>\n",
       "      <td>...</td>\n",
       "      <td>A</td>\n",
       "      <td>A</td>\n",
       "      <td>A</td>\n",
       "      <td>B</td>\n",
       "      <td>A</td>\n",
       "      <td>A</td>\n",
       "      <td>B</td>\n",
       "      <td>A</td>\n",
       "      <td>B</td>\n",
       "      <td>B</td>\n",
       "    </tr>\n",
       "    <tr>\n",
       "      <th>1</th>\n",
       "      <td>210052384164</td>\n",
       "      <td>2021</td>\n",
       "      <td>12</td>\n",
       "      <td>M</td>\n",
       "      <td>1</td>\n",
       "      <td>1</td>\n",
       "      <td>1</td>\n",
       "      <td>1</td>\n",
       "      <td>11</td>\n",
       "      <td>1</td>\n",
       "      <td>...</td>\n",
       "      <td>A</td>\n",
       "      <td>A</td>\n",
       "      <td>A</td>\n",
       "      <td>B</td>\n",
       "      <td>A</td>\n",
       "      <td>A</td>\n",
       "      <td>C</td>\n",
       "      <td>A</td>\n",
       "      <td>A</td>\n",
       "      <td>A</td>\n",
       "    </tr>\n",
       "    <tr>\n",
       "      <th>2</th>\n",
       "      <td>210052589243</td>\n",
       "      <td>2021</td>\n",
       "      <td>13</td>\n",
       "      <td>F</td>\n",
       "      <td>3</td>\n",
       "      <td>1</td>\n",
       "      <td>1</td>\n",
       "      <td>1</td>\n",
       "      <td>15</td>\n",
       "      <td>1</td>\n",
       "      <td>...</td>\n",
       "      <td>B</td>\n",
       "      <td>A</td>\n",
       "      <td>A</td>\n",
       "      <td>B</td>\n",
       "      <td>A</td>\n",
       "      <td>A</td>\n",
       "      <td>C</td>\n",
       "      <td>B</td>\n",
       "      <td>B</td>\n",
       "      <td>B</td>\n",
       "    </tr>\n",
       "    <tr>\n",
       "      <th>3</th>\n",
       "      <td>210052128335</td>\n",
       "      <td>2021</td>\n",
       "      <td>3</td>\n",
       "      <td>M</td>\n",
       "      <td>1</td>\n",
       "      <td>3</td>\n",
       "      <td>1</td>\n",
       "      <td>2</td>\n",
       "      <td>0</td>\n",
       "      <td>2</td>\n",
       "      <td>...</td>\n",
       "      <td>A</td>\n",
       "      <td>A</td>\n",
       "      <td>A</td>\n",
       "      <td>B</td>\n",
       "      <td>A</td>\n",
       "      <td>A</td>\n",
       "      <td>B</td>\n",
       "      <td>A</td>\n",
       "      <td>B</td>\n",
       "      <td>B</td>\n",
       "    </tr>\n",
       "    <tr>\n",
       "      <th>4</th>\n",
       "      <td>210051353021</td>\n",
       "      <td>2021</td>\n",
       "      <td>2</td>\n",
       "      <td>F</td>\n",
       "      <td>1</td>\n",
       "      <td>3</td>\n",
       "      <td>1</td>\n",
       "      <td>2</td>\n",
       "      <td>0</td>\n",
       "      <td>2</td>\n",
       "      <td>...</td>\n",
       "      <td>B</td>\n",
       "      <td>A</td>\n",
       "      <td>A</td>\n",
       "      <td>B</td>\n",
       "      <td>A</td>\n",
       "      <td>B</td>\n",
       "      <td>E</td>\n",
       "      <td>A</td>\n",
       "      <td>B</td>\n",
       "      <td>B</td>\n",
       "    </tr>\n",
       "  </tbody>\n",
       "</table>\n",
       "<p>5 rows × 76 columns</p>\n",
       "</div>"
      ],
      "text/plain": [
       "   NU_INSCRICAO  NU_ANO  TP_FAIXA_ETARIA TP_SEXO  TP_ESTADO_CIVIL  \\\n",
       "0  210053865474    2021                5       F                1   \n",
       "1  210052384164    2021               12       M                1   \n",
       "2  210052589243    2021               13       F                3   \n",
       "3  210052128335    2021                3       M                1   \n",
       "4  210051353021    2021                2       F                1   \n",
       "\n",
       "   TP_COR_RACA  TP_NACIONALIDADE  TP_ST_CONCLUSAO  TP_ANO_CONCLUIU  TP_ESCOLA  \\\n",
       "0            1                 1                1                3          1   \n",
       "1            1                 1                1               11          1   \n",
       "2            1                 1                1               15          1   \n",
       "3            3                 1                2                0          2   \n",
       "4            3                 1                2                0          2   \n",
       "\n",
       "   ...  Q016  Q017  Q018 Q019  Q020 Q021  Q022  Q023  Q024  Q025  \n",
       "0  ...     A     A     A    B     A    A     B     A     B     B  \n",
       "1  ...     A     A     A    B     A    A     C     A     A     A  \n",
       "2  ...     B     A     A    B     A    A     C     B     B     B  \n",
       "3  ...     A     A     A    B     A    A     B     A     B     B  \n",
       "4  ...     B     A     A    B     A    B     E     A     B     B  \n",
       "\n",
       "[5 rows x 76 columns]"
      ]
     },
     "execution_count": 4,
     "metadata": {},
     "output_type": "execute_result"
    }
   ],
   "source": [
    "# imprimir as 5 primeiras linhas do dataset\n",
    "dados_enem.head()"
   ]
  },
  {
   "cell_type": "code",
   "execution_count": 5,
   "id": "70e7f10a",
   "metadata": {},
   "outputs": [
    {
     "name": "stdout",
     "output_type": "stream",
     "text": [
      "O dataframe possui 3389832 linhas e 76 colunas\n"
     ]
    }
   ],
   "source": [
    "# utilizar o metodo shape para conhecer o numero de linhas e colunas do dataset\n",
    "print('O dataframe possui {} linhas e {} colunas'.format(dados_enem.shape[0],dados_enem.shape[1]))\n"
   ]
  },
  {
   "cell_type": "code",
   "execution_count": 6,
   "id": "2beb07a0",
   "metadata": {},
   "outputs": [
    {
     "data": {
      "text/plain": [
       "array(['NU_INSCRICAO', 'NU_ANO', 'TP_FAIXA_ETARIA', 'TP_SEXO',\n",
       "       'TP_ESTADO_CIVIL', 'TP_COR_RACA', 'TP_NACIONALIDADE',\n",
       "       'TP_ST_CONCLUSAO', 'TP_ANO_CONCLUIU', 'TP_ESCOLA', 'TP_ENSINO',\n",
       "       'IN_TREINEIRO', 'CO_MUNICIPIO_ESC', 'NO_MUNICIPIO_ESC',\n",
       "       'CO_UF_ESC', 'SG_UF_ESC', 'TP_DEPENDENCIA_ADM_ESC',\n",
       "       'TP_LOCALIZACAO_ESC', 'TP_SIT_FUNC_ESC', 'CO_MUNICIPIO_PROVA',\n",
       "       'NO_MUNICIPIO_PROVA', 'CO_UF_PROVA', 'SG_UF_PROVA',\n",
       "       'TP_PRESENCA_CN', 'TP_PRESENCA_CH', 'TP_PRESENCA_LC',\n",
       "       'TP_PRESENCA_MT', 'CO_PROVA_CN', 'CO_PROVA_CH', 'CO_PROVA_LC',\n",
       "       'CO_PROVA_MT', 'NU_NOTA_CN', 'NU_NOTA_CH', 'NU_NOTA_LC',\n",
       "       'NU_NOTA_MT', 'TX_RESPOSTAS_CN', 'TX_RESPOSTAS_CH',\n",
       "       'TX_RESPOSTAS_LC', 'TX_RESPOSTAS_MT', 'TP_LINGUA',\n",
       "       'TX_GABARITO_CN', 'TX_GABARITO_CH', 'TX_GABARITO_LC',\n",
       "       'TX_GABARITO_MT', 'TP_STATUS_REDACAO', 'NU_NOTA_COMP1',\n",
       "       'NU_NOTA_COMP2', 'NU_NOTA_COMP3', 'NU_NOTA_COMP4', 'NU_NOTA_COMP5',\n",
       "       'NU_NOTA_REDACAO', 'Q001', 'Q002', 'Q003', 'Q004', 'Q005', 'Q006',\n",
       "       'Q007', 'Q008', 'Q009', 'Q010', 'Q011', 'Q012', 'Q013', 'Q014',\n",
       "       'Q015', 'Q016', 'Q017', 'Q018', 'Q019', 'Q020', 'Q021', 'Q022',\n",
       "       'Q023', 'Q024', 'Q025'], dtype=object)"
      ]
     },
     "execution_count": 6,
     "metadata": {},
     "output_type": "execute_result"
    }
   ],
   "source": [
    "# visualiar todas as colunas presente no dataset irá imprimir uma array\n",
    "dados_enem.columns.values"
   ]
  },
  {
   "cell_type": "code",
   "execution_count": 186,
   "id": "90e4943b",
   "metadata": {},
   "outputs": [],
   "source": [
    "# vamos selecionar algumas colunas\n",
    "\n",
    "colunas_selecionadas = ['NU_INSCRICAO','NU_ANO','TP_SEXO','TP_FAIXA_ETARIA','TP_SIT_FUNC_ESC',\n",
    "       'TP_ESTADO_CIVIL', 'TP_COR_RACA', 'TP_NACIONALIDADE','NO_MUNICIPIO_PROVA',\n",
    "       'SG_UF_ESC','NU_NOTA_CN', 'NU_NOTA_CH', 'NU_NOTA_LC','TP_DEPENDENCIA_ADM_ESC',\n",
    "       'NU_NOTA_MT','NU_NOTA_REDACAO','Q001', 'Q002','Q024', 'Q025']"
   ]
  },
  {
   "cell_type": "code",
   "execution_count": 187,
   "id": "f62aa865",
   "metadata": {},
   "outputs": [
    {
     "data": {
      "text/html": [
       "<div>\n",
       "<style scoped>\n",
       "    .dataframe tbody tr th:only-of-type {\n",
       "        vertical-align: middle;\n",
       "    }\n",
       "\n",
       "    .dataframe tbody tr th {\n",
       "        vertical-align: top;\n",
       "    }\n",
       "\n",
       "    .dataframe thead th {\n",
       "        text-align: right;\n",
       "    }\n",
       "</style>\n",
       "<table border=\"1\" class=\"dataframe\">\n",
       "  <thead>\n",
       "    <tr style=\"text-align: right;\">\n",
       "      <th></th>\n",
       "      <th>NU_INSCRICAO</th>\n",
       "      <th>NU_ANO</th>\n",
       "      <th>TP_SEXO</th>\n",
       "      <th>TP_FAIXA_ETARIA</th>\n",
       "      <th>TP_SIT_FUNC_ESC</th>\n",
       "      <th>TP_ESTADO_CIVIL</th>\n",
       "      <th>TP_COR_RACA</th>\n",
       "      <th>TP_NACIONALIDADE</th>\n",
       "      <th>NO_MUNICIPIO_PROVA</th>\n",
       "      <th>SG_UF_ESC</th>\n",
       "      <th>NU_NOTA_CN</th>\n",
       "      <th>NU_NOTA_CH</th>\n",
       "      <th>NU_NOTA_LC</th>\n",
       "      <th>TP_DEPENDENCIA_ADM_ESC</th>\n",
       "      <th>NU_NOTA_MT</th>\n",
       "      <th>NU_NOTA_REDACAO</th>\n",
       "      <th>Q001</th>\n",
       "      <th>Q002</th>\n",
       "      <th>Q024</th>\n",
       "      <th>Q025</th>\n",
       "    </tr>\n",
       "  </thead>\n",
       "  <tbody>\n",
       "    <tr>\n",
       "      <th>0</th>\n",
       "      <td>210053865474</td>\n",
       "      <td>2021</td>\n",
       "      <td>F</td>\n",
       "      <td>5</td>\n",
       "      <td>NaN</td>\n",
       "      <td>1</td>\n",
       "      <td>1</td>\n",
       "      <td>1</td>\n",
       "      <td>Nova Lima</td>\n",
       "      <td>NaN</td>\n",
       "      <td>NaN</td>\n",
       "      <td>574.6</td>\n",
       "      <td>472.6</td>\n",
       "      <td>NaN</td>\n",
       "      <td>NaN</td>\n",
       "      <td>760.0</td>\n",
       "      <td>F</td>\n",
       "      <td>F</td>\n",
       "      <td>B</td>\n",
       "      <td>B</td>\n",
       "    </tr>\n",
       "    <tr>\n",
       "      <th>1</th>\n",
       "      <td>210052384164</td>\n",
       "      <td>2021</td>\n",
       "      <td>M</td>\n",
       "      <td>12</td>\n",
       "      <td>NaN</td>\n",
       "      <td>1</td>\n",
       "      <td>1</td>\n",
       "      <td>1</td>\n",
       "      <td>Maceió</td>\n",
       "      <td>NaN</td>\n",
       "      <td>505.9</td>\n",
       "      <td>551.8</td>\n",
       "      <td>498.3</td>\n",
       "      <td>NaN</td>\n",
       "      <td>461.5</td>\n",
       "      <td>560.0</td>\n",
       "      <td>B</td>\n",
       "      <td>B</td>\n",
       "      <td>A</td>\n",
       "      <td>A</td>\n",
       "    </tr>\n",
       "    <tr>\n",
       "      <th>2</th>\n",
       "      <td>210052589243</td>\n",
       "      <td>2021</td>\n",
       "      <td>F</td>\n",
       "      <td>13</td>\n",
       "      <td>NaN</td>\n",
       "      <td>3</td>\n",
       "      <td>1</td>\n",
       "      <td>1</td>\n",
       "      <td>Ferraz de Vasconcelos</td>\n",
       "      <td>NaN</td>\n",
       "      <td>NaN</td>\n",
       "      <td>NaN</td>\n",
       "      <td>NaN</td>\n",
       "      <td>NaN</td>\n",
       "      <td>NaN</td>\n",
       "      <td>NaN</td>\n",
       "      <td>B</td>\n",
       "      <td>C</td>\n",
       "      <td>B</td>\n",
       "      <td>B</td>\n",
       "    </tr>\n",
       "    <tr>\n",
       "      <th>3</th>\n",
       "      <td>210052128335</td>\n",
       "      <td>2021</td>\n",
       "      <td>M</td>\n",
       "      <td>3</td>\n",
       "      <td>1.0</td>\n",
       "      <td>1</td>\n",
       "      <td>3</td>\n",
       "      <td>1</td>\n",
       "      <td>Crato</td>\n",
       "      <td>CE</td>\n",
       "      <td>580.7</td>\n",
       "      <td>678.9</td>\n",
       "      <td>638.9</td>\n",
       "      <td>2.0</td>\n",
       "      <td>659.5</td>\n",
       "      <td>780.0</td>\n",
       "      <td>B</td>\n",
       "      <td>B</td>\n",
       "      <td>B</td>\n",
       "      <td>B</td>\n",
       "    </tr>\n",
       "    <tr>\n",
       "      <th>4</th>\n",
       "      <td>210051353021</td>\n",
       "      <td>2021</td>\n",
       "      <td>F</td>\n",
       "      <td>2</td>\n",
       "      <td>1.0</td>\n",
       "      <td>1</td>\n",
       "      <td>3</td>\n",
       "      <td>1</td>\n",
       "      <td>Acarape</td>\n",
       "      <td>CE</td>\n",
       "      <td>497.7</td>\n",
       "      <td>532.4</td>\n",
       "      <td>457.6</td>\n",
       "      <td>2.0</td>\n",
       "      <td>582.6</td>\n",
       "      <td>780.0</td>\n",
       "      <td>D</td>\n",
       "      <td>E</td>\n",
       "      <td>B</td>\n",
       "      <td>B</td>\n",
       "    </tr>\n",
       "  </tbody>\n",
       "</table>\n",
       "</div>"
      ],
      "text/plain": [
       "   NU_INSCRICAO  NU_ANO TP_SEXO  TP_FAIXA_ETARIA  TP_SIT_FUNC_ESC  \\\n",
       "0  210053865474    2021       F                5              NaN   \n",
       "1  210052384164    2021       M               12              NaN   \n",
       "2  210052589243    2021       F               13              NaN   \n",
       "3  210052128335    2021       M                3              1.0   \n",
       "4  210051353021    2021       F                2              1.0   \n",
       "\n",
       "   TP_ESTADO_CIVIL  TP_COR_RACA  TP_NACIONALIDADE     NO_MUNICIPIO_PROVA  \\\n",
       "0                1            1                 1              Nova Lima   \n",
       "1                1            1                 1                 Maceió   \n",
       "2                3            1                 1  Ferraz de Vasconcelos   \n",
       "3                1            3                 1                  Crato   \n",
       "4                1            3                 1                Acarape   \n",
       "\n",
       "  SG_UF_ESC  NU_NOTA_CN  NU_NOTA_CH  NU_NOTA_LC  TP_DEPENDENCIA_ADM_ESC  \\\n",
       "0       NaN         NaN       574.6       472.6                     NaN   \n",
       "1       NaN       505.9       551.8       498.3                     NaN   \n",
       "2       NaN         NaN         NaN         NaN                     NaN   \n",
       "3        CE       580.7       678.9       638.9                     2.0   \n",
       "4        CE       497.7       532.4       457.6                     2.0   \n",
       "\n",
       "   NU_NOTA_MT  NU_NOTA_REDACAO Q001 Q002 Q024 Q025  \n",
       "0         NaN            760.0    F    F    B    B  \n",
       "1       461.5            560.0    B    B    A    A  \n",
       "2         NaN              NaN    B    C    B    B  \n",
       "3       659.5            780.0    B    B    B    B  \n",
       "4       582.6            780.0    D    E    B    B  "
      ]
     },
     "execution_count": 187,
     "metadata": {},
     "output_type": "execute_result"
    }
   ],
   "source": [
    "# criar um dataset com as colunas selecionadas\n",
    "dados_selecionado = dados_enem.filter(items=colunas_selecionadas)\n",
    "dados_selecionado.head()"
   ]
  },
  {
   "cell_type": "code",
   "execution_count": 9,
   "id": "21af2837",
   "metadata": {},
   "outputs": [
    {
     "data": {
      "text/html": [
       "<div>\n",
       "<style scoped>\n",
       "    .dataframe tbody tr th:only-of-type {\n",
       "        vertical-align: middle;\n",
       "    }\n",
       "\n",
       "    .dataframe tbody tr th {\n",
       "        vertical-align: top;\n",
       "    }\n",
       "\n",
       "    .dataframe thead th {\n",
       "        text-align: right;\n",
       "    }\n",
       "</style>\n",
       "<table border=\"1\" class=\"dataframe\">\n",
       "  <thead>\n",
       "    <tr style=\"text-align: right;\">\n",
       "      <th></th>\n",
       "      <th>tipos</th>\n",
       "      <th>missing</th>\n",
       "    </tr>\n",
       "  </thead>\n",
       "  <tbody>\n",
       "    <tr>\n",
       "      <th>NU_INSCRICAO</th>\n",
       "      <td>int64</td>\n",
       "      <td>0</td>\n",
       "    </tr>\n",
       "    <tr>\n",
       "      <th>NU_ANO</th>\n",
       "      <td>int64</td>\n",
       "      <td>0</td>\n",
       "    </tr>\n",
       "    <tr>\n",
       "      <th>TP_SEXO</th>\n",
       "      <td>object</td>\n",
       "      <td>0</td>\n",
       "    </tr>\n",
       "    <tr>\n",
       "      <th>TP_FAIXA_ETARIA</th>\n",
       "      <td>int64</td>\n",
       "      <td>0</td>\n",
       "    </tr>\n",
       "    <tr>\n",
       "      <th>TP_ESTADO_CIVIL</th>\n",
       "      <td>int64</td>\n",
       "      <td>0</td>\n",
       "    </tr>\n",
       "    <tr>\n",
       "      <th>TP_COR_RACA</th>\n",
       "      <td>int64</td>\n",
       "      <td>0</td>\n",
       "    </tr>\n",
       "    <tr>\n",
       "      <th>TP_NACIONALIDADE</th>\n",
       "      <td>int64</td>\n",
       "      <td>0</td>\n",
       "    </tr>\n",
       "    <tr>\n",
       "      <th>NO_MUNICIPIO_PROVA</th>\n",
       "      <td>object</td>\n",
       "      <td>0</td>\n",
       "    </tr>\n",
       "    <tr>\n",
       "      <th>SG_UF_ESC</th>\n",
       "      <td>object</td>\n",
       "      <td>2576026</td>\n",
       "    </tr>\n",
       "    <tr>\n",
       "      <th>NU_NOTA_CN</th>\n",
       "      <td>float64</td>\n",
       "      <td>1143988</td>\n",
       "    </tr>\n",
       "    <tr>\n",
       "      <th>NU_NOTA_CH</th>\n",
       "      <td>float64</td>\n",
       "      <td>1011453</td>\n",
       "    </tr>\n",
       "    <tr>\n",
       "      <th>NU_NOTA_LC</th>\n",
       "      <td>float64</td>\n",
       "      <td>1011453</td>\n",
       "    </tr>\n",
       "    <tr>\n",
       "      <th>NU_NOTA_MT</th>\n",
       "      <td>float64</td>\n",
       "      <td>1143988</td>\n",
       "    </tr>\n",
       "    <tr>\n",
       "      <th>NU_NOTA_REDACAO</th>\n",
       "      <td>float64</td>\n",
       "      <td>1011453</td>\n",
       "    </tr>\n",
       "    <tr>\n",
       "      <th>Q001</th>\n",
       "      <td>object</td>\n",
       "      <td>2</td>\n",
       "    </tr>\n",
       "    <tr>\n",
       "      <th>Q002</th>\n",
       "      <td>object</td>\n",
       "      <td>2</td>\n",
       "    </tr>\n",
       "    <tr>\n",
       "      <th>Q024</th>\n",
       "      <td>object</td>\n",
       "      <td>2</td>\n",
       "    </tr>\n",
       "    <tr>\n",
       "      <th>Q025</th>\n",
       "      <td>object</td>\n",
       "      <td>2</td>\n",
       "    </tr>\n",
       "  </tbody>\n",
       "</table>\n",
       "</div>"
      ],
      "text/plain": [
       "                      tipos  missing\n",
       "NU_INSCRICAO          int64        0\n",
       "NU_ANO                int64        0\n",
       "TP_SEXO              object        0\n",
       "TP_FAIXA_ETARIA       int64        0\n",
       "TP_ESTADO_CIVIL       int64        0\n",
       "TP_COR_RACA           int64        0\n",
       "TP_NACIONALIDADE      int64        0\n",
       "NO_MUNICIPIO_PROVA   object        0\n",
       "SG_UF_ESC            object  2576026\n",
       "NU_NOTA_CN          float64  1143988\n",
       "NU_NOTA_CH          float64  1011453\n",
       "NU_NOTA_LC          float64  1011453\n",
       "NU_NOTA_MT          float64  1143988\n",
       "NU_NOTA_REDACAO     float64  1011453\n",
       "Q001                 object        2\n",
       "Q002                 object        2\n",
       "Q024                 object        2\n",
       "Q025                 object        2"
      ]
     },
     "execution_count": 9,
     "metadata": {},
     "output_type": "execute_result"
    }
   ],
   "source": [
    "pd.DataFrame({'tipos':dados_selecionado.dtypes, 'missing':dados_selecionado.isna().sum()})"
   ]
  },
  {
   "cell_type": "markdown",
   "id": "89492904",
   "metadata": {},
   "source": [
    "<b>Método info():</b> Este método imprime informações sobre um DataFrame, incluindo o índice dtype e colunas, valores não nulos e uso de memória.\n"
   ]
  },
  {
   "cell_type": "code",
   "execution_count": 10,
   "id": "458e919d",
   "metadata": {},
   "outputs": [
    {
     "name": "stdout",
     "output_type": "stream",
     "text": [
      "<class 'pandas.core.frame.DataFrame'>\n",
      "RangeIndex: 3389832 entries, 0 to 3389831\n",
      "Data columns (total 18 columns):\n",
      " #   Column              Non-Null Count    Dtype  \n",
      "---  ------              --------------    -----  \n",
      " 0   NU_INSCRICAO        3389832 non-null  int64  \n",
      " 1   NU_ANO              3389832 non-null  int64  \n",
      " 2   TP_SEXO             3389832 non-null  object \n",
      " 3   TP_FAIXA_ETARIA     3389832 non-null  int64  \n",
      " 4   TP_ESTADO_CIVIL     3389832 non-null  int64  \n",
      " 5   TP_COR_RACA         3389832 non-null  int64  \n",
      " 6   TP_NACIONALIDADE    3389832 non-null  int64  \n",
      " 7   NO_MUNICIPIO_PROVA  3389832 non-null  object \n",
      " 8   SG_UF_ESC           813806 non-null   object \n",
      " 9   NU_NOTA_CN          2245844 non-null  float64\n",
      " 10  NU_NOTA_CH          2378379 non-null  float64\n",
      " 11  NU_NOTA_LC          2378379 non-null  float64\n",
      " 12  NU_NOTA_MT          2245844 non-null  float64\n",
      " 13  NU_NOTA_REDACAO     2378379 non-null  float64\n",
      " 14  Q001                3389830 non-null  object \n",
      " 15  Q002                3389830 non-null  object \n",
      " 16  Q024                3389830 non-null  object \n",
      " 17  Q025                3389830 non-null  object \n",
      "dtypes: float64(5), int64(6), object(7)\n",
      "memory usage: 465.5+ MB\n"
     ]
    }
   ],
   "source": [
    "dados_selecionado.info(show_counts = True)"
   ]
  },
  {
   "cell_type": "markdown",
   "id": "97aa7b26",
   "metadata": {},
   "source": [
    "## Iremos fazer algumas perguntas para o Dataset\n",
    "\n",
    "### 1) Qual a distribuição de sexo declarado no Enem?"
   ]
  },
  {
   "cell_type": "code",
   "execution_count": 11,
   "id": "63ebce0c",
   "metadata": {},
   "outputs": [
    {
     "data": {
      "text/plain": [
       "F    2090526\n",
       "M    1299306\n",
       "Name: TP_SEXO, dtype: int64"
      ]
     },
     "execution_count": 11,
     "metadata": {},
     "output_type": "execute_result"
    }
   ],
   "source": [
    "dist_sexo = dados_selecionado['TP_SEXO']\n",
    "freq_sexo = dist_sexo.value_counts()\n",
    "freq_sexo"
   ]
  },
  {
   "cell_type": "code",
   "execution_count": 12,
   "id": "8fb0762e",
   "metadata": {},
   "outputs": [
    {
     "data": {
      "text/plain": [
       "F    62.0\n",
       "M    38.0\n",
       "Name: TP_SEXO, dtype: float64"
      ]
     },
     "execution_count": 12,
     "metadata": {},
     "output_type": "execute_result"
    }
   ],
   "source": [
    "# iremos utilizar o paramentro normalize para tirar o percentual\n",
    "percentual=dist_sexo.value_counts(normalize = True)*100\n",
    "percentual.round()"
   ]
  },
  {
   "cell_type": "code",
   "execution_count": 13,
   "id": "e46b2b19",
   "metadata": {},
   "outputs": [
    {
     "data": {
      "text/html": [
       "<div>\n",
       "<style scoped>\n",
       "    .dataframe tbody tr th:only-of-type {\n",
       "        vertical-align: middle;\n",
       "    }\n",
       "\n",
       "    .dataframe tbody tr th {\n",
       "        vertical-align: top;\n",
       "    }\n",
       "\n",
       "    .dataframe thead th {\n",
       "        text-align: right;\n",
       "    }\n",
       "</style>\n",
       "<table border=\"1\" class=\"dataframe\">\n",
       "  <thead>\n",
       "    <tr style=\"text-align: right;\">\n",
       "      <th>Sexo</th>\n",
       "      <th>Frequência</th>\n",
       "      <th>Porcentagem (%)</th>\n",
       "    </tr>\n",
       "  </thead>\n",
       "  <tbody>\n",
       "    <tr>\n",
       "      <th>Feminino</th>\n",
       "      <td>2090526</td>\n",
       "      <td>62.0</td>\n",
       "    </tr>\n",
       "    <tr>\n",
       "      <th>Masculino</th>\n",
       "      <td>1299306</td>\n",
       "      <td>38.0</td>\n",
       "    </tr>\n",
       "  </tbody>\n",
       "</table>\n",
       "</div>"
      ],
      "text/plain": [
       "Sexo       Frequência  Porcentagem (%)\n",
       "Feminino      2090526             62.0\n",
       "Masculino     1299306             38.0"
      ]
     },
     "execution_count": 13,
     "metadata": {},
     "output_type": "execute_result"
    }
   ],
   "source": [
    "# construir uma tabela com a frequencia e porcentagem do sexo declarado \n",
    "dist_freq_qualitativas = pd.DataFrame({'Frequência': freq_sexo, 'Porcentagem (%)': percentual.round()})\n",
    "dist_freq_qualitativas.rename(index = {\"M\": 'Masculino', \"F\": 'Feminino'}, inplace = True)\n",
    "dist_freq_qualitativas.rename_axis('Sexo', axis = 'columns', inplace =True)\n",
    "dist_freq_qualitativas"
   ]
  },
  {
   "cell_type": "markdown",
   "id": "9756b25d",
   "metadata": {},
   "source": [
    "\n",
    "\n",
    "Segundo um levamanento feito pelo Instituto Semesp, 57% dos estudantes matriculados nas instituições de ensino superiores são do sexo feminino.(https://agenciabrasil.ebc.com.br/educacao/noticia/2020-05/mapa-do-ensino-superior-aponta-para-maioria-feminina-e-branca) \n",
    "\n",
    "<b>Conclusão: </b> Com o resultado dos dados encontrado no dataset o qual mostra que 62% dos candidatos são do sexo feminino e 38% do sexo masculino o resultado mostrado pelo conjunto de dados só corrobora com pesquisa feita pelo Instituto Semesp."
   ]
  },
  {
   "cell_type": "markdown",
   "id": "b870b7c1",
   "metadata": {},
   "source": [
    "### 2) Qual relação de distribuição da  faixa etária dos candidatos por sexo?"
   ]
  },
  {
   "cell_type": "code",
   "execution_count": 14,
   "id": "96a080b4",
   "metadata": {},
   "outputs": [],
   "source": [
    "# utilizar o metodo groupby para agrupar a variável\n",
    "faixa_etaria_sexo = ['TP_FAIXA_ETARIA','TP_SEXO']\n",
    "faixaetaria_sexo = dados_enem.filter(items = faixa_etaria_sexo)"
   ]
  },
  {
   "cell_type": "code",
   "execution_count": 15,
   "id": "0c3c527e",
   "metadata": {},
   "outputs": [
    {
     "data": {
      "text/html": [
       "<div>\n",
       "<style scoped>\n",
       "    .dataframe tbody tr th:only-of-type {\n",
       "        vertical-align: middle;\n",
       "    }\n",
       "\n",
       "    .dataframe tbody tr th {\n",
       "        vertical-align: top;\n",
       "    }\n",
       "\n",
       "    .dataframe thead th {\n",
       "        text-align: right;\n",
       "    }\n",
       "</style>\n",
       "<table border=\"1\" class=\"dataframe\">\n",
       "  <thead>\n",
       "    <tr style=\"text-align: right;\">\n",
       "      <th></th>\n",
       "      <th>Faixa_Etária</th>\n",
       "      <th>Sexo</th>\n",
       "      <th>Total</th>\n",
       "    </tr>\n",
       "  </thead>\n",
       "  <tbody>\n",
       "    <tr>\n",
       "      <th>0</th>\n",
       "      <td>3</td>\n",
       "      <td>F</td>\n",
       "      <td>431685</td>\n",
       "    </tr>\n",
       "    <tr>\n",
       "      <th>1</th>\n",
       "      <td>2</td>\n",
       "      <td>F</td>\n",
       "      <td>388078</td>\n",
       "    </tr>\n",
       "    <tr>\n",
       "      <th>2</th>\n",
       "      <td>4</td>\n",
       "      <td>F</td>\n",
       "      <td>244843</td>\n",
       "    </tr>\n",
       "    <tr>\n",
       "      <th>3</th>\n",
       "      <td>1</td>\n",
       "      <td>F</td>\n",
       "      <td>184125</td>\n",
       "    </tr>\n",
       "    <tr>\n",
       "      <th>4</th>\n",
       "      <td>5</td>\n",
       "      <td>F</td>\n",
       "      <td>154204</td>\n",
       "    </tr>\n",
       "  </tbody>\n",
       "</table>\n",
       "</div>"
      ],
      "text/plain": [
       "   Faixa_Etária Sexo   Total\n",
       "0             3    F  431685\n",
       "1             2    F  388078\n",
       "2             4    F  244843\n",
       "3             1    F  184125\n",
       "4             5    F  154204"
      ]
     },
     "execution_count": 15,
     "metadata": {},
     "output_type": "execute_result"
    }
   ],
   "source": [
    "Contagem_sexo_F = faixaetaria_sexo.query('TP_SEXO == \"F\"').value_counts().to_frame().reset_index()\n",
    "Contagem_sexo_F.columns = ['Faixa_Etária', 'Sexo', 'Total']\n",
    "Contagem_sexo_F.head()\n"
   ]
  },
  {
   "cell_type": "code",
   "execution_count": 16,
   "id": "ef75f2ff",
   "metadata": {},
   "outputs": [
    {
     "data": {
      "text/plain": [
       "<seaborn.axisgrid.FacetGrid at 0x22e4a91ec40>"
      ]
     },
     "execution_count": 16,
     "metadata": {},
     "output_type": "execute_result"
    },
    {
     "data": {
      "image/png": "[encoded data removed]",
      "text/plain": [
       "<Figure size 648x216 with 1 Axes>"
      ]
     },
     "metadata": {
      "needs_background": "light"
     },
     "output_type": "display_data"
    }
   ],
   "source": [
    "sns.catplot(x = 'Faixa_Etária', y = 'Total', kind = 'bar', data= Contagem_sexo_F,\n",
    "           aspect = 3, height = 3,palette = 'rocket')\n"
   ]
  },
  {
   "cell_type": "code",
   "execution_count": 17,
   "id": "e3afeb84",
   "metadata": {},
   "outputs": [
    {
     "data": {
      "text/html": [
       "<div>\n",
       "<style scoped>\n",
       "    .dataframe tbody tr th:only-of-type {\n",
       "        vertical-align: middle;\n",
       "    }\n",
       "\n",
       "    .dataframe tbody tr th {\n",
       "        vertical-align: top;\n",
       "    }\n",
       "\n",
       "    .dataframe thead th {\n",
       "        text-align: right;\n",
       "    }\n",
       "</style>\n",
       "<table border=\"1\" class=\"dataframe\">\n",
       "  <thead>\n",
       "    <tr style=\"text-align: right;\">\n",
       "      <th></th>\n",
       "      <th>Faixa_Etária</th>\n",
       "      <th>Sexo</th>\n",
       "      <th>Total</th>\n",
       "    </tr>\n",
       "  </thead>\n",
       "  <tbody>\n",
       "    <tr>\n",
       "      <th>0</th>\n",
       "      <td>3</td>\n",
       "      <td>M</td>\n",
       "      <td>267680</td>\n",
       "    </tr>\n",
       "    <tr>\n",
       "      <th>1</th>\n",
       "      <td>2</td>\n",
       "      <td>M</td>\n",
       "      <td>232706</td>\n",
       "    </tr>\n",
       "    <tr>\n",
       "      <th>2</th>\n",
       "      <td>4</td>\n",
       "      <td>M</td>\n",
       "      <td>149846</td>\n",
       "    </tr>\n",
       "    <tr>\n",
       "      <th>3</th>\n",
       "      <td>5</td>\n",
       "      <td>M</td>\n",
       "      <td>96486</td>\n",
       "    </tr>\n",
       "    <tr>\n",
       "      <th>4</th>\n",
       "      <td>11</td>\n",
       "      <td>M</td>\n",
       "      <td>93411</td>\n",
       "    </tr>\n",
       "  </tbody>\n",
       "</table>\n",
       "</div>"
      ],
      "text/plain": [
       "   Faixa_Etária Sexo   Total\n",
       "0             3    M  267680\n",
       "1             2    M  232706\n",
       "2             4    M  149846\n",
       "3             5    M   96486\n",
       "4            11    M   93411"
      ]
     },
     "execution_count": 17,
     "metadata": {},
     "output_type": "execute_result"
    }
   ],
   "source": [
    "Contagem_sexo_M = faixaetaria_sexo.query('TP_SEXO == \"M\"').value_counts().to_frame().reset_index()\n",
    "Contagem_sexo_M.columns = ['Faixa_Etária', 'Sexo', 'Total']\n",
    "Contagem_sexo_M.head()"
   ]
  },
  {
   "cell_type": "code",
   "execution_count": 18,
   "id": "912d52b9",
   "metadata": {},
   "outputs": [
    {
     "data": {
      "text/plain": [
       "<seaborn.axisgrid.FacetGrid at 0x22d859c1a00>"
      ]
     },
     "execution_count": 18,
     "metadata": {},
     "output_type": "execute_result"
    },
    {
     "data": {
      "image/png": "[encoded data removed]",
      "text/plain": [
       "<Figure size 648x216 with 1 Axes>"
      ]
     },
     "metadata": {
      "needs_background": "light"
     },
     "output_type": "display_data"
    }
   ],
   "source": [
    "sns.catplot(x = 'Faixa_Etária', y = 'Total', kind = 'bar', data= Contagem_sexo_M,\n",
    "           aspect = 3, height = 3,palette = 'rocket')"
   ]
  },
  {
   "cell_type": "code",
   "execution_count": 19,
   "id": "c27557f4",
   "metadata": {},
   "outputs": [],
   "source": [
    "Contagem_sexo = (faixaetaria_sexo.value_counts(normalize = True)*100).to_frame().reset_index().round(2)\n",
    "Contagem_sexo.columns = ['FAIXA_ETARIA','SEXO','Percentual(%)']"
   ]
  },
  {
   "cell_type": "code",
   "execution_count": 20,
   "id": "86584c2a",
   "metadata": {},
   "outputs": [],
   "source": [
    "dict_faixa_etaria = {1:'Menor de 17 anos', 2:'17 anos', 3:'18 anos', 4:'19 anos',5:'20 anos',\n",
    "6:'21 anos', 7:'22 anos', 8:'23 anos', 9:'24 anos', 10:'25 anos', 11:'Entre 26 e 30 anos',\n",
    "12:'Entre 31 e 35 anos', 13:'Entre 36 e 40 anos', 14:'Entre 41 e 45 anos', 15:'Entre 46 e 50 anos',\n",
    "16:'Entre 51 e 55 anos', 17:'Entre 56 e 60 anos', 18:'Entre 61 e 65 anos',19:'Entre 66 e 70 anos',\n",
    "20:'Maior de 70 anos'}"
   ]
  },
  {
   "cell_type": "code",
   "execution_count": 21,
   "id": "b342cc9c",
   "metadata": {},
   "outputs": [
    {
     "data": {
      "image/png": "[encoded data removed]",
      "text/plain": [
       "<Figure size 432x288 with 1 Axes>"
      ]
     },
     "metadata": {
      "needs_background": "light"
     },
     "output_type": "display_data"
    }
   ],
   "source": [
    "ax = sns.barplot(data=Contagem_sexo, x='FAIXA_ETARIA', y='Percentual(%)', hue='SEXO',palette = 'flare')\n",
    "ax.set_title(\"Distribuição de percentual\", fontsize = 20)\n",
    "\n",
    "\n",
    "textdict = \" \"\n",
    "for key,value in dict_faixa_etaria.items():\n",
    "    textdict = textdict + \"{k} : {v}\\n\".format(k=key,v=value)\n",
    "\n",
    "ax.text(1.04, -0.00, textdict, transform=ax.transAxes, fontsize = 9, color = 'black',\n",
    "       bbox = {'boxstyle': 'round', 'facecolor': 'white', 'alpha': 1})\n",
    "ax=ax"
   ]
  },
  {
   "cell_type": "markdown",
   "id": "fd1c8fae",
   "metadata": {},
   "source": [
    "### Podemos inferir do gráfico:\n",
    "1) A faixa etária com maior número de participação é a de 18 anos e também maior participação feminina.\n",
    "\n",
    "2) Em quase todas as faixas etárias o que prevalece é o sexo feminino, no gráfico não mostra, mas nas duas últimas faixas o sexo masculino prevalece.\n",
    "\n",
    "3) As faixas etárias 2, 3,e 4 têm um número muito grande pela seguinte questão: muitos dos candidatos estão prestando seu primeiro vestibular pois estão já no último ano do Ensino Médio.\n",
    "\n",
    "4) Podem ter candidatos das faixas etárias maiores também que prestaram seu primeiro vestibular, que são aquelas pessoas que concluiram o seu ensino médio de forma tardio."
   ]
  },
  {
   "cell_type": "markdown",
   "id": "0b448af7",
   "metadata": {},
   "source": [
    "## 3) Qual a distribuição por frequência absoluta da Cor/Raça no enem 2021 em relação ao sexo?"
   ]
  },
  {
   "cell_type": "code",
   "execution_count": 22,
   "id": "39c1ce39",
   "metadata": {},
   "outputs": [
    {
     "data": {
      "text/html": [
       "<div>\n",
       "<style scoped>\n",
       "    .dataframe tbody tr th:only-of-type {\n",
       "        vertical-align: middle;\n",
       "    }\n",
       "\n",
       "    .dataframe tbody tr th {\n",
       "        vertical-align: top;\n",
       "    }\n",
       "\n",
       "    .dataframe thead th {\n",
       "        text-align: right;\n",
       "    }\n",
       "</style>\n",
       "<table border=\"1\" class=\"dataframe\">\n",
       "  <thead>\n",
       "    <tr style=\"text-align: right;\">\n",
       "      <th></th>\n",
       "      <th></th>\n",
       "      <th>Total</th>\n",
       "    </tr>\n",
       "    <tr>\n",
       "      <th>TP_COR_RACA</th>\n",
       "      <th>TP_SEXO</th>\n",
       "      <th></th>\n",
       "    </tr>\n",
       "  </thead>\n",
       "  <tbody>\n",
       "    <tr>\n",
       "      <th rowspan=\"2\" valign=\"top\">0</th>\n",
       "      <th>F</th>\n",
       "      <td>42564</td>\n",
       "    </tr>\n",
       "    <tr>\n",
       "      <th>M</th>\n",
       "      <td>28585</td>\n",
       "    </tr>\n",
       "    <tr>\n",
       "      <th rowspan=\"2\" valign=\"top\">1</th>\n",
       "      <th>F</th>\n",
       "      <td>834484</td>\n",
       "    </tr>\n",
       "    <tr>\n",
       "      <th>M</th>\n",
       "      <td>527772</td>\n",
       "    </tr>\n",
       "    <tr>\n",
       "      <th rowspan=\"2\" valign=\"top\">2</th>\n",
       "      <th>F</th>\n",
       "      <td>250936</td>\n",
       "    </tr>\n",
       "    <tr>\n",
       "      <th>M</th>\n",
       "      <td>160366</td>\n",
       "    </tr>\n",
       "    <tr>\n",
       "      <th rowspan=\"2\" valign=\"top\">3</th>\n",
       "      <th>F</th>\n",
       "      <td>904499</td>\n",
       "    </tr>\n",
       "    <tr>\n",
       "      <th>M</th>\n",
       "      <td>552955</td>\n",
       "    </tr>\n",
       "    <tr>\n",
       "      <th rowspan=\"2\" valign=\"top\">4</th>\n",
       "      <th>F</th>\n",
       "      <td>46961</td>\n",
       "    </tr>\n",
       "    <tr>\n",
       "      <th>M</th>\n",
       "      <td>21530</td>\n",
       "    </tr>\n",
       "    <tr>\n",
       "      <th rowspan=\"2\" valign=\"top\">5</th>\n",
       "      <th>F</th>\n",
       "      <td>11080</td>\n",
       "    </tr>\n",
       "    <tr>\n",
       "      <th>M</th>\n",
       "      <td>8095</td>\n",
       "    </tr>\n",
       "    <tr>\n",
       "      <th rowspan=\"2\" valign=\"top\">6</th>\n",
       "      <th>F</th>\n",
       "      <td>2</td>\n",
       "    </tr>\n",
       "    <tr>\n",
       "      <th>M</th>\n",
       "      <td>3</td>\n",
       "    </tr>\n",
       "  </tbody>\n",
       "</table>\n",
       "</div>"
      ],
      "text/plain": [
       "                      Total\n",
       "TP_COR_RACA TP_SEXO        \n",
       "0           F         42564\n",
       "            M         28585\n",
       "1           F        834484\n",
       "            M        527772\n",
       "2           F        250936\n",
       "            M        160366\n",
       "3           F        904499\n",
       "            M        552955\n",
       "4           F         46961\n",
       "            M         21530\n",
       "5           F         11080\n",
       "            M          8095\n",
       "6           F             2\n",
       "            M             3"
      ]
     },
     "execution_count": 22,
     "metadata": {},
     "output_type": "execute_result"
    }
   ],
   "source": [
    "raca_sexo = ['NU_INSCRICAO','TP_COR_RACA','TP_SEXO']\n",
    "dist_raca_sexo = dados_enem.filter(items = raca_sexo)\n",
    "distribuicao_frequência_cor_raca = dist_raca_sexo.groupby(['TP_COR_RACA','TP_SEXO']).count()\n",
    "distribuicao_frequência_cor_raca.columns = ['Total']\n",
    "distribuicao_frequência_cor_raca"
   ]
  },
  {
   "cell_type": "code",
   "execution_count": 23,
   "id": "ccf66c1e",
   "metadata": {},
   "outputs": [
    {
     "data": {
      "text/html": [
       "<div>\n",
       "<style scoped>\n",
       "    .dataframe tbody tr th:only-of-type {\n",
       "        vertical-align: middle;\n",
       "    }\n",
       "\n",
       "    .dataframe tbody tr th {\n",
       "        vertical-align: top;\n",
       "    }\n",
       "\n",
       "    .dataframe thead th {\n",
       "        text-align: right;\n",
       "    }\n",
       "</style>\n",
       "<table border=\"1\" class=\"dataframe\">\n",
       "  <thead>\n",
       "    <tr style=\"text-align: right;\">\n",
       "      <th></th>\n",
       "      <th>TP_COR_RACA</th>\n",
       "      <th>TP_SEXO</th>\n",
       "      <th>Total</th>\n",
       "    </tr>\n",
       "  </thead>\n",
       "  <tbody>\n",
       "    <tr>\n",
       "      <th>0</th>\n",
       "      <td>NA</td>\n",
       "      <td>F</td>\n",
       "      <td>42564</td>\n",
       "    </tr>\n",
       "    <tr>\n",
       "      <th>1</th>\n",
       "      <td>NA</td>\n",
       "      <td>M</td>\n",
       "      <td>28585</td>\n",
       "    </tr>\n",
       "    <tr>\n",
       "      <th>2</th>\n",
       "      <td>Branca</td>\n",
       "      <td>F</td>\n",
       "      <td>834484</td>\n",
       "    </tr>\n",
       "    <tr>\n",
       "      <th>3</th>\n",
       "      <td>Branca</td>\n",
       "      <td>M</td>\n",
       "      <td>527772</td>\n",
       "    </tr>\n",
       "    <tr>\n",
       "      <th>4</th>\n",
       "      <td>Preta</td>\n",
       "      <td>F</td>\n",
       "      <td>250936</td>\n",
       "    </tr>\n",
       "    <tr>\n",
       "      <th>5</th>\n",
       "      <td>Preta</td>\n",
       "      <td>M</td>\n",
       "      <td>160366</td>\n",
       "    </tr>\n",
       "    <tr>\n",
       "      <th>6</th>\n",
       "      <td>Parda</td>\n",
       "      <td>F</td>\n",
       "      <td>904499</td>\n",
       "    </tr>\n",
       "    <tr>\n",
       "      <th>7</th>\n",
       "      <td>Parda</td>\n",
       "      <td>M</td>\n",
       "      <td>552955</td>\n",
       "    </tr>\n",
       "    <tr>\n",
       "      <th>8</th>\n",
       "      <td>Amarela</td>\n",
       "      <td>F</td>\n",
       "      <td>46961</td>\n",
       "    </tr>\n",
       "    <tr>\n",
       "      <th>9</th>\n",
       "      <td>Amarela</td>\n",
       "      <td>M</td>\n",
       "      <td>21530</td>\n",
       "    </tr>\n",
       "    <tr>\n",
       "      <th>10</th>\n",
       "      <td>Indígena</td>\n",
       "      <td>F</td>\n",
       "      <td>11080</td>\n",
       "    </tr>\n",
       "    <tr>\n",
       "      <th>11</th>\n",
       "      <td>Indígena</td>\n",
       "      <td>M</td>\n",
       "      <td>8095</td>\n",
       "    </tr>\n",
       "    <tr>\n",
       "      <th>12</th>\n",
       "      <td>NA</td>\n",
       "      <td>F</td>\n",
       "      <td>2</td>\n",
       "    </tr>\n",
       "    <tr>\n",
       "      <th>13</th>\n",
       "      <td>NA</td>\n",
       "      <td>M</td>\n",
       "      <td>3</td>\n",
       "    </tr>\n",
       "  </tbody>\n",
       "</table>\n",
       "</div>"
      ],
      "text/plain": [
       "   TP_COR_RACA TP_SEXO   Total\n",
       "0           NA       F   42564\n",
       "1           NA       M   28585\n",
       "2       Branca       F  834484\n",
       "3       Branca       M  527772\n",
       "4        Preta       F  250936\n",
       "5        Preta       M  160366\n",
       "6        Parda       F  904499\n",
       "7        Parda       M  552955\n",
       "8      Amarela       F   46961\n",
       "9      Amarela       M   21530\n",
       "10    Indígena       F   11080\n",
       "11    Indígena       M    8095\n",
       "12          NA       F       2\n",
       "13          NA       M       3"
      ]
     },
     "execution_count": 23,
     "metadata": {},
     "output_type": "execute_result"
    }
   ],
   "source": [
    "# plotar um grafico \n",
    "grafico = distribuicao_frequência_cor_raca.reset_index()\n",
    "grafico['TP_COR_RACA'] = grafico['TP_COR_RACA'].map({0: \"NA\",1: \"Branca\",2: \"Preta\",3: \"Parda\",4: \"Amarela\",5: \"Indígena\",6: \"NA\"})\n",
    "grafico"
   ]
  },
  {
   "cell_type": "code",
   "execution_count": 24,
   "id": "a90b8c11",
   "metadata": {},
   "outputs": [
    {
     "data": {
      "image/png": "[encoded data removed]",
      "text/plain": [
       "<Figure size 495.925x432 with 1 Axes>"
      ]
     },
     "metadata": {},
     "output_type": "display_data"
    }
   ],
   "source": [
    "sns.set_theme(style=\"whitegrid\")\n",
    "\n",
    "g = sns.catplot(\n",
    "    data=grafico, kind=\"bar\",\n",
    "    x=\"TP_COR_RACA\", y=\"Total\", hue=\"TP_SEXO\",\n",
    "   palette=\"dark\", alpha=.8, height=6)\n",
    "g.despine(left=True)\n",
    "g.set_axis_labels(\"\", \"Total\")\n",
    "g.legend.set_title(\"SEXO\")\n",
    "g.set(ylim=(0, 1000000))\n",
    "ax=ax"
   ]
  },
  {
   "cell_type": "markdown",
   "id": "b3edf84d",
   "metadata": {},
   "source": [
    "De acordo com grafico de distribuiçao podemos observar que Candidatos que se autodeclararam pardos são maioria entre outras Cores/Raças. \n",
    "\n",
    "Candidatos que se autodeclararam Brancos vem logo após como segunda Cor/Raça mais presente no Enem 2021. \n",
    "\n",
    "E logo despois os candidatos autodeclarados pretos com menos de 500.000 candidatos. \n",
    "\n",
    "\n",
    "Essa distribuição é bem semelhanete a que IBGE através da PNAD, Pesquisa Nacional por Amostra de Domicílios (PNAD Contínua) 2021, divulgou, que 43,0% dos brasileiros se declararam como brancos, 47,0% como pardos e 9,1% como pretos. \n",
    "\n",
    "\n"
   ]
  },
  {
   "cell_type": "markdown",
   "id": "757ea738",
   "metadata": {},
   "source": [
    "## 4) Quantos candidatos estrangeiros prestaram o Enem?"
   ]
  },
  {
   "cell_type": "markdown",
   "id": "9994c0d9",
   "metadata": {},
   "source": [
    "> ### 4.1) por frequência relativa"
   ]
  },
  {
   "cell_type": "code",
   "execution_count": 25,
   "id": "7b111c46",
   "metadata": {},
   "outputs": [
    {
     "data": {
      "text/html": [
       "<div>\n",
       "<style scoped>\n",
       "    .dataframe tbody tr th:only-of-type {\n",
       "        vertical-align: middle;\n",
       "    }\n",
       "\n",
       "    .dataframe tbody tr th {\n",
       "        vertical-align: top;\n",
       "    }\n",
       "\n",
       "    .dataframe thead th {\n",
       "        text-align: right;\n",
       "    }\n",
       "</style>\n",
       "<table border=\"1\" class=\"dataframe\">\n",
       "  <thead>\n",
       "    <tr style=\"text-align: right;\">\n",
       "      <th></th>\n",
       "      <th>Nacionalidade</th>\n",
       "      <th>Percentual(%)</th>\n",
       "    </tr>\n",
       "  </thead>\n",
       "  <tbody>\n",
       "    <tr>\n",
       "      <th>0</th>\n",
       "      <td>Brasileiro(a)</td>\n",
       "      <td>97.67</td>\n",
       "    </tr>\n",
       "    <tr>\n",
       "      <th>1</th>\n",
       "      <td>Brasileiro(a) Naturalizado(a)</td>\n",
       "      <td>1.93</td>\n",
       "    </tr>\n",
       "    <tr>\n",
       "      <th>2</th>\n",
       "      <td>Brasileiro(a) Nato(a), nascido(a) no exterior</td>\n",
       "      <td>0.19</td>\n",
       "    </tr>\n",
       "    <tr>\n",
       "      <th>3</th>\n",
       "      <td>Estrangeiro(a)</td>\n",
       "      <td>0.13</td>\n",
       "    </tr>\n",
       "    <tr>\n",
       "      <th>4</th>\n",
       "      <td>Não informado</td>\n",
       "      <td>0.07</td>\n",
       "    </tr>\n",
       "  </tbody>\n",
       "</table>\n",
       "</div>"
      ],
      "text/plain": [
       "                                   Nacionalidade  Percentual(%)\n",
       "0                                  Brasileiro(a)          97.67\n",
       "1                  Brasileiro(a) Naturalizado(a)           1.93\n",
       "2  Brasileiro(a) Nato(a), nascido(a) no exterior           0.19\n",
       "3                                 Estrangeiro(a)           0.13\n",
       "4                                  Não informado           0.07"
      ]
     },
     "execution_count": 25,
     "metadata": {},
     "output_type": "execute_result"
    }
   ],
   "source": [
    "nacionalidade_frequencia_relativa = (dados_enem['TP_NACIONALIDADE'].value_counts(normalize = True)*100).to_frame().reset_index().round(2)\n",
    "nacionalidade_frequencia_relativa.columns = ['Nacionalidade', 'Percentual(%)']\n",
    "nacionalidade_frequencia_relativa['Nacionalidade'] = nacionalidade_frequencia_relativa['Nacionalidade'].map({1: \"Brasileiro(a)\", 2: \"Brasileiro(a) Naturalizado(a)\",\n",
    "                                                                                                             4: \"Brasileiro(a) Nato(a), nascido(a) no exterior\", \n",
    "                                                                                                             3: \"Estrangeiro(a)\", 0: \"Não informado\"})\n",
    "nacionalidade_frequencia_relativa"
   ]
  },
  {
   "cell_type": "markdown",
   "id": "d414ec08",
   "metadata": {},
   "source": [
    "> ### 4.2) por frequência absoluta"
   ]
  },
  {
   "cell_type": "code",
   "execution_count": 26,
   "id": "acd02533",
   "metadata": {},
   "outputs": [
    {
     "data": {
      "text/html": [
       "<div>\n",
       "<style scoped>\n",
       "    .dataframe tbody tr th:only-of-type {\n",
       "        vertical-align: middle;\n",
       "    }\n",
       "\n",
       "    .dataframe tbody tr th {\n",
       "        vertical-align: top;\n",
       "    }\n",
       "\n",
       "    .dataframe thead th {\n",
       "        text-align: right;\n",
       "    }\n",
       "</style>\n",
       "<table border=\"1\" class=\"dataframe\">\n",
       "  <thead>\n",
       "    <tr style=\"text-align: right;\">\n",
       "      <th></th>\n",
       "      <th>Nacionalidade</th>\n",
       "      <th>Total</th>\n",
       "    </tr>\n",
       "  </thead>\n",
       "  <tbody>\n",
       "    <tr>\n",
       "      <th>0</th>\n",
       "      <td>Brasileiro(a)</td>\n",
       "      <td>3310876</td>\n",
       "    </tr>\n",
       "    <tr>\n",
       "      <th>1</th>\n",
       "      <td>Brasileiro(a) Naturalizado(a)</td>\n",
       "      <td>65525</td>\n",
       "    </tr>\n",
       "    <tr>\n",
       "      <th>2</th>\n",
       "      <td>Brasileiro(a) Nato(a), nascido(a) no exterior</td>\n",
       "      <td>6526</td>\n",
       "    </tr>\n",
       "    <tr>\n",
       "      <th>3</th>\n",
       "      <td>Estrangeiro(a)</td>\n",
       "      <td>4562</td>\n",
       "    </tr>\n",
       "    <tr>\n",
       "      <th>4</th>\n",
       "      <td>Não informado</td>\n",
       "      <td>2343</td>\n",
       "    </tr>\n",
       "  </tbody>\n",
       "</table>\n",
       "</div>"
      ],
      "text/plain": [
       "                                   Nacionalidade    Total\n",
       "0                                  Brasileiro(a)  3310876\n",
       "1                  Brasileiro(a) Naturalizado(a)    65525\n",
       "2  Brasileiro(a) Nato(a), nascido(a) no exterior     6526\n",
       "3                                 Estrangeiro(a)     4562\n",
       "4                                  Não informado     2343"
      ]
     },
     "execution_count": 26,
     "metadata": {},
     "output_type": "execute_result"
    }
   ],
   "source": [
    "nacionalidade_frequencia_absoluta = dados_enem['TP_NACIONALIDADE'].value_counts().to_frame().reset_index()\n",
    "nacionalidade_frequencia_absoluta.columns  = [\"Nacionalidade\", \"Total\"]\n",
    "nacionalidade_frequencia_absoluta[\"Nacionalidade\"] = nacionalidade_frequencia_absoluta[\"Nacionalidade\"].map({0: \"Não informado\", 1: \"Brasileiro(a)\", 2: \"Brasileiro(a) Naturalizado(a)\",\n",
    "                                                                                                             3: \"Estrangeiro(a)\", 4: \"Brasileiro(a) Nato(a), nascido(a) no exterior\"})\n",
    "nacionalidade_frequencia_absoluta"
   ]
  },
  {
   "cell_type": "code",
   "execution_count": 27,
   "id": "189739b7",
   "metadata": {},
   "outputs": [
    {
     "data": {
      "text/html": [
       "<div>\n",
       "<style scoped>\n",
       "    .dataframe tbody tr th:only-of-type {\n",
       "        vertical-align: middle;\n",
       "    }\n",
       "\n",
       "    .dataframe tbody tr th {\n",
       "        vertical-align: top;\n",
       "    }\n",
       "\n",
       "    .dataframe thead th {\n",
       "        text-align: right;\n",
       "    }\n",
       "</style>\n",
       "<table border=\"1\" class=\"dataframe\">\n",
       "  <thead>\n",
       "    <tr style=\"text-align: right;\">\n",
       "      <th></th>\n",
       "      <th>TP_NACIONALIDADE</th>\n",
       "    </tr>\n",
       "    <tr>\n",
       "      <th>TP_FAIXA_ETARIA</th>\n",
       "      <th></th>\n",
       "    </tr>\n",
       "  </thead>\n",
       "  <tbody>\n",
       "    <tr>\n",
       "      <th>1</th>\n",
       "      <td>117</td>\n",
       "    </tr>\n",
       "    <tr>\n",
       "      <th>2</th>\n",
       "      <td>537</td>\n",
       "    </tr>\n",
       "    <tr>\n",
       "      <th>3</th>\n",
       "      <td>721</td>\n",
       "    </tr>\n",
       "    <tr>\n",
       "      <th>4</th>\n",
       "      <td>312</td>\n",
       "    </tr>\n",
       "    <tr>\n",
       "      <th>5</th>\n",
       "      <td>195</td>\n",
       "    </tr>\n",
       "    <tr>\n",
       "      <th>6</th>\n",
       "      <td>97</td>\n",
       "    </tr>\n",
       "    <tr>\n",
       "      <th>7</th>\n",
       "      <td>50</td>\n",
       "    </tr>\n",
       "    <tr>\n",
       "      <th>8</th>\n",
       "      <td>30</td>\n",
       "    </tr>\n",
       "    <tr>\n",
       "      <th>9</th>\n",
       "      <td>27</td>\n",
       "    </tr>\n",
       "    <tr>\n",
       "      <th>10</th>\n",
       "      <td>22</td>\n",
       "    </tr>\n",
       "    <tr>\n",
       "      <th>11</th>\n",
       "      <td>84</td>\n",
       "    </tr>\n",
       "    <tr>\n",
       "      <th>12</th>\n",
       "      <td>55</td>\n",
       "    </tr>\n",
       "    <tr>\n",
       "      <th>13</th>\n",
       "      <td>40</td>\n",
       "    </tr>\n",
       "    <tr>\n",
       "      <th>14</th>\n",
       "      <td>31</td>\n",
       "    </tr>\n",
       "    <tr>\n",
       "      <th>15</th>\n",
       "      <td>14</td>\n",
       "    </tr>\n",
       "    <tr>\n",
       "      <th>16</th>\n",
       "      <td>7</td>\n",
       "    </tr>\n",
       "    <tr>\n",
       "      <th>17</th>\n",
       "      <td>4</td>\n",
       "    </tr>\n",
       "  </tbody>\n",
       "</table>\n",
       "</div>"
      ],
      "text/plain": [
       "                 TP_NACIONALIDADE\n",
       "TP_FAIXA_ETARIA                  \n",
       "1                             117\n",
       "2                             537\n",
       "3                             721\n",
       "4                             312\n",
       "5                             195\n",
       "6                              97\n",
       "7                              50\n",
       "8                              30\n",
       "9                              27\n",
       "10                             22\n",
       "11                             84\n",
       "12                             55\n",
       "13                             40\n",
       "14                             31\n",
       "15                             14\n",
       "16                              7\n",
       "17                              4"
      ]
     },
     "execution_count": 27,
     "metadata": {},
     "output_type": "execute_result"
    }
   ],
   "source": [
    "dados_enem[['TP_NACIONALIDADE','TP_FAIXA_ETARIA']].query(\"TP_NACIONALIDADE == 0\").groupby('TP_FAIXA_ETARIA').count()"
   ]
  },
  {
   "cell_type": "code",
   "execution_count": 28,
   "id": "fd4eaaf3",
   "metadata": {},
   "outputs": [
    {
     "data": {
      "text/plain": [
       "<AxesSubplot:ylabel='TP_FAIXA_ETARIA'>"
      ]
     },
     "execution_count": 28,
     "metadata": {},
     "output_type": "execute_result"
    },
    {
     "data": {
      "image/png": "[encoded data removed]",
      "text/plain": [
       "<Figure size 432x288 with 1 Axes>"
      ]
     },
     "metadata": {},
     "output_type": "display_data"
    }
   ],
   "source": [
    "dados_enem[['TP_NACIONALIDADE','TP_FAIXA_ETARIA']].query(\"TP_NACIONALIDADE == 2\").groupby('TP_FAIXA_ETARIA').count().plot(kind = \"barh\")"
   ]
  },
  {
   "cell_type": "markdown",
   "id": "7d5ccb23",
   "metadata": {},
   "source": [
    "97% dos candidatos são brasileiros. Quase 2% dos candidatos são naturalizados. Os brasileiros naturalizados também poderiam sinalizar no questionário que são brasileiros pois a opção brasileiro(a) não faz diferença entre natos e naturalizados. 0.19% declararam ser Brasileiro Nato, porém nascido no exterior e 0.13% se declarou estrangeiro.\n",
    "\n",
    "Explorando as idades dos candidatos Brasileiro Naturalizados podemos observar que eles estão presentes em todas as faixa etaria e maior número estão nas idades  de 18 e 19 anos. "
   ]
  },
  {
   "cell_type": "markdown",
   "id": "72caede2",
   "metadata": {},
   "source": [
    "## 5) Qual a média das notas em matemática, Português,e Redação de acordo com escolaridade do Pai e da Mãe?\n"
   ]
  },
  {
   "cell_type": "code",
   "execution_count": 29,
   "id": "9d255426",
   "metadata": {},
   "outputs": [],
   "source": [
    "#definindo um dicionario para visualizar melhor o resultado\n",
    "\n",
    "dicionarioq01q02 = {'A': 'Nunca estudou',\n",
    "'B': 'Não completou a 4ª série/5º ano do Ensino Fundamental',\n",
    "'C': 'Completou a 4ª série/5º ano, mas não completou a 8ª série/9º ano do Ensino Fundamental',\n",
    "'D': 'Completou a 8ª série/9º ano do Ensino Fundamental, mas não completou o Ensino Médio',\n",
    "'E': 'Completou o Ensino Médio, mas não completou a Faculdade',\n",
    "'F': 'Completou a Faculdade, mas não completou a Pós-graduação',\n",
    "'G': 'Completou a Pós-graduação',\n",
    "'H':'Não sei'}\n",
    "dicionarioq24 = {\"A\": \"Não\", \"B\": \"Sim,um\",\"C\":\"Sim, dois\",\"D\":\"Sim, três\",\"E\":\"Sim, quatro ou mais\"}\n",
    "dicionarioq25 = {\"A\":\"Não\",\"B\":\"Sim\"}"
   ]
  },
  {
   "cell_type": "code",
   "execution_count": 30,
   "id": "468444e7",
   "metadata": {},
   "outputs": [
    {
     "data": {
      "text/html": [
       "<div>\n",
       "<style scoped>\n",
       "    .dataframe tbody tr th:only-of-type {\n",
       "        vertical-align: middle;\n",
       "    }\n",
       "\n",
       "    .dataframe tbody tr th {\n",
       "        vertical-align: top;\n",
       "    }\n",
       "\n",
       "    .dataframe thead th {\n",
       "        text-align: right;\n",
       "    }\n",
       "</style>\n",
       "<table border=\"1\" class=\"dataframe\">\n",
       "  <thead>\n",
       "    <tr style=\"text-align: right;\">\n",
       "      <th></th>\n",
       "      <th>NU_INSCRICAO</th>\n",
       "      <th>NU_NOTA_MT</th>\n",
       "      <th>NU_NOTA_LC</th>\n",
       "      <th>NU_NOTA_REDACAO</th>\n",
       "      <th>Q001</th>\n",
       "      <th>Q002</th>\n",
       "      <th>Q024</th>\n",
       "      <th>Q025</th>\n",
       "    </tr>\n",
       "  </thead>\n",
       "  <tbody>\n",
       "    <tr>\n",
       "      <th>1</th>\n",
       "      <td>210052384164</td>\n",
       "      <td>461.5</td>\n",
       "      <td>498.3</td>\n",
       "      <td>560.0</td>\n",
       "      <td>B</td>\n",
       "      <td>B</td>\n",
       "      <td>A</td>\n",
       "      <td>A</td>\n",
       "    </tr>\n",
       "    <tr>\n",
       "      <th>3</th>\n",
       "      <td>210052128335</td>\n",
       "      <td>659.5</td>\n",
       "      <td>638.9</td>\n",
       "      <td>780.0</td>\n",
       "      <td>B</td>\n",
       "      <td>B</td>\n",
       "      <td>B</td>\n",
       "      <td>B</td>\n",
       "    </tr>\n",
       "    <tr>\n",
       "      <th>4</th>\n",
       "      <td>210051353021</td>\n",
       "      <td>582.6</td>\n",
       "      <td>457.6</td>\n",
       "      <td>780.0</td>\n",
       "      <td>D</td>\n",
       "      <td>E</td>\n",
       "      <td>B</td>\n",
       "      <td>B</td>\n",
       "    </tr>\n",
       "    <tr>\n",
       "      <th>8</th>\n",
       "      <td>210053417016</td>\n",
       "      <td>493.4</td>\n",
       "      <td>450.7</td>\n",
       "      <td>520.0</td>\n",
       "      <td>B</td>\n",
       "      <td>B</td>\n",
       "      <td>A</td>\n",
       "      <td>B</td>\n",
       "    </tr>\n",
       "    <tr>\n",
       "      <th>9</th>\n",
       "      <td>210051128744</td>\n",
       "      <td>413.3</td>\n",
       "      <td>494.6</td>\n",
       "      <td>380.0</td>\n",
       "      <td>D</td>\n",
       "      <td>D</td>\n",
       "      <td>A</td>\n",
       "      <td>B</td>\n",
       "    </tr>\n",
       "  </tbody>\n",
       "</table>\n",
       "</div>"
      ],
      "text/plain": [
       "   NU_INSCRICAO  NU_NOTA_MT  NU_NOTA_LC  NU_NOTA_REDACAO Q001 Q002 Q024 Q025\n",
       "1  210052384164       461.5       498.3            560.0    B    B    A    A\n",
       "3  210052128335       659.5       638.9            780.0    B    B    B    B\n",
       "4  210051353021       582.6       457.6            780.0    D    E    B    B\n",
       "8  210053417016       493.4       450.7            520.0    B    B    A    B\n",
       "9  210051128744       413.3       494.6            380.0    D    D    A    B"
      ]
     },
     "execution_count": 30,
     "metadata": {},
     "output_type": "execute_result"
    }
   ],
   "source": [
    "colunasselecionadas = ['NU_INSCRICAO','NU_NOTA_MT', 'NU_NOTA_LC','NU_NOTA_REDACAO','Q001', 'Q002','Q024', 'Q025']\n",
    "microdadosenemselecionado = dados_selecionado.filter(items = colunasselecionadas)\n",
    "microdadosenemselecionado = microdadosenemselecionado.dropna()\n",
    "microdadosenemselecionado.head()"
   ]
  },
  {
   "cell_type": "code",
   "execution_count": 31,
   "id": "b8e9ab03",
   "metadata": {},
   "outputs": [],
   "source": [
    "microdadosenemselecionado['NO_Q001'] = [dicionarioq01q02[resp] for resp in microdadosenemselecionado.Q001]\n",
    "microdadosenemselecionado['NO_Q002'] = [dicionarioq01q02[resp] for resp in microdadosenemselecionado.Q002]\n",
    "microdadosenemselecionado['NO_Q024'] = [dicionarioq24[resp] for resp in microdadosenemselecionado.Q024]\n",
    "microdadosenemselecionado['NO_Q025'] = [dicionarioq25[resp] for resp in microdadosenemselecionado.Q025] "
   ]
  },
  {
   "cell_type": "code",
   "execution_count": 32,
   "id": "415e4f6b",
   "metadata": {
    "scrolled": true
   },
   "outputs": [
    {
     "data": {
      "text/html": [
       "<div>\n",
       "<style scoped>\n",
       "    .dataframe tbody tr th:only-of-type {\n",
       "        vertical-align: middle;\n",
       "    }\n",
       "\n",
       "    .dataframe tbody tr th {\n",
       "        vertical-align: top;\n",
       "    }\n",
       "\n",
       "    .dataframe thead th {\n",
       "        text-align: right;\n",
       "    }\n",
       "</style>\n",
       "<table border=\"1\" class=\"dataframe\">\n",
       "  <thead>\n",
       "    <tr style=\"text-align: right;\">\n",
       "      <th></th>\n",
       "      <th>NU_INSCRICAO</th>\n",
       "      <th>NU_NOTA_MT</th>\n",
       "      <th>NU_NOTA_LC</th>\n",
       "      <th>NU_NOTA_REDACAO</th>\n",
       "      <th>Q001</th>\n",
       "      <th>Q002</th>\n",
       "      <th>Q024</th>\n",
       "      <th>Q025</th>\n",
       "      <th>NO_Q001</th>\n",
       "      <th>NO_Q002</th>\n",
       "      <th>NO_Q024</th>\n",
       "      <th>NO_Q025</th>\n",
       "    </tr>\n",
       "  </thead>\n",
       "  <tbody>\n",
       "    <tr>\n",
       "      <th>1</th>\n",
       "      <td>210052384164</td>\n",
       "      <td>461.5</td>\n",
       "      <td>498.3</td>\n",
       "      <td>560.0</td>\n",
       "      <td>B</td>\n",
       "      <td>B</td>\n",
       "      <td>A</td>\n",
       "      <td>A</td>\n",
       "      <td>Não completou a 4ª série/5º ano do Ensino Fund...</td>\n",
       "      <td>Não completou a 4ª série/5º ano do Ensino Fund...</td>\n",
       "      <td>Não</td>\n",
       "      <td>Não</td>\n",
       "    </tr>\n",
       "    <tr>\n",
       "      <th>3</th>\n",
       "      <td>210052128335</td>\n",
       "      <td>659.5</td>\n",
       "      <td>638.9</td>\n",
       "      <td>780.0</td>\n",
       "      <td>B</td>\n",
       "      <td>B</td>\n",
       "      <td>B</td>\n",
       "      <td>B</td>\n",
       "      <td>Não completou a 4ª série/5º ano do Ensino Fund...</td>\n",
       "      <td>Não completou a 4ª série/5º ano do Ensino Fund...</td>\n",
       "      <td>Sim,um</td>\n",
       "      <td>Sim</td>\n",
       "    </tr>\n",
       "    <tr>\n",
       "      <th>4</th>\n",
       "      <td>210051353021</td>\n",
       "      <td>582.6</td>\n",
       "      <td>457.6</td>\n",
       "      <td>780.0</td>\n",
       "      <td>D</td>\n",
       "      <td>E</td>\n",
       "      <td>B</td>\n",
       "      <td>B</td>\n",
       "      <td>Completou a 8ª série/9º ano do Ensino Fundamen...</td>\n",
       "      <td>Completou o Ensino Médio, mas não completou a ...</td>\n",
       "      <td>Sim,um</td>\n",
       "      <td>Sim</td>\n",
       "    </tr>\n",
       "    <tr>\n",
       "      <th>8</th>\n",
       "      <td>210053417016</td>\n",
       "      <td>493.4</td>\n",
       "      <td>450.7</td>\n",
       "      <td>520.0</td>\n",
       "      <td>B</td>\n",
       "      <td>B</td>\n",
       "      <td>A</td>\n",
       "      <td>B</td>\n",
       "      <td>Não completou a 4ª série/5º ano do Ensino Fund...</td>\n",
       "      <td>Não completou a 4ª série/5º ano do Ensino Fund...</td>\n",
       "      <td>Não</td>\n",
       "      <td>Sim</td>\n",
       "    </tr>\n",
       "    <tr>\n",
       "      <th>9</th>\n",
       "      <td>210051128744</td>\n",
       "      <td>413.3</td>\n",
       "      <td>494.6</td>\n",
       "      <td>380.0</td>\n",
       "      <td>D</td>\n",
       "      <td>D</td>\n",
       "      <td>A</td>\n",
       "      <td>B</td>\n",
       "      <td>Completou a 8ª série/9º ano do Ensino Fundamen...</td>\n",
       "      <td>Completou a 8ª série/9º ano do Ensino Fundamen...</td>\n",
       "      <td>Não</td>\n",
       "      <td>Sim</td>\n",
       "    </tr>\n",
       "  </tbody>\n",
       "</table>\n",
       "</div>"
      ],
      "text/plain": [
       "   NU_INSCRICAO  NU_NOTA_MT  NU_NOTA_LC  NU_NOTA_REDACAO Q001 Q002 Q024 Q025  \\\n",
       "1  210052384164       461.5       498.3            560.0    B    B    A    A   \n",
       "3  210052128335       659.5       638.9            780.0    B    B    B    B   \n",
       "4  210051353021       582.6       457.6            780.0    D    E    B    B   \n",
       "8  210053417016       493.4       450.7            520.0    B    B    A    B   \n",
       "9  210051128744       413.3       494.6            380.0    D    D    A    B   \n",
       "\n",
       "                                             NO_Q001  \\\n",
       "1  Não completou a 4ª série/5º ano do Ensino Fund...   \n",
       "3  Não completou a 4ª série/5º ano do Ensino Fund...   \n",
       "4  Completou a 8ª série/9º ano do Ensino Fundamen...   \n",
       "8  Não completou a 4ª série/5º ano do Ensino Fund...   \n",
       "9  Completou a 8ª série/9º ano do Ensino Fundamen...   \n",
       "\n",
       "                                             NO_Q002 NO_Q024 NO_Q025  \n",
       "1  Não completou a 4ª série/5º ano do Ensino Fund...     Não     Não  \n",
       "3  Não completou a 4ª série/5º ano do Ensino Fund...  Sim,um     Sim  \n",
       "4  Completou o Ensino Médio, mas não completou a ...  Sim,um     Sim  \n",
       "8  Não completou a 4ª série/5º ano do Ensino Fund...     Não     Sim  \n",
       "9  Completou a 8ª série/9º ano do Ensino Fundamen...     Não     Sim  "
      ]
     },
     "execution_count": 32,
     "metadata": {},
     "output_type": "execute_result"
    }
   ],
   "source": [
    "microdadosenemselecionado.head()"
   ]
  },
  {
   "cell_type": "markdown",
   "id": "9a555364",
   "metadata": {},
   "source": [
    "## 6) Qual a média das notas em Matemática, Português, e Redação de acordo com escolaridade do Pai e da Mãe?"
   ]
  },
  {
   "cell_type": "code",
   "execution_count": 33,
   "id": "20c1bdb7",
   "metadata": {},
   "outputs": [
    {
     "data": {
      "image/png": "[encoded data removed]",
      "text/plain": [
       "<Figure size 432x288 with 1 Axes>"
      ]
     },
     "metadata": {},
     "output_type": "display_data"
    }
   ],
   "source": [
    "# Desempenho em Matemática em relação à escolidade do PAI\n",
    "grafico_nota_matematica_p = microdadosenemselecionado.filter(items=['NU_NOTA_MT', 'NO_Q001']).groupby('NO_Q001').mean().sort_values(by='NU_NOTA_MT', ascending= True)\n",
    "ax = grafico_nota_matematica_p.plot(kind = 'barh', colormap = 'twilight_shifted',legend = False)\n",
    "ax.set_title(\"Nota Matemática x Escolaridade em relação ao Pai\", fontsize = 15)\n",
    "ax=ax"
   ]
  },
  {
   "cell_type": "code",
   "execution_count": 34,
   "id": "a89f9f79",
   "metadata": {},
   "outputs": [
    {
     "data": {
      "text/plain": [
       "Text(0.5, 1.0, 'Nota Matemática x Escolaridade da Mãe')"
      ]
     },
     "execution_count": 34,
     "metadata": {},
     "output_type": "execute_result"
    },
    {
     "data": {
      "image/png": "[encoded data removed]",
      "text/plain": [
       "<Figure size 432x288 with 1 Axes>"
      ]
     },
     "metadata": {},
     "output_type": "display_data"
    }
   ],
   "source": [
    "# Desempenho em Matemática em relação à escolidade do Mãe\n",
    "\n",
    "grafico_nota_matematica_m = microdadosenemselecionado.filter(items=['NU_NOTA_MT', 'NO_Q002']).groupby('NO_Q002').mean().sort_values(by='NU_NOTA_MT', ascending= True)\n",
    "ax = grafico_nota_matematica_m.plot(kind = \"barh\", colormap = \"pink\", legend = False)\n",
    "ax.set_title(\"Nota Matemática x Escolaridade da Mãe\", fontsize = 15)"
   ]
  },
  {
   "cell_type": "code",
   "execution_count": 35,
   "id": "f80341fa",
   "metadata": {},
   "outputs": [
    {
     "data": {
      "image/png": "[encoded data removed]",
      "text/plain": [
       "<Figure size 432x288 with 1 Axes>"
      ]
     },
     "metadata": {},
     "output_type": "display_data"
    }
   ],
   "source": [
    "# Desempenho em Português em relação à escolidade do PAI\n",
    "grafico_nota_portugues_p = microdadosenemselecionado.filter(items=['NU_NOTA_LC', 'NO_Q001']).groupby('NO_Q001').mean().sort_values(by='NU_NOTA_LC', ascending= True)\n",
    "ax = grafico_nota_portugues_p.plot(kind = \"barh\", colormap = \"vlag\", legend = False)\n",
    "ax.set_title(\"Nota Lingua Portuguesa x Escolaridade da Pai\", fontsize = 15)\n",
    "ax=ax"
   ]
  },
  {
   "cell_type": "code",
   "execution_count": 36,
   "id": "da76d352",
   "metadata": {},
   "outputs": [
    {
     "data": {
      "image/png": "[encoded data removed]",
      "text/plain": [
       "<Figure size 432x288 with 1 Axes>"
      ]
     },
     "metadata": {},
     "output_type": "display_data"
    }
   ],
   "source": [
    "# Desempenho em Português em relação à escolidade do Mãe\n",
    "grafico_nota_portugues_m = microdadosenemselecionado.filter(items=['NU_NOTA_LC', 'NO_Q002']).groupby('NO_Q002').mean().sort_values(by='NU_NOTA_LC', ascending= True)\n",
    "ax = grafico_nota_portugues_m.plot(kind = \"barh\", colormap = \"summer\", legend = False)\n",
    "ax.set_title(\"Nota Lingua Portuguesa x Escolaridade da Mãe\", fontsize = 15)\n",
    "ax=ax"
   ]
  },
  {
   "cell_type": "code",
   "execution_count": 37,
   "id": "f66130b4",
   "metadata": {},
   "outputs": [
    {
     "data": {
      "image/png": "[encoded data removed]",
      "text/plain": [
       "<Figure size 432x288 with 1 Axes>"
      ]
     },
     "metadata": {},
     "output_type": "display_data"
    }
   ],
   "source": [
    "# Desempenho em Redação em relação à escolidade do Pai\n",
    "grafico_nota_redacao_p = microdadosenemselecionado.filter(items=['NU_NOTA_REDACAO', 'NO_Q001']).groupby('NO_Q001').mean().sort_values(by='NU_NOTA_REDACAO', ascending= True)\n",
    "ax = grafico_nota_portugues_p.plot(kind = \"barh\", colormap = \"magma\", legend = False)\n",
    "ax.set_title(\"Nota Redação x Escolaridade da Pai\", fontsize = 15)\n",
    "ax=ax"
   ]
  },
  {
   "cell_type": "code",
   "execution_count": 38,
   "id": "62ff7376",
   "metadata": {},
   "outputs": [
    {
     "data": {
      "text/plain": [
       "Text(0.5, 1.0, 'Nota Lingua Portuguesa x Escolaridade da Mãe')"
      ]
     },
     "execution_count": 38,
     "metadata": {},
     "output_type": "execute_result"
    },
    {
     "data": {
      "image/png": "[encoded data removed]",
      "text/plain": [
       "<Figure size 432x288 with 1 Axes>"
      ]
     },
     "metadata": {},
     "output_type": "display_data"
    }
   ],
   "source": [
    "# Desempenho em Redação em relação à escolidade do Pai\n",
    "grafico_nota_recacao_m = microdadosenemselecionado.filter(items=['NU_NOTA_REDACAO', 'NO_Q002']).groupby('NO_Q002').mean().sort_values(by='NU_NOTA_REDACAO', ascending= True)\n",
    "ax = grafico_nota_portugues_m.plot(kind = \"barh\", colormap = \"copper\", legend = False)\n",
    "ax.set_title(\"Nota Lingua Portuguesa x Escolaridade da Mãe\", fontsize = 15)"
   ]
  },
  {
   "cell_type": "markdown",
   "id": "ff358f52",
   "metadata": {},
   "source": [
    "Analisando as médias das notas em Lingua Portguesa, Mátemática e Redação foi verificado que quanto maior a escolaridade dos pais \n",
    "melhor é o desempenho do candidato.\n",
    "\n",
    "Em relação a nota de matemática, foi observado uma diferença entre as medias um pouco acentuada quando os pais já completou a Pós-Graduação e Completou a facultadade, mas não completou a Pós-Graduação. "
   ]
  },
  {
   "cell_type": "markdown",
   "id": "31183b61",
   "metadata": {},
   "source": [
    "## 7) Qual relação da nota com o acesso a internet e ter um computador em casa?"
   ]
  },
  {
   "cell_type": "code",
   "execution_count": 39,
   "id": "3e9e3e74",
   "metadata": {},
   "outputs": [
    {
     "data": {
      "text/html": [
       "<div>\n",
       "<style scoped>\n",
       "    .dataframe tbody tr th:only-of-type {\n",
       "        vertical-align: middle;\n",
       "    }\n",
       "\n",
       "    .dataframe tbody tr th {\n",
       "        vertical-align: top;\n",
       "    }\n",
       "\n",
       "    .dataframe thead th {\n",
       "        text-align: right;\n",
       "    }\n",
       "</style>\n",
       "<table border=\"1\" class=\"dataframe\">\n",
       "  <thead>\n",
       "    <tr style=\"text-align: right;\">\n",
       "      <th></th>\n",
       "      <th>NU_INSCRICAO</th>\n",
       "      <th>NU_NOTA_MT</th>\n",
       "      <th>NU_NOTA_LC</th>\n",
       "      <th>NU_NOTA_REDACAO</th>\n",
       "      <th>NO_Q024</th>\n",
       "      <th>NO_Q025</th>\n",
       "    </tr>\n",
       "  </thead>\n",
       "  <tbody>\n",
       "    <tr>\n",
       "      <th>1</th>\n",
       "      <td>210052384164</td>\n",
       "      <td>461.5</td>\n",
       "      <td>498.3</td>\n",
       "      <td>560.0</td>\n",
       "      <td>Não</td>\n",
       "      <td>Não</td>\n",
       "    </tr>\n",
       "    <tr>\n",
       "      <th>3</th>\n",
       "      <td>210052128335</td>\n",
       "      <td>659.5</td>\n",
       "      <td>638.9</td>\n",
       "      <td>780.0</td>\n",
       "      <td>Sim,um</td>\n",
       "      <td>Sim</td>\n",
       "    </tr>\n",
       "    <tr>\n",
       "      <th>4</th>\n",
       "      <td>210051353021</td>\n",
       "      <td>582.6</td>\n",
       "      <td>457.6</td>\n",
       "      <td>780.0</td>\n",
       "      <td>Sim,um</td>\n",
       "      <td>Sim</td>\n",
       "    </tr>\n",
       "    <tr>\n",
       "      <th>8</th>\n",
       "      <td>210053417016</td>\n",
       "      <td>493.4</td>\n",
       "      <td>450.7</td>\n",
       "      <td>520.0</td>\n",
       "      <td>Não</td>\n",
       "      <td>Sim</td>\n",
       "    </tr>\n",
       "    <tr>\n",
       "      <th>9</th>\n",
       "      <td>210051128744</td>\n",
       "      <td>413.3</td>\n",
       "      <td>494.6</td>\n",
       "      <td>380.0</td>\n",
       "      <td>Não</td>\n",
       "      <td>Sim</td>\n",
       "    </tr>\n",
       "    <tr>\n",
       "      <th>...</th>\n",
       "      <td>...</td>\n",
       "      <td>...</td>\n",
       "      <td>...</td>\n",
       "      <td>...</td>\n",
       "      <td>...</td>\n",
       "      <td>...</td>\n",
       "    </tr>\n",
       "    <tr>\n",
       "      <th>3389793</th>\n",
       "      <td>210054306230</td>\n",
       "      <td>450.4</td>\n",
       "      <td>416.3</td>\n",
       "      <td>240.0</td>\n",
       "      <td>Sim,um</td>\n",
       "      <td>Sim</td>\n",
       "    </tr>\n",
       "    <tr>\n",
       "      <th>3389807</th>\n",
       "      <td>210051254419</td>\n",
       "      <td>399.2</td>\n",
       "      <td>534.7</td>\n",
       "      <td>320.0</td>\n",
       "      <td>Sim,um</td>\n",
       "      <td>Sim</td>\n",
       "    </tr>\n",
       "    <tr>\n",
       "      <th>3389814</th>\n",
       "      <td>210051121001</td>\n",
       "      <td>678.0</td>\n",
       "      <td>631.0</td>\n",
       "      <td>640.0</td>\n",
       "      <td>Sim, dois</td>\n",
       "      <td>Sim</td>\n",
       "    </tr>\n",
       "    <tr>\n",
       "      <th>3389815</th>\n",
       "      <td>210051173067</td>\n",
       "      <td>370.0</td>\n",
       "      <td>466.3</td>\n",
       "      <td>540.0</td>\n",
       "      <td>Não</td>\n",
       "      <td>Sim</td>\n",
       "    </tr>\n",
       "    <tr>\n",
       "      <th>3389830</th>\n",
       "      <td>210051139675</td>\n",
       "      <td>706.4</td>\n",
       "      <td>550.7</td>\n",
       "      <td>660.0</td>\n",
       "      <td>Sim, dois</td>\n",
       "      <td>Sim</td>\n",
       "    </tr>\n",
       "  </tbody>\n",
       "</table>\n",
       "<p>2238106 rows × 6 columns</p>\n",
       "</div>"
      ],
      "text/plain": [
       "         NU_INSCRICAO  NU_NOTA_MT  NU_NOTA_LC  NU_NOTA_REDACAO    NO_Q024  \\\n",
       "1        210052384164       461.5       498.3            560.0        Não   \n",
       "3        210052128335       659.5       638.9            780.0     Sim,um   \n",
       "4        210051353021       582.6       457.6            780.0     Sim,um   \n",
       "8        210053417016       493.4       450.7            520.0        Não   \n",
       "9        210051128744       413.3       494.6            380.0        Não   \n",
       "...               ...         ...         ...              ...        ...   \n",
       "3389793  210054306230       450.4       416.3            240.0     Sim,um   \n",
       "3389807  210051254419       399.2       534.7            320.0     Sim,um   \n",
       "3389814  210051121001       678.0       631.0            640.0  Sim, dois   \n",
       "3389815  210051173067       370.0       466.3            540.0        Não   \n",
       "3389830  210051139675       706.4       550.7            660.0  Sim, dois   \n",
       "\n",
       "        NO_Q025  \n",
       "1           Não  \n",
       "3           Sim  \n",
       "4           Sim  \n",
       "8           Sim  \n",
       "9           Sim  \n",
       "...         ...  \n",
       "3389793     Sim  \n",
       "3389807     Sim  \n",
       "3389814     Sim  \n",
       "3389815     Sim  \n",
       "3389830     Sim  \n",
       "\n",
       "[2238106 rows x 6 columns]"
      ]
     },
     "execution_count": 39,
     "metadata": {},
     "output_type": "execute_result"
    }
   ],
   "source": [
    "microdadosenemselecionado[[\"NU_INSCRICAO\",\"NU_NOTA_MT\",\"NU_NOTA_LC\",\"NU_NOTA_REDACAO\",\"NO_Q024\",\"NO_Q025\"]]\n",
    "\n"
   ]
  },
  {
   "cell_type": "markdown",
   "id": "9cad5ece",
   "metadata": {},
   "source": [
    ">> <b>7.1) Candidatos com/sem acesso a internet e a relação da media das notas de Matemática Portugues e Redação?</b>"
   ]
  },
  {
   "cell_type": "code",
   "execution_count": 40,
   "id": "18a46c3c",
   "metadata": {},
   "outputs": [
    {
     "data": {
      "text/html": [
       "<div>\n",
       "<style scoped>\n",
       "    .dataframe tbody tr th:only-of-type {\n",
       "        vertical-align: middle;\n",
       "    }\n",
       "\n",
       "    .dataframe tbody tr th {\n",
       "        vertical-align: top;\n",
       "    }\n",
       "\n",
       "    .dataframe thead th {\n",
       "        text-align: right;\n",
       "    }\n",
       "</style>\n",
       "<table border=\"1\" class=\"dataframe\">\n",
       "  <thead>\n",
       "    <tr style=\"text-align: right;\">\n",
       "      <th></th>\n",
       "      <th>acesso_internet</th>\n",
       "      <th>%_Percentual</th>\n",
       "    </tr>\n",
       "  </thead>\n",
       "  <tbody>\n",
       "    <tr>\n",
       "      <th>0</th>\n",
       "      <td>Sim</td>\n",
       "      <td>92.0</td>\n",
       "    </tr>\n",
       "    <tr>\n",
       "      <th>1</th>\n",
       "      <td>Não</td>\n",
       "      <td>8.0</td>\n",
       "    </tr>\n",
       "  </tbody>\n",
       "</table>\n",
       "</div>"
      ],
      "text/plain": [
       "  acesso_internet  %_Percentual\n",
       "0             Sim          92.0\n",
       "1             Não           8.0"
      ]
     },
     "execution_count": 40,
     "metadata": {},
     "output_type": "execute_result"
    }
   ],
   "source": [
    "acesso_internet = (microdadosenemselecionado[\"NO_Q025\"].value_counts(normalize = True)*100).round().to_frame().reset_index()\n",
    "acesso_internet.columns = [\"acesso_internet\", \"%_Percentual\"]\n",
    "acesso_internet"
   ]
  },
  {
   "cell_type": "code",
   "execution_count": 41,
   "id": "c5865eb5",
   "metadata": {},
   "outputs": [
    {
     "data": {
      "text/html": [
       "<div>\n",
       "<style scoped>\n",
       "    .dataframe tbody tr th:only-of-type {\n",
       "        vertical-align: middle;\n",
       "    }\n",
       "\n",
       "    .dataframe tbody tr th {\n",
       "        vertical-align: top;\n",
       "    }\n",
       "\n",
       "    .dataframe thead th {\n",
       "        text-align: right;\n",
       "    }\n",
       "</style>\n",
       "<table border=\"1\" class=\"dataframe\">\n",
       "  <thead>\n",
       "    <tr style=\"text-align: right;\">\n",
       "      <th></th>\n",
       "      <th>NU_NOTA_MT</th>\n",
       "    </tr>\n",
       "    <tr>\n",
       "      <th>NO_Q025</th>\n",
       "      <th></th>\n",
       "    </tr>\n",
       "  </thead>\n",
       "  <tbody>\n",
       "    <tr>\n",
       "      <th>Não</th>\n",
       "      <td>471.828225</td>\n",
       "    </tr>\n",
       "    <tr>\n",
       "      <th>Sim</th>\n",
       "      <td>541.054352</td>\n",
       "    </tr>\n",
       "  </tbody>\n",
       "</table>\n",
       "</div>"
      ],
      "text/plain": [
       "         NU_NOTA_MT\n",
       "NO_Q025            \n",
       "Não      471.828225\n",
       "Sim      541.054352"
      ]
     },
     "execution_count": 41,
     "metadata": {},
     "output_type": "execute_result"
    }
   ],
   "source": [
    "# Desempenho em Matemática dos Candidatos que possuem internet e aqueles que não possuem\n",
    "microdadosenemselecionado[[\"NO_Q025\",\"NU_NOTA_MT\"]].groupby(\"NO_Q025\").mean()"
   ]
  },
  {
   "cell_type": "code",
   "execution_count": 42,
   "id": "b7f09236",
   "metadata": {},
   "outputs": [
    {
     "data": {
      "text/html": [
       "<div>\n",
       "<style scoped>\n",
       "    .dataframe tbody tr th:only-of-type {\n",
       "        vertical-align: middle;\n",
       "    }\n",
       "\n",
       "    .dataframe tbody tr th {\n",
       "        vertical-align: top;\n",
       "    }\n",
       "\n",
       "    .dataframe thead th {\n",
       "        text-align: right;\n",
       "    }\n",
       "</style>\n",
       "<table border=\"1\" class=\"dataframe\">\n",
       "  <thead>\n",
       "    <tr style=\"text-align: right;\">\n",
       "      <th></th>\n",
       "      <th>NU_NOTA_LC</th>\n",
       "    </tr>\n",
       "    <tr>\n",
       "      <th>NO_Q025</th>\n",
       "      <th></th>\n",
       "    </tr>\n",
       "  </thead>\n",
       "  <tbody>\n",
       "    <tr>\n",
       "      <th>Não</th>\n",
       "      <td>455.383714</td>\n",
       "    </tr>\n",
       "    <tr>\n",
       "      <th>Sim</th>\n",
       "      <td>509.449841</td>\n",
       "    </tr>\n",
       "  </tbody>\n",
       "</table>\n",
       "</div>"
      ],
      "text/plain": [
       "         NU_NOTA_LC\n",
       "NO_Q025            \n",
       "Não      455.383714\n",
       "Sim      509.449841"
      ]
     },
     "execution_count": 42,
     "metadata": {},
     "output_type": "execute_result"
    }
   ],
   "source": [
    "# Desempenho em Português dos Candidatos que possuem internet e aqueles que não possuem\n",
    "microdadosenemselecionado[[\"NO_Q025\",\"NU_NOTA_LC\"]].groupby(\"NO_Q025\").mean()"
   ]
  },
  {
   "cell_type": "code",
   "execution_count": 43,
   "id": "22d4564c",
   "metadata": {},
   "outputs": [
    {
     "data": {
      "text/html": [
       "<div>\n",
       "<style scoped>\n",
       "    .dataframe tbody tr th:only-of-type {\n",
       "        vertical-align: middle;\n",
       "    }\n",
       "\n",
       "    .dataframe tbody tr th {\n",
       "        vertical-align: top;\n",
       "    }\n",
       "\n",
       "    .dataframe thead th {\n",
       "        text-align: right;\n",
       "    }\n",
       "</style>\n",
       "<table border=\"1\" class=\"dataframe\">\n",
       "  <thead>\n",
       "    <tr style=\"text-align: right;\">\n",
       "      <th></th>\n",
       "      <th>NU_NOTA_REDACAO</th>\n",
       "    </tr>\n",
       "    <tr>\n",
       "      <th>NO_Q025</th>\n",
       "      <th></th>\n",
       "    </tr>\n",
       "  </thead>\n",
       "  <tbody>\n",
       "    <tr>\n",
       "      <th>Não</th>\n",
       "      <td>538.094916</td>\n",
       "    </tr>\n",
       "    <tr>\n",
       "      <th>Sim</th>\n",
       "      <td>630.352163</td>\n",
       "    </tr>\n",
       "  </tbody>\n",
       "</table>\n",
       "</div>"
      ],
      "text/plain": [
       "         NU_NOTA_REDACAO\n",
       "NO_Q025                 \n",
       "Não           538.094916\n",
       "Sim           630.352163"
      ]
     },
     "execution_count": 43,
     "metadata": {},
     "output_type": "execute_result"
    }
   ],
   "source": [
    "# Desempenho em Redação dos Candidatos que possuem internet e aqueles que não possuem\n",
    "microdadosenemselecionado[[\"NO_Q025\",\"NU_NOTA_REDACAO\"]].groupby(\"NO_Q025\").mean()"
   ]
  },
  {
   "cell_type": "markdown",
   "id": "7b3889d7",
   "metadata": {},
   "source": [
    ">> <b>7.2) Quantos candidatos têm pelo menos um computador em casa?</b>"
   ]
  },
  {
   "cell_type": "code",
   "execution_count": 44,
   "id": "4bacd8e3",
   "metadata": {},
   "outputs": [
    {
     "data": {
      "text/html": [
       "<div>\n",
       "<style scoped>\n",
       "    .dataframe tbody tr th:only-of-type {\n",
       "        vertical-align: middle;\n",
       "    }\n",
       "\n",
       "    .dataframe tbody tr th {\n",
       "        vertical-align: top;\n",
       "    }\n",
       "\n",
       "    .dataframe thead th {\n",
       "        text-align: right;\n",
       "    }\n",
       "</style>\n",
       "<table border=\"1\" class=\"dataframe\">\n",
       "  <thead>\n",
       "    <tr style=\"text-align: right;\">\n",
       "      <th></th>\n",
       "      <th>NO_Q024</th>\n",
       "    </tr>\n",
       "  </thead>\n",
       "  <tbody>\n",
       "    <tr>\n",
       "      <th>Sim,um</th>\n",
       "      <td>954011</td>\n",
       "    </tr>\n",
       "    <tr>\n",
       "      <th>Não</th>\n",
       "      <td>833126</td>\n",
       "    </tr>\n",
       "    <tr>\n",
       "      <th>Sim, dois</th>\n",
       "      <td>279242</td>\n",
       "    </tr>\n",
       "    <tr>\n",
       "      <th>Sim, três</th>\n",
       "      <td>113143</td>\n",
       "    </tr>\n",
       "    <tr>\n",
       "      <th>Sim, quatro ou mais</th>\n",
       "      <td>58584</td>\n",
       "    </tr>\n",
       "  </tbody>\n",
       "</table>\n",
       "</div>"
      ],
      "text/plain": [
       "                     NO_Q024\n",
       "Sim,um                954011\n",
       "Não                   833126\n",
       "Sim, dois             279242\n",
       "Sim, três             113143\n",
       "Sim, quatro ou mais    58584"
      ]
     },
     "execution_count": 44,
     "metadata": {},
     "output_type": "execute_result"
    }
   ],
   "source": [
    "microdadosenemselecionado[\"NO_Q024\"].value_counts().to_frame()"
   ]
  },
  {
   "cell_type": "code",
   "execution_count": 45,
   "id": "c6e35a31",
   "metadata": {},
   "outputs": [
    {
     "data": {
      "text/html": [
       "<div>\n",
       "<style scoped>\n",
       "    .dataframe tbody tr th:only-of-type {\n",
       "        vertical-align: middle;\n",
       "    }\n",
       "\n",
       "    .dataframe tbody tr th {\n",
       "        vertical-align: top;\n",
       "    }\n",
       "\n",
       "    .dataframe thead th {\n",
       "        text-align: right;\n",
       "    }\n",
       "</style>\n",
       "<table border=\"1\" class=\"dataframe\">\n",
       "  <thead>\n",
       "    <tr style=\"text-align: right;\">\n",
       "      <th></th>\n",
       "      <th>NU_NOTA_MT</th>\n",
       "      <th>DESVIO_PADRAO</th>\n",
       "    </tr>\n",
       "    <tr>\n",
       "      <th>NO_Q024</th>\n",
       "      <th></th>\n",
       "      <th></th>\n",
       "    </tr>\n",
       "  </thead>\n",
       "  <tbody>\n",
       "    <tr>\n",
       "      <th>Não</th>\n",
       "      <td>486.477898</td>\n",
       "      <td>83.942063</td>\n",
       "    </tr>\n",
       "    <tr>\n",
       "      <th>Sim, dois</th>\n",
       "      <td>596.522175</td>\n",
       "      <td>115.238049</td>\n",
       "    </tr>\n",
       "    <tr>\n",
       "      <th>Sim, quatro ou mais</th>\n",
       "      <td>649.008883</td>\n",
       "      <td>115.485327</td>\n",
       "    </tr>\n",
       "    <tr>\n",
       "      <th>Sim, três</th>\n",
       "      <td>625.034669</td>\n",
       "      <td>116.245561</td>\n",
       "    </tr>\n",
       "    <tr>\n",
       "      <th>Sim,um</th>\n",
       "      <td>542.149497</td>\n",
       "      <td>106.061252</td>\n",
       "    </tr>\n",
       "  </tbody>\n",
       "</table>\n",
       "</div>"
      ],
      "text/plain": [
       "                     NU_NOTA_MT  DESVIO_PADRAO\n",
       "NO_Q024                                       \n",
       "Não                  486.477898      83.942063\n",
       "Sim, dois            596.522175     115.238049\n",
       "Sim, quatro ou mais  649.008883     115.485327\n",
       "Sim, três            625.034669     116.245561\n",
       "Sim,um               542.149497     106.061252"
      ]
     },
     "execution_count": 45,
     "metadata": {},
     "output_type": "execute_result"
    }
   ],
   "source": [
    "qtd_pc_mat = microdadosenemselecionado[[\"NO_Q024\",\"NU_NOTA_MT\"]].groupby(\"NO_Q024\").mean()\n",
    "qtd_pc_mat[\"DESVIO_PADRAO\"] = microdadosenemselecionado[[\"NO_Q024\",\"NU_NOTA_MT\"]].groupby(\"NO_Q024\").std()\n",
    "qtd_pc_mat"
   ]
  },
  {
   "cell_type": "code",
   "execution_count": 46,
   "id": "46e5b1cc",
   "metadata": {},
   "outputs": [
    {
     "data": {
      "text/html": [
       "<div>\n",
       "<style scoped>\n",
       "    .dataframe tbody tr th:only-of-type {\n",
       "        vertical-align: middle;\n",
       "    }\n",
       "\n",
       "    .dataframe tbody tr th {\n",
       "        vertical-align: top;\n",
       "    }\n",
       "\n",
       "    .dataframe thead th {\n",
       "        text-align: right;\n",
       "    }\n",
       "</style>\n",
       "<table border=\"1\" class=\"dataframe\">\n",
       "  <thead>\n",
       "    <tr style=\"text-align: right;\">\n",
       "      <th></th>\n",
       "      <th>NU_NOTA_MT</th>\n",
       "    </tr>\n",
       "    <tr>\n",
       "      <th>NO_Q024</th>\n",
       "      <th></th>\n",
       "    </tr>\n",
       "  </thead>\n",
       "  <tbody>\n",
       "    <tr>\n",
       "      <th>Não</th>\n",
       "      <td>0.091965</td>\n",
       "    </tr>\n",
       "    <tr>\n",
       "      <th>Sim, dois</th>\n",
       "      <td>0.218075</td>\n",
       "    </tr>\n",
       "    <tr>\n",
       "      <th>Sim, quatro ou mais</th>\n",
       "      <td>0.477131</td>\n",
       "    </tr>\n",
       "    <tr>\n",
       "      <th>Sim, três</th>\n",
       "      <td>0.345591</td>\n",
       "    </tr>\n",
       "    <tr>\n",
       "      <th>Sim,um</th>\n",
       "      <td>0.108588</td>\n",
       "    </tr>\n",
       "  </tbody>\n",
       "</table>\n",
       "</div>"
      ],
      "text/plain": [
       "                     NU_NOTA_MT\n",
       "NO_Q024                        \n",
       "Não                    0.091965\n",
       "Sim, dois              0.218075\n",
       "Sim, quatro ou mais    0.477131\n",
       "Sim, três              0.345591\n",
       "Sim,um                 0.108588"
      ]
     },
     "execution_count": 46,
     "metadata": {},
     "output_type": "execute_result"
    }
   ],
   "source": [
    "microdadosenemselecionado[[\"NO_Q024\",\"NU_NOTA_MT\"]].groupby(\"NO_Q024\").sem()"
   ]
  },
  {
   "cell_type": "code",
   "execution_count": 48,
   "id": "88c472e4",
   "metadata": {},
   "outputs": [
    {
     "data": {
      "text/html": [
       "<div>\n",
       "<style scoped>\n",
       "    .dataframe tbody tr th:only-of-type {\n",
       "        vertical-align: middle;\n",
       "    }\n",
       "\n",
       "    .dataframe tbody tr th {\n",
       "        vertical-align: top;\n",
       "    }\n",
       "\n",
       "    .dataframe thead th {\n",
       "        text-align: right;\n",
       "    }\n",
       "</style>\n",
       "<table border=\"1\" class=\"dataframe\">\n",
       "  <thead>\n",
       "    <tr style=\"text-align: right;\">\n",
       "      <th></th>\n",
       "      <th>NU_NOTA_LC</th>\n",
       "      <th>DESVIO_PADRAO</th>\n",
       "    </tr>\n",
       "    <tr>\n",
       "      <th>NO_Q024</th>\n",
       "      <th></th>\n",
       "      <th></th>\n",
       "    </tr>\n",
       "  </thead>\n",
       "  <tbody>\n",
       "    <tr>\n",
       "      <th>Não</th>\n",
       "      <td>469.938522</td>\n",
       "      <td>70.16</td>\n",
       "    </tr>\n",
       "    <tr>\n",
       "      <th>Sim, dois</th>\n",
       "      <td>546.014742</td>\n",
       "      <td>71.89</td>\n",
       "    </tr>\n",
       "    <tr>\n",
       "      <th>Sim, quatro ou mais</th>\n",
       "      <td>570.954701</td>\n",
       "      <td>68.64</td>\n",
       "    </tr>\n",
       "    <tr>\n",
       "      <th>Sim, três</th>\n",
       "      <td>560.816545</td>\n",
       "      <td>70.52</td>\n",
       "    </tr>\n",
       "    <tr>\n",
       "      <th>Sim,um</th>\n",
       "      <td>512.651196</td>\n",
       "      <td>73.19</td>\n",
       "    </tr>\n",
       "  </tbody>\n",
       "</table>\n",
       "</div>"
      ],
      "text/plain": [
       "                     NU_NOTA_LC  DESVIO_PADRAO\n",
       "NO_Q024                                       \n",
       "Não                  469.938522          70.16\n",
       "Sim, dois            546.014742          71.89\n",
       "Sim, quatro ou mais  570.954701          68.64\n",
       "Sim, três            560.816545          70.52\n",
       "Sim,um               512.651196          73.19"
      ]
     },
     "execution_count": 48,
     "metadata": {},
     "output_type": "execute_result"
    }
   ],
   "source": [
    "qtd_pc_port = microdadosenemselecionado[[\"NO_Q024\",\"NU_NOTA_LC\"]].groupby(\"NO_Q024\").mean()\n",
    "qtd_pc_port[\"DESVIO_PADRAO\"] = microdadosenemselecionado[[\"NO_Q024\",\"NU_NOTA_LC\"]].groupby(\"NO_Q024\").std().round(2)\n",
    "qtd_pc_port"
   ]
  },
  {
   "cell_type": "code",
   "execution_count": 50,
   "id": "e95de179",
   "metadata": {},
   "outputs": [
    {
     "data": {
      "text/html": [
       "<div>\n",
       "<style scoped>\n",
       "    .dataframe tbody tr th:only-of-type {\n",
       "        vertical-align: middle;\n",
       "    }\n",
       "\n",
       "    .dataframe tbody tr th {\n",
       "        vertical-align: top;\n",
       "    }\n",
       "\n",
       "    .dataframe thead th {\n",
       "        text-align: right;\n",
       "    }\n",
       "</style>\n",
       "<table border=\"1\" class=\"dataframe\">\n",
       "  <thead>\n",
       "    <tr style=\"text-align: right;\">\n",
       "      <th></th>\n",
       "      <th>NU_NOTA_REDACAO</th>\n",
       "      <th>DESVIO_PADRAO</th>\n",
       "    </tr>\n",
       "    <tr>\n",
       "      <th>NO_Q024</th>\n",
       "      <th></th>\n",
       "      <th></th>\n",
       "    </tr>\n",
       "  </thead>\n",
       "  <tbody>\n",
       "    <tr>\n",
       "      <th>Não</th>\n",
       "      <td>562.671433</td>\n",
       "      <td>181.536824</td>\n",
       "    </tr>\n",
       "    <tr>\n",
       "      <th>Sim, dois</th>\n",
       "      <td>693.427493</td>\n",
       "      <td>170.026587</td>\n",
       "    </tr>\n",
       "    <tr>\n",
       "      <th>Sim, quatro ou mais</th>\n",
       "      <td>734.472211</td>\n",
       "      <td>160.778594</td>\n",
       "    </tr>\n",
       "    <tr>\n",
       "      <th>Sim, três</th>\n",
       "      <td>721.631033</td>\n",
       "      <td>164.193151</td>\n",
       "    </tr>\n",
       "    <tr>\n",
       "      <th>Sim,um</th>\n",
       "      <td>635.462673</td>\n",
       "      <td>175.131836</td>\n",
       "    </tr>\n",
       "  </tbody>\n",
       "</table>\n",
       "</div>"
      ],
      "text/plain": [
       "                     NU_NOTA_REDACAO  DESVIO_PADRAO\n",
       "NO_Q024                                            \n",
       "Não                       562.671433     181.536824\n",
       "Sim, dois                 693.427493     170.026587\n",
       "Sim, quatro ou mais       734.472211     160.778594\n",
       "Sim, três                 721.631033     164.193151\n",
       "Sim,um                    635.462673     175.131836"
      ]
     },
     "execution_count": 50,
     "metadata": {},
     "output_type": "execute_result"
    }
   ],
   "source": [
    "qtd_pc_red = microdadosenemselecionado[[\"NO_Q024\",\"NU_NOTA_REDACAO\"]].groupby(\"NO_Q024\").mean()\n",
    "qtd_pc_red[\"DESVIO_PADRAO\"] = microdadosenemselecionado[[\"NO_Q024\",\"NU_NOTA_REDACAO\"]].groupby(\"NO_Q024\").std()\n",
    "qtd_pc_red"
   ]
  },
  {
   "cell_type": "code",
   "execution_count": 52,
   "id": "0a2034b5",
   "metadata": {},
   "outputs": [
    {
     "data": {
      "text/html": [
       "<div>\n",
       "<style scoped>\n",
       "    .dataframe tbody tr th:only-of-type {\n",
       "        vertical-align: middle;\n",
       "    }\n",
       "\n",
       "    .dataframe tbody tr th {\n",
       "        vertical-align: top;\n",
       "    }\n",
       "\n",
       "    .dataframe thead th {\n",
       "        text-align: right;\n",
       "    }\n",
       "</style>\n",
       "<table border=\"1\" class=\"dataframe\">\n",
       "  <thead>\n",
       "    <tr style=\"text-align: right;\">\n",
       "      <th></th>\n",
       "      <th>NO_Q024</th>\n",
       "      <th>NU_NOTA_LC</th>\n",
       "    </tr>\n",
       "  </thead>\n",
       "  <tbody>\n",
       "    <tr>\n",
       "      <th>0</th>\n",
       "      <td>Sim,um</td>\n",
       "      <td>73.194942</td>\n",
       "    </tr>\n",
       "    <tr>\n",
       "      <th>1</th>\n",
       "      <td>Sim, dois</td>\n",
       "      <td>71.893307</td>\n",
       "    </tr>\n",
       "    <tr>\n",
       "      <th>2</th>\n",
       "      <td>Sim, três</td>\n",
       "      <td>70.518153</td>\n",
       "    </tr>\n",
       "    <tr>\n",
       "      <th>3</th>\n",
       "      <td>Não</td>\n",
       "      <td>70.155290</td>\n",
       "    </tr>\n",
       "    <tr>\n",
       "      <th>4</th>\n",
       "      <td>Sim, quatro ou mais</td>\n",
       "      <td>68.637288</td>\n",
       "    </tr>\n",
       "  </tbody>\n",
       "</table>\n",
       "</div>"
      ],
      "text/plain": [
       "               NO_Q024  NU_NOTA_LC\n",
       "0               Sim,um   73.194942\n",
       "1            Sim, dois   71.893307\n",
       "2            Sim, três   70.518153\n",
       "3                  Não   70.155290\n",
       "4  Sim, quatro ou mais   68.637288"
      ]
     },
     "execution_count": 52,
     "metadata": {},
     "output_type": "execute_result"
    }
   ],
   "source": [
    "desvio_padrao_port = microdadosenemselecionado[[\"NO_Q024\",\"NU_NOTA_LC\"]].groupby(\"NO_Q024\").std().sort_values( by = \"NU_NOTA_LC\", ascending = False).reset_index()\n",
    "desvio_padrao_port"
   ]
  },
  {
   "cell_type": "code",
   "execution_count": null,
   "id": "d794be58",
   "metadata": {},
   "outputs": [],
   "source": []
  },
  {
   "cell_type": "markdown",
   "id": "129f7e26",
   "metadata": {},
   "source": [
    "## 8 ) Teste de comparação da média das notas entre sexo"
   ]
  },
  {
   "cell_type": "code",
   "execution_count": 86,
   "id": "90201193",
   "metadata": {},
   "outputs": [],
   "source": [
    "from scipy import stats\n",
    "from scipy.stats import normaltest\n",
    "from scipy.stats import norm"
   ]
  },
  {
   "cell_type": "markdown",
   "id": "22d0f394",
   "metadata": {},
   "source": [
    "### **Passo 1** - formulação das hipóteses $H_0$ e $H_1$\n",
    "\n",
    "#### <font color='red'>Lembre-se, a hipótese nula sempre contém a alegação de igualdade</font>"
   ]
  },
  {
   "cell_type": "markdown",
   "id": "03740643",
   "metadata": {},
   "source": [
    "### $\\mu_1 \\Rightarrow$ Média das notas do sexo masculino\n",
    "### $\\mu_2 \\Rightarrow$ Média das notas do sexo feminino\n",
    "\n",
    "### $\n",
    "\\begin{cases}\n",
    "H_0: \\mu_1 \\leq \\mu_2\\\\\n",
    "H_1: \\mu_1 > \\mu_2\n",
    "\\end{cases}\n",
    "$\n",
    "\n",
    "### ou\n",
    "\n",
    "### $\n",
    "\\begin{cases}\n",
    "H_0: \\mu_1 -\\mu_2 \\leq 0\\\\\n",
    "H_1: \\mu_1 -\\mu_2 > 0\n",
    "\\end{cases}\n",
    "$"
   ]
  },
  {
   "cell_type": "markdown",
   "id": "c6edd429",
   "metadata": {},
   "source": [
    " ### <font color='black'> As notas em Português do sexo masculino é maior que a do sexo feminino?</font>"
   ]
  },
  {
   "cell_type": "code",
   "execution_count": 87,
   "id": "88cb103e",
   "metadata": {},
   "outputs": [],
   "source": [
    "# vamos colher as duas amostras e verificar se as notas em português tem diferença entre o sexo masculino e feminino\n",
    "notas_lc_F  = dados_selecionado.query(\"TP_SEXO == 'F'\").sample(n = 1000, random_state = 101).NU_NOTA_LC.dropna()\n",
    "notas_lc_M  = dados_selecionado.query(\"TP_SEXO == 'M'\").sample(n = 1000, random_state = 101).NU_NOTA_LC.dropna()"
   ]
  },
  {
   "cell_type": "code",
   "execution_count": 91,
   "id": "16ad9898",
   "metadata": {},
   "outputs": [
    {
     "data": {
      "text/plain": [
       "501.1357142857142"
      ]
     },
     "execution_count": 91,
     "metadata": {},
     "output_type": "execute_result"
    }
   ],
   "source": [
    "# Retirar a média do sexo feminino\n",
    "media_amostra_f = notas_lc_F.mean()\n",
    "media_amostra_f"
   ]
  },
  {
   "cell_type": "code",
   "execution_count": 92,
   "id": "258ce2d9",
   "metadata": {},
   "outputs": [
    {
     "data": {
      "text/plain": [
       "506.7061079545452"
      ]
     },
     "execution_count": 92,
     "metadata": {},
     "output_type": "execute_result"
    }
   ],
   "source": [
    "# Retirar a média do sexo masculino\n",
    "media_amostra_m = notas_lc_M.mean()\n",
    "media_amostra_m"
   ]
  },
  {
   "cell_type": "code",
   "execution_count": 93,
   "id": "a80f4e31",
   "metadata": {},
   "outputs": [
    {
     "data": {
      "text/plain": [
       "82.5656472429017"
      ]
     },
     "execution_count": 93,
     "metadata": {},
     "output_type": "execute_result"
    }
   ],
   "source": [
    "# retirar o desvio padrão das notas do sexo feminino\n",
    "desvio_padrao_f = notas_lc_F.std()\n",
    "desvio_padrao_f"
   ]
  },
  {
   "cell_type": "code",
   "execution_count": 94,
   "id": "c6bf0a2e",
   "metadata": {},
   "outputs": [
    {
     "data": {
      "text/plain": [
       "79.48171053597018"
      ]
     },
     "execution_count": 94,
     "metadata": {},
     "output_type": "execute_result"
    }
   ],
   "source": [
    "# retirar o desvio padrão das notas do sexo masculino\n",
    "desvio_padrao_m = notas_lc_M.std()\n",
    "desvio_padrao_m"
   ]
  },
  {
   "cell_type": "code",
   "execution_count": 104,
   "id": "3da04b5b",
   "metadata": {},
   "outputs": [],
   "source": [
    "significancia = 0.05\n",
    "confianca = 1 - significancia\n",
    "n_M = 1000\n",
    "n_H = 1000\n",
    "D_0 = 0"
   ]
  },
  {
   "cell_type": "code",
   "execution_count": 105,
   "id": "60b5b406",
   "metadata": {},
   "outputs": [
    {
     "data": {
      "text/plain": [
       "0.95"
      ]
     },
     "execution_count": 105,
     "metadata": {},
     "output_type": "execute_result"
    }
   ],
   "source": [
    "probabilidade = confianca\n",
    "probabilidade"
   ]
  },
  {
   "cell_type": "code",
   "execution_count": 109,
   "id": "2a409582",
   "metadata": {},
   "outputs": [
    {
     "data": {
      "text/plain": [
       "1.64"
      ]
     },
     "execution_count": 109,
     "metadata": {},
     "output_type": "execute_result"
    }
   ],
   "source": [
    "z_alpha = norm.ppf(probabilidade)\n",
    "z_alpha.round(2)"
   ]
  },
  {
   "cell_type": "code",
   "execution_count": 110,
   "id": "12e0a20f",
   "metadata": {},
   "outputs": [
    {
     "data": {
      "text/plain": [
       "1.5370227639587153"
      ]
     },
     "execution_count": 110,
     "metadata": {},
     "output_type": "execute_result"
    }
   ],
   "source": [
    "numerador = (media_amostra_m - media_amostra_f) - D_0\n",
    "\n",
    "denominador = np.sqrt((desvio_padrao_f ** 2 / n_H) + (desvio_padrao_m ** 2 / n_M))\n",
    "\n",
    "z = numerador / denominador\n",
    "\n",
    "z"
   ]
  },
  {
   "cell_type": "code",
   "execution_count": 111,
   "id": "87be32f4",
   "metadata": {},
   "outputs": [
    {
     "data": {
      "text/plain": [
       "False"
      ]
     },
     "execution_count": 111,
     "metadata": {},
     "output_type": "execute_result"
    }
   ],
   "source": [
    "z >= z_alpha"
   ]
  },
  {
   "cell_type": "markdown",
   "id": "f062b81e",
   "metadata": {},
   "source": [
    "### <font color='green'>Conclusão: Com um nível de confiança de 99% rejeitamos $H_0$ , isto é, concluímos que a média das notas em Português do sexo masculino não é maior que a média das notas em Português do sexo feminino. Não corroborando com hipotese de que as notas em linguagens dos candidatos do sexo masculino é maior que a do sexo feminino</font>"
   ]
  },
  {
   "cell_type": "markdown",
   "id": "20b87562",
   "metadata": {},
   "source": [
    " ### <font color='black'> As notas em matémática do sexo masculino é maior que a do sexo feminino?</font>"
   ]
  },
  {
   "cell_type": "code",
   "execution_count": 113,
   "id": "5ac5fbab",
   "metadata": {},
   "outputs": [],
   "source": [
    "notas_mt_F  = dados_selecionado.query(\"TP_SEXO == 'F'\").sample(n = 1000, random_state = 101).NU_NOTA_MT.dropna()\n",
    "notas_mt_M  = dados_selecionado.query(\"TP_SEXO == 'M'\").sample(n = 1000, random_state = 101).NU_NOTA_MT.dropna()"
   ]
  },
  {
   "cell_type": "code",
   "execution_count": 114,
   "id": "ae74c598",
   "metadata": {},
   "outputs": [
    {
     "data": {
      "text/plain": [
       "948415     425.1\n",
       "1158553    441.8\n",
       "397862     448.7\n",
       "2523118    645.0\n",
       "760155     489.4\n",
       "           ...  \n",
       "2664140    529.6\n",
       "220359     450.8\n",
       "590668     550.1\n",
       "1627657    429.6\n",
       "945439     542.5\n",
       "Name: NU_NOTA_MT, Length: 656, dtype: float64"
      ]
     },
     "execution_count": 114,
     "metadata": {},
     "output_type": "execute_result"
    }
   ],
   "source": [
    "notas_mt_F"
   ]
  },
  {
   "cell_type": "code",
   "execution_count": 115,
   "id": "d3af5c57",
   "metadata": {},
   "outputs": [
    {
     "data": {
      "text/plain": [
       "1078324    746.3\n",
       "1742215    395.7\n",
       "2498184    465.0\n",
       "571033     430.1\n",
       "1584543    813.2\n",
       "           ...  \n",
       "1341023    843.5\n",
       "2784648    613.4\n",
       "3065822    579.5\n",
       "2639419    431.8\n",
       "1664225    689.2\n",
       "Name: NU_NOTA_MT, Length: 675, dtype: float64"
      ]
     },
     "execution_count": 115,
     "metadata": {},
     "output_type": "execute_result"
    }
   ],
   "source": [
    "notas_mt_M"
   ]
  },
  {
   "cell_type": "code",
   "execution_count": 116,
   "id": "f46a9829",
   "metadata": {},
   "outputs": [
    {
     "data": {
      "text/plain": [
       "526.6785060975614"
      ]
     },
     "execution_count": 116,
     "metadata": {},
     "output_type": "execute_result"
    }
   ],
   "source": [
    "media_amostra_mt_f = notas_mt_F.mean()\n",
    "media_amostra_mt_f"
   ]
  },
  {
   "cell_type": "code",
   "execution_count": 117,
   "id": "d4ceb976",
   "metadata": {},
   "outputs": [
    {
     "data": {
      "text/plain": [
       "562.1111111111114"
      ]
     },
     "execution_count": 117,
     "metadata": {},
     "output_type": "execute_result"
    }
   ],
   "source": [
    "media_amostra_mt_m = notas_mt_M.mean()\n",
    "media_amostra_mt_m"
   ]
  },
  {
   "cell_type": "code",
   "execution_count": 118,
   "id": "5af9e30d",
   "metadata": {},
   "outputs": [
    {
     "data": {
      "text/plain": [
       "105.17843934092355"
      ]
     },
     "execution_count": 118,
     "metadata": {},
     "output_type": "execute_result"
    }
   ],
   "source": [
    "desvio_padrao_mt_f = notas_mt_F.std()\n",
    "desvio_padrao_mt_f"
   ]
  },
  {
   "cell_type": "code",
   "execution_count": 120,
   "id": "ee54631b",
   "metadata": {},
   "outputs": [
    {
     "data": {
      "text/plain": [
       "117.40130994438174"
      ]
     },
     "execution_count": 120,
     "metadata": {},
     "output_type": "execute_result"
    }
   ],
   "source": [
    "desvio_padrao_mt_m = notas_mt_M.std()\n",
    "desvio_padrao_mt_m"
   ]
  },
  {
   "cell_type": "code",
   "execution_count": 121,
   "id": "3fc35c84",
   "metadata": {},
   "outputs": [],
   "source": [
    "significancia = 0.05\n",
    "confianca = 1 - significancia\n",
    "n_M = 1000\n",
    "n_H = 1000\n",
    "D_0 = 0"
   ]
  },
  {
   "cell_type": "code",
   "execution_count": 122,
   "id": "a5baf77a",
   "metadata": {},
   "outputs": [
    {
     "data": {
      "text/plain": [
       "0.95"
      ]
     },
     "execution_count": 122,
     "metadata": {},
     "output_type": "execute_result"
    }
   ],
   "source": [
    "probabilidade = confianca\n",
    "probabilidade"
   ]
  },
  {
   "cell_type": "code",
   "execution_count": 123,
   "id": "41394ed3",
   "metadata": {},
   "outputs": [
    {
     "data": {
      "text/plain": [
       "1.64"
      ]
     },
     "execution_count": 123,
     "metadata": {},
     "output_type": "execute_result"
    }
   ],
   "source": [
    "z_alpha = norm.ppf(probabilidade)\n",
    "z_alpha.round(2)"
   ]
  },
  {
   "cell_type": "code",
   "execution_count": 124,
   "id": "5efd6d18",
   "metadata": {},
   "outputs": [
    {
     "data": {
      "text/plain": [
       "7.1085101184040695"
      ]
     },
     "execution_count": 124,
     "metadata": {},
     "output_type": "execute_result"
    }
   ],
   "source": [
    "numerador = (media_amostra_mt_m - media_amostra_mt_f) - D_0\n",
    "\n",
    "denominador = np.sqrt((desvio_padrao_mt_f ** 2 / n_H) + (desvio_padrao_mt_m ** 2 / n_M))\n",
    "\n",
    "z = numerador / denominador\n",
    "\n",
    "z"
   ]
  },
  {
   "cell_type": "code",
   "execution_count": 125,
   "id": "de3dcf50",
   "metadata": {},
   "outputs": [
    {
     "data": {
      "text/plain": [
       "True"
      ]
     },
     "execution_count": 125,
     "metadata": {},
     "output_type": "execute_result"
    }
   ],
   "source": [
    "z >= z_alpha"
   ]
  },
  {
   "cell_type": "markdown",
   "id": "d6ca2841",
   "metadata": {},
   "source": [
    "### <font color='green'>Conclusão: Com um nível de confiança de 99% aceitamos $H_0$ , isto é, concluímos que a média das notas em matemática do sexo masculino é maior que a média das notas em Português do sexo feminino. Corroborando com hipotese de que as notas em Matemática dos candidatos do sexo masculino é maior que a do sexo feminino</font>"
   ]
  },
  {
   "cell_type": "markdown",
   "id": "2af1e8a4",
   "metadata": {},
   "source": [
    " ### <font color='black'> As notas em Redação do sexo masculino é maior que a do sexo feminino?</font>"
   ]
  },
  {
   "cell_type": "code",
   "execution_count": 126,
   "id": "2d76d4ed",
   "metadata": {},
   "outputs": [],
   "source": [
    "notas_red_F  = dados_selecionado.query(\"TP_SEXO == 'F'\").sample(n = 1000, random_state = 101).NU_NOTA_REDACAO.dropna()\n",
    "notas_red_M  = dados_selecionado.query(\"TP_SEXO == 'M'\").sample(n = 1000, random_state = 101).NU_NOTA_REDACAO.dropna()"
   ]
  },
  {
   "cell_type": "code",
   "execution_count": 127,
   "id": "f43b5349",
   "metadata": {},
   "outputs": [
    {
     "data": {
      "text/plain": [
       "948415     580.0\n",
       "1158553    560.0\n",
       "397862     600.0\n",
       "2523118    640.0\n",
       "760155     820.0\n",
       "           ...  \n",
       "2664140    560.0\n",
       "220359     480.0\n",
       "590668     900.0\n",
       "1627657    500.0\n",
       "945439     920.0\n",
       "Name: NU_NOTA_REDACAO, Length: 700, dtype: float64"
      ]
     },
     "execution_count": 127,
     "metadata": {},
     "output_type": "execute_result"
    }
   ],
   "source": [
    "notas_red_F"
   ]
  },
  {
   "cell_type": "code",
   "execution_count": 128,
   "id": "ff92c346",
   "metadata": {},
   "outputs": [
    {
     "data": {
      "text/plain": [
       "1078324    740.0\n",
       "1742215    440.0\n",
       "2498184    420.0\n",
       "1993202    460.0\n",
       "571033     540.0\n",
       "           ...  \n",
       "1341023    920.0\n",
       "2784648    520.0\n",
       "3065822    400.0\n",
       "2639419    480.0\n",
       "1664225    600.0\n",
       "Name: NU_NOTA_REDACAO, Length: 704, dtype: float64"
      ]
     },
     "execution_count": 128,
     "metadata": {},
     "output_type": "execute_result"
    }
   ],
   "source": [
    "notas_red_M"
   ]
  },
  {
   "cell_type": "code",
   "execution_count": 139,
   "id": "ca467099",
   "metadata": {},
   "outputs": [
    {
     "data": {
      "text/plain": [
       "596.7045454545455"
      ]
     },
     "execution_count": 139,
     "metadata": {},
     "output_type": "execute_result"
    }
   ],
   "source": [
    "media_amostra_red_m = notas_red_M.mean()\n",
    "media_amostra_red_m"
   ]
  },
  {
   "cell_type": "code",
   "execution_count": 140,
   "id": "ca43d8a5",
   "metadata": {},
   "outputs": [
    {
     "data": {
      "text/plain": [
       "627.4"
      ]
     },
     "execution_count": 140,
     "metadata": {},
     "output_type": "execute_result"
    }
   ],
   "source": [
    "media_amostra_red_f = notas_red_F.mean()\n",
    "media_amostra_red_f"
   ]
  },
  {
   "cell_type": "code",
   "execution_count": 132,
   "id": "6ddc3f8e",
   "metadata": {},
   "outputs": [
    {
     "data": {
      "text/plain": [
       "191.16307392588817"
      ]
     },
     "execution_count": 132,
     "metadata": {},
     "output_type": "execute_result"
    }
   ],
   "source": [
    "desvio_padrao_red_m = notas_red_M.std()\n",
    "desvio_padrao_red_m"
   ]
  },
  {
   "cell_type": "code",
   "execution_count": 134,
   "id": "b9d2a344",
   "metadata": {},
   "outputs": [
    {
     "data": {
      "text/plain": [
       "192.21347514836916"
      ]
     },
     "execution_count": 134,
     "metadata": {},
     "output_type": "execute_result"
    }
   ],
   "source": [
    "desvio_padrao_red_f = notas_red_F.std()\n",
    "desvio_padrao_red_f"
   ]
  },
  {
   "cell_type": "code",
   "execution_count": null,
   "id": "f45f56a9",
   "metadata": {},
   "outputs": [],
   "source": []
  },
  {
   "cell_type": "code",
   "execution_count": 148,
   "id": "78130c90",
   "metadata": {},
   "outputs": [],
   "source": [
    "significancia = 0.05\n",
    "confianca = 1 - significancia\n",
    "n_M = 1000\n",
    "n_H = 1000\n",
    "D_0 = 0"
   ]
  },
  {
   "cell_type": "code",
   "execution_count": 149,
   "id": "992389bd",
   "metadata": {},
   "outputs": [
    {
     "data": {
      "text/plain": [
       "0.95"
      ]
     },
     "execution_count": 149,
     "metadata": {},
     "output_type": "execute_result"
    }
   ],
   "source": [
    "probabilidade = confianca\n",
    "probabilidade"
   ]
  },
  {
   "cell_type": "code",
   "execution_count": 150,
   "id": "80ee18ef",
   "metadata": {},
   "outputs": [
    {
     "data": {
      "text/plain": [
       "1.64"
      ]
     },
     "execution_count": 150,
     "metadata": {},
     "output_type": "execute_result"
    }
   ],
   "source": [
    "z_alpha = norm.ppf(probabilidade)\n",
    "z_alpha.round(2)"
   ]
  },
  {
   "cell_type": "code",
   "execution_count": 151,
   "id": "fdc08e27",
   "metadata": {},
   "outputs": [
    {
     "data": {
      "text/plain": [
       "-3.5806501730912053"
      ]
     },
     "execution_count": 151,
     "metadata": {},
     "output_type": "execute_result"
    }
   ],
   "source": [
    "numerador = (media_amostra_red_m - media_amostra_red_f) - D_0\n",
    "\n",
    "denominador = np.sqrt((desvio_padrao_red_f ** 2 / n_H) + (desvio_padrao_red_m ** 2 / n_M))\n",
    "\n",
    "z = numerador / denominador\n",
    "\n",
    "z"
   ]
  },
  {
   "cell_type": "code",
   "execution_count": 152,
   "id": "a7852d54",
   "metadata": {},
   "outputs": [
    {
     "data": {
      "text/plain": [
       "False"
      ]
     },
     "execution_count": 152,
     "metadata": {},
     "output_type": "execute_result"
    }
   ],
   "source": [
    "z >= z_alpha"
   ]
  },
  {
   "cell_type": "markdown",
   "id": "0f457b56",
   "metadata": {},
   "source": [
    "### <font color='green'>Conclusão: Com um nível de confiança de 95% rejeitamos $H_0$ , isto é, concluímos que a média das notas em Redação do sexo masculino não é maior que a média das notas em Português do sexo feminino. Não corroborando com hipotese de que as notas em Redação dos candidatos do sexo masculino é maior que a do sexo feminino</font>"
   ]
  },
  {
   "cell_type": "markdown",
   "id": "ae2a40f3",
   "metadata": {},
   "source": [
    "## Teste de comparação da média das notas entre municípios"
   ]
  },
  {
   "cell_type": "markdown",
   "id": "fb1e578d",
   "metadata": {},
   "source": [
    "### $\\mu_1 \\Rightarrow$ Média das notas do municipio de Pedreiras\n",
    "### $\\mu_2 \\Rightarrow$ Média das notas do municipio de Caxias\n",
    "\n",
    "### $\n",
    "\\begin{cases}\n",
    "H_0: \\mu_1 \\leq \\mu_2\\\\\n",
    "H_1: \\mu_1 > \\mu_2\n",
    "\\end{cases}\n",
    "$\n",
    "\n",
    "### ou\n",
    "\n",
    "### $\n",
    "\\begin{cases}\n",
    "H_0: \\mu_1 -\\mu_2 \\leq 0\\\\\n",
    "H_1: \\mu_1 -\\mu_2 > 0\n",
    "\\end{cases}\n",
    "$"
   ]
  },
  {
   "cell_type": "code",
   "execution_count": 211,
   "id": "1f057ac6",
   "metadata": {},
   "outputs": [
    {
     "data": {
      "text/plain": [
       "2040705    557.7\n",
       "1337963    385.8\n",
       "108661     446.6\n",
       "1171814    524.0\n",
       "955415     441.5\n",
       "           ...  \n",
       "1706292    543.2\n",
       "934426     419.1\n",
       "292772     509.6\n",
       "1143503    446.3\n",
       "180627     365.2\n",
       "Name: NU_NOTA_LC, Length: 770, dtype: float64"
      ]
     },
     "execution_count": 211,
     "metadata": {},
     "output_type": "execute_result"
    }
   ],
   "source": [
    "notas_pedreiras_lc = dados_selecionado.query(\"NO_MUNICIPIO_PROVA == 'Pedreiras'\").sample(n = 1000,random_state = 101).NU_NOTA_LC.dropna()\n",
    "notas_pedreiras_lc"
   ]
  },
  {
   "cell_type": "code",
   "execution_count": 212,
   "id": "0149ac21",
   "metadata": {},
   "outputs": [],
   "source": [
    "media_amostra_ped_lc = notas_pedreiras.mean()"
   ]
  },
  {
   "cell_type": "code",
   "execution_count": 223,
   "id": "092173cc",
   "metadata": {},
   "outputs": [
    {
     "data": {
      "text/plain": [
       "74.40370375891989"
      ]
     },
     "execution_count": 223,
     "metadata": {},
     "output_type": "execute_result"
    }
   ],
   "source": [
    "desvio_padrao_ped_lc = notas_pedreiras.std()\n",
    "desvio_padrao_ped_lc"
   ]
  },
  {
   "cell_type": "code",
   "execution_count": 214,
   "id": "f91a67b6",
   "metadata": {},
   "outputs": [
    {
     "data": {
      "text/plain": [
       "1806013    545.7\n",
       "312666     486.6\n",
       "2110366    515.6\n",
       "152369     556.0\n",
       "924144     329.0\n",
       "           ...  \n",
       "1998481    518.7\n",
       "313076     438.0\n",
       "2532777    525.1\n",
       "124328     402.6\n",
       "3037546    623.6\n",
       "Name: NU_NOTA_LC, Length: 738, dtype: float64"
      ]
     },
     "execution_count": 214,
     "metadata": {},
     "output_type": "execute_result"
    }
   ],
   "source": [
    "notas_caxias_lc = dados_selecionado.query(\"NO_MUNICIPIO_PROVA == 'Caxias'\").sample(n = 1000,random_state = 101).NU_NOTA_LC.dropna()\n",
    "notas_caxias_lc"
   ]
  },
  {
   "cell_type": "code",
   "execution_count": 216,
   "id": "b7965e6f",
   "metadata": {},
   "outputs": [
    {
     "data": {
      "text/plain": [
       "466.53536585365873"
      ]
     },
     "execution_count": 216,
     "metadata": {},
     "output_type": "execute_result"
    }
   ],
   "source": [
    "media_amostra_cax_lc = notas_caxias_lc.mean()\n",
    "media_amostra_cax_lc"
   ]
  },
  {
   "cell_type": "code",
   "execution_count": 217,
   "id": "dc21c443",
   "metadata": {},
   "outputs": [
    {
     "data": {
      "text/plain": [
       "75.56463592253174"
      ]
     },
     "execution_count": 217,
     "metadata": {},
     "output_type": "execute_result"
    }
   ],
   "source": [
    "desvio_padrao_cax_lc = notas_caxias_lc.std()\n",
    "desvio_padrao_cax_lc"
   ]
  },
  {
   "cell_type": "code",
   "execution_count": 218,
   "id": "599d0d75",
   "metadata": {},
   "outputs": [],
   "source": [
    "significancia = 0.05\n",
    "confianca = 1 - significancia\n",
    "n_M = 1000\n",
    "n_H = 1000\n",
    "D_0 = 0"
   ]
  },
  {
   "cell_type": "code",
   "execution_count": 219,
   "id": "fe919fa0",
   "metadata": {},
   "outputs": [
    {
     "data": {
      "text/plain": [
       "0.95"
      ]
     },
     "execution_count": 219,
     "metadata": {},
     "output_type": "execute_result"
    }
   ],
   "source": [
    "probabilidade = confianca\n",
    "probabilidade"
   ]
  },
  {
   "cell_type": "code",
   "execution_count": 220,
   "id": "fcc6a722",
   "metadata": {},
   "outputs": [
    {
     "data": {
      "text/plain": [
       "1.64"
      ]
     },
     "execution_count": 220,
     "metadata": {},
     "output_type": "execute_result"
    }
   ],
   "source": [
    "z_alpha = norm.ppf(probabilidade)\n",
    "z_alpha.round(2)"
   ]
  },
  {
   "cell_type": "code",
   "execution_count": 224,
   "id": "4031c6c2",
   "metadata": {},
   "outputs": [
    {
     "data": {
      "text/plain": [
       "1.7853321917871885"
      ]
     },
     "execution_count": 224,
     "metadata": {},
     "output_type": "execute_result"
    }
   ],
   "source": [
    "numerador = (media_amostra_ped_lc - media_amostra_cax_lc) - D_0\n",
    "\n",
    "denominador = np.sqrt((desvio_padrao_cax_lc ** 2 / n_H) + (desvio_padrao_ped_lc ** 2 / n_M))\n",
    "\n",
    "z = numerador / denominador\n",
    "\n",
    "z"
   ]
  },
  {
   "cell_type": "code",
   "execution_count": 225,
   "id": "f2490e91",
   "metadata": {},
   "outputs": [
    {
     "data": {
      "text/plain": [
       "True"
      ]
     },
     "execution_count": 225,
     "metadata": {},
     "output_type": "execute_result"
    }
   ],
   "source": [
    "z >= z_alpha"
   ]
  },
  {
   "cell_type": "markdown",
   "id": "38a6b4a2",
   "metadata": {},
   "source": [
    "### <font color='green'>Conclusão: Com um nível de confiança de 95% aceitamos $H_1$ , isto é, concluímos que a média das notas em linguagens e código no municipio de pedreiras é maior que a média das notas em linguagens e código no municipio de Caxias. corroborando com hipotese de que as notas em Redação dos candidatos do sexo masculino é maior que a do sexo feminino</font>"
   ]
  },
  {
   "cell_type": "code",
   "execution_count": null,
   "id": "726bbdc1",
   "metadata": {},
   "outputs": [],
   "source": []
  }
 ],
 "metadata": {
  "kernelspec": {
   "display_name": "Python 3 (ipykernel)",
   "language": "python",
   "name": "python3"
  },
  "language_info": {
   "codemirror_mode": {
    "name": "ipython",
    "version": 3
   },
   "file_extension": ".py",
   "mimetype": "text/x-python",
   "name": "python",
   "nbconvert_exporter": "python",
   "pygments_lexer": "ipython3",
   "version": "3.9.7"
  }
 },
 "nbformat": 4,
 "nbformat_minor": 5
}
