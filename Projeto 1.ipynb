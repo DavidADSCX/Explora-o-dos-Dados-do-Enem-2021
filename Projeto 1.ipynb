{
 "cells": [
  {
   "cell_type": "markdown",
   "id": "59a32780",
   "metadata": {},
   "source": [
    "<font color=green size=7>Exploração dos Dados do Enem 2021</font>"
   ]
  },
  {
   "cell_type": "markdown",
   "id": "0fabf421",
   "metadata": {},
   "source": [
    "### Exame nacional do Ensino Médio\n",
    "\n",
    "O <b>Exame Nacional do Ensino Médio (Enem)</b> foi instituído em 1998, com o objetivo de avaliar o desempenho escolar dos estudantes ao término da educação básica. Em 2009, o exame aperfeiçoou sua metodologia e passou a ser utilizado como mecanismo de acesso à educação superior. Desde 2020, o participante pode escolher entre fazer o exame impresso ou o Enem Digital, com provas aplicadas em computadores, em locais de prova definidos pelo Inep.  \n",
    "                                                                               <b>Fonte:</b> Site do Inep \n",
    "    \n"
   ]
  },
  {
   "cell_type": "markdown",
   "id": "50430368",
   "metadata": {},
   "source": [
    "### Fonte dos Dados\n",
    "\n",
    "https://www.gov.br/inep/pt-br/acesso-a-informacao/dados-abertos/microdados/enem"
   ]
  },
  {
   "cell_type": "markdown",
   "id": "aedb747c",
   "metadata": {},
   "source": [
    "### Dicionário do Dataset\n",
    "\n",
    "> ### Sexo\t\n",
    "> ***\n",
    "\n",
    "|Código|Descrição|\n",
    "|---|---|\n",
    "|M|Masculino|\n",
    "|F|Feminino|\n",
    "\n",
    "> ### Faixa Etária\n",
    "> ***\n",
    "\n",
    "|Código|Descrição|\n",
    "|---|---|\n",
    "|1|Menor de 17 anos|\n",
    "|2|17 anos|\n",
    "|3|18 anos|\n",
    "|4|19 anos|\n",
    "|5|20 anos|\n",
    "|6|21 anos|\n",
    "|7|22 anos|\n",
    "|8|23 anos|\n",
    "|9|24 anos|\n",
    "|10|25 anos|\n",
    "|11|Entre 26 e 30 anos|\n",
    "|12|Entre 31 e 35 anos|\n",
    "|13|Entre 36 e 40 anos|\n",
    "|14|Entre 41 e 45 anos|\n",
    "|15|Entre 46 e 50 anos|\n",
    "|16|Entre 51 e 55 anos|\n",
    "|17|Entre 56 e 60 anos| \n",
    "|18|Entre Entre 61 e 65 anos|\n",
    "|19|Entre 66 e 70 anos|\n",
    "|20|Maior de 70 anos|\n",
    "\n",
    "> ### Cor/Raça\n",
    "> ***\n",
    "\n",
    "|Código|Descrição|\n",
    "|---|---|\n",
    "|0|Não Declarado|\n",
    "|1|Branca|\n",
    "|2|Preta|\n",
    "|3|Parda|\n",
    "|4|Amarela|\n",
    "|5|Indígena|\n",
    "|6|NA|\n",
    "\n",
    "> ### Nacionalidade\n",
    "> ***\n",
    "\n",
    "|Código|Descrição|\n",
    "|---|---|\n",
    "|0|Não informado|\n",
    "|1|Brasileiro(a)|\n",
    "|2|Brasileiro(a) Naturalizado(a)|\n",
    "|3|Estrangeiro(a)|\n",
    "|4|Brasileiro(a) Nato(a), nascido(a) no exterior|\n",
    "\n",
    "> ### Questionário Q001 e Q002\n",
    "> ***\n",
    "\n",
    "|Código|Descrição|\n",
    "|---|---|\n",
    "|A|Nunca estudou|\n",
    "|B|Não completou a 4ª série/5º ano do Ensino Fundamental|\n",
    "|C|Completou a 4ª série/5º ano, mas não completou a 8ª série/9º ano do Ensino Fundamental|\n",
    "|D|Completou a 8ª série/9º ano do Ensino Fundamental, mas não completou o Ensino Médio|\n",
    "|E|Completou o Ensino Médio, mas não completou a Faculdade|\n",
    "|F|Completou a Faculdade, mas não completou a Pós-graduação|\n",
    "|G|Completou a Pós-graduação|\n",
    "|H|Não sei|\n"
   ]
  },
  {
   "cell_type": "code",
   "execution_count": null,
   "id": "ee3404d3",
   "metadata": {},
   "outputs": [],
   "source": [
    "# Importar a biblioteca pandas e numpy para manipular os dados armazenados no dataset\n",
    "\n",
    "import pandas as pd\n",
    "import seaborn as sns\n",
    "import matplotlib.pyplot as plt\n",
    "from scipy import stats\n",
    "import numpy as np\n",
    "from scipy.stats import normaltest"
   ]
  },
  {
   "cell_type": "code",
   "execution_count": null,
   "id": "4ff92160",
   "metadata": {},
   "outputs": [],
   "source": [
    "np.__version__"
   ]
  },
  {
   "cell_type": "code",
   "execution_count": null,
   "id": "bb0f57d9",
   "metadata": {},
   "outputs": [],
   "source": [
    "# utilizar o método pd.read_csv para ler o arquivo csv\n",
    "dados_enem = pd.read_csv(\"MICRODADOS_ENEM_2021.csv\", encoding=\"ISO -8859-1\", sep = ';')"
   ]
  },
  {
   "cell_type": "code",
   "execution_count": null,
   "id": "3382219f",
   "metadata": {},
   "outputs": [],
   "source": [
    "# imprimir as 5 primeiras linhas do dataset\n",
    "dados_enem.head()"
   ]
  },
  {
   "cell_type": "code",
   "execution_count": null,
   "id": "70e7f10a",
   "metadata": {},
   "outputs": [],
   "source": [
    "# utilizar o metodo shape para conhecer o numero de linhas e colunas do dataset\n",
    "print('O dataframe possui {} linhas e {} colunas'.format(dados_enem.shape[0],dados_enem.shape[1]))\n"
   ]
  },
  {
   "cell_type": "code",
   "execution_count": null,
   "id": "2beb07a0",
   "metadata": {},
   "outputs": [],
   "source": [
    "# visualiar todas as colunas presente no dataset irá imprimir uma array\n",
    "dados_enem.columns.values"
   ]
  },
  {
   "cell_type": "code",
   "execution_count": null,
   "id": "90e4943b",
   "metadata": {},
   "outputs": [],
   "source": [
    "# vamos selecionar algumas colunas\n",
    "\n",
    "colunas_selecionadas = ['NU_INSCRICAO','NU_ANO','TP_SEXO','TP_FAIXA_ETARIA','TP_SIT_FUNC_ESC',\n",
    "       'TP_ESTADO_CIVIL', 'TP_COR_RACA', 'TP_NACIONALIDADE','NO_MUNICIPIO_PROVA',\n",
    "       'SG_UF_ESC','NU_NOTA_CN', 'NU_NOTA_CH', 'NU_NOTA_LC','TP_DEPENDENCIA_ADM_ESC',\n",
    "       'NU_NOTA_MT','NU_NOTA_REDACAO','Q001', 'Q002','Q024', 'Q025']"
   ]
  },
  {
   "cell_type": "code",
   "execution_count": null,
   "id": "f62aa865",
   "metadata": {},
   "outputs": [],
   "source": [
    "# criar um dataset com as colunas selecionadas\n",
    "dados_selecionado = dados_enem.filter(items=colunas_selecionadas)\n",
    "dados_selecionado.head()"
   ]
  },
  {
   "cell_type": "code",
   "execution_count": null,
   "id": "21af2837",
   "metadata": {},
   "outputs": [],
   "source": [
    "pd.DataFrame({'tipos':dados_selecionado.dtypes, 'missing':dados_selecionado.isna().sum()})"
   ]
  },
  {
   "cell_type": "markdown",
   "id": "89492904",
   "metadata": {},
   "source": [
    "<b>Método info():</b> Este método imprime informações sobre um DataFrame, incluindo o índice dtype e colunas, valores não nulos e uso de memória.\n"
   ]
  },
  {
   "cell_type": "code",
   "execution_count": null,
   "id": "458e919d",
   "metadata": {},
   "outputs": [],
   "source": [
    "dados_selecionado.info(show_counts = True)"
   ]
  },
  {
   "cell_type": "markdown",
   "id": "97aa7b26",
   "metadata": {},
   "source": [
    "## Iremos fazer algumas perguntas para o Dataset\n",
    "\n",
    "### 1) Qual a distribuição de sexo declarado no Enem?"
   ]
  },
  {
   "cell_type": "code",
   "execution_count": null,
   "id": "63ebce0c",
   "metadata": {},
   "outputs": [],
   "source": [
    "dist_sexo = dados_selecionado['TP_SEXO']\n",
    "freq_sexo = dist_sexo.value_counts()\n",
    "freq_sexo"
   ]
  },
  {
   "cell_type": "code",
   "execution_count": null,
   "id": "8fb0762e",
   "metadata": {},
   "outputs": [],
   "source": [
    "# iremos utilizar o paramentro normalize para tirar o percentual\n",
    "percentual=dist_sexo.value_counts(normalize = True)*100\n",
    "percentual.round()"
   ]
  },
  {
   "cell_type": "code",
   "execution_count": null,
   "id": "e46b2b19",
   "metadata": {},
   "outputs": [],
   "source": [
    "# construir uma tabela com a frequencia e porcentagem do sexo declarado \n",
    "dist_freq_qualitativas = pd.DataFrame({'Frequência': freq_sexo, 'Porcentagem (%)': percentual.round()})\n",
    "dist_freq_qualitativas.rename(index = {\"M\": 'Masculino', \"F\": 'Feminino'}, inplace = True)\n",
    "dist_freq_qualitativas.rename_axis('Sexo', axis = 'columns', inplace =True)\n",
    "dist_freq_qualitativas"
   ]
  },
  {
   "cell_type": "markdown",
   "id": "9756b25d",
   "metadata": {},
   "source": [
    "\n",
    "\n",
    "Segundo um levamanento feito pelo Instituto Semesp, 57% dos estudantes matriculados nas instituições de ensino superiores são do sexo feminino.(https://agenciabrasil.ebc.com.br/educacao/noticia/2020-05/mapa-do-ensino-superior-aponta-para-maioria-feminina-e-branca) \n",
    "\n",
    "<b>Conclusão: </b> Com o resultado dos dados encontrado no dataset o qual mostra que 62% dos candidatos são do sexo feminino e 38% do sexo masculino o resultado mostrado pelo conjunto de dados só corrobora com pesquisa feita pelo Instituto Semesp."
   ]
  },
  {
   "cell_type": "markdown",
   "id": "b870b7c1",
   "metadata": {},
   "source": [
    "### 2) Qual relação de distribuição da  faixa etária dos candidatos por sexo?"
   ]
  },
  {
   "cell_type": "code",
   "execution_count": null,
   "id": "96a080b4",
   "metadata": {},
   "outputs": [],
   "source": [
    "# utilizar o metodo groupby para agrupar a variável\n",
    "faixa_etaria_sexo = ['TP_FAIXA_ETARIA','TP_SEXO']\n",
    "faixaetaria_sexo = dados_enem.filter(items = faixa_etaria_sexo)"
   ]
  },
  {
   "cell_type": "code",
   "execution_count": null,
   "id": "0c3c527e",
   "metadata": {},
   "outputs": [],
   "source": [
    "Contagem_sexo_F = faixaetaria_sexo.query('TP_SEXO == \"F\"').value_counts().to_frame().reset_index()\n",
    "Contagem_sexo_F.columns = ['Faixa_Etária', 'Sexo', 'Total']\n",
    "Contagem_sexo_F.head()\n"
   ]
  },
  {
   "cell_type": "code",
   "execution_count": null,
   "id": "ef75f2ff",
   "metadata": {},
   "outputs": [],
   "source": [
    "sns.catplot(x = 'Faixa_Etária', y = 'Total', kind = 'bar', data= Contagem_sexo_F,\n",
    "           aspect = 3, height = 3,palette = 'rocket')\n"
   ]
  },
  {
   "cell_type": "code",
   "execution_count": null,
   "id": "e3afeb84",
   "metadata": {},
   "outputs": [],
   "source": [
    "Contagem_sexo_M = faixaetaria_sexo.query('TP_SEXO == \"M\"').value_counts().to_frame().reset_index()\n",
    "Contagem_sexo_M.columns = ['Faixa_Etária', 'Sexo', 'Total']\n",
    "Contagem_sexo_M.head()"
   ]
  },
  {
   "cell_type": "code",
   "execution_count": null,
   "id": "912d52b9",
   "metadata": {},
   "outputs": [],
   "source": [
    "sns.catplot(x = 'Faixa_Etária', y = 'Total', kind = 'bar', data= Contagem_sexo_M,\n",
    "           aspect = 3, height = 3,palette = 'rocket')"
   ]
  },
  {
   "cell_type": "code",
   "execution_count": null,
   "id": "c27557f4",
   "metadata": {},
   "outputs": [],
   "source": [
    "Contagem_sexo = (faixaetaria_sexo.value_counts(normalize = True)*100).to_frame().reset_index().round(2)\n",
    "Contagem_sexo.columns = ['FAIXA_ETARIA','SEXO','Percentual(%)']"
   ]
  },
  {
   "cell_type": "code",
   "execution_count": null,
   "id": "86584c2a",
   "metadata": {},
   "outputs": [],
   "source": [
    "dict_faixa_etaria = {1:'Menor de 17 anos', 2:'17 anos', 3:'18 anos', 4:'19 anos',5:'20 anos',\n",
    "6:'21 anos', 7:'22 anos', 8:'23 anos', 9:'24 anos', 10:'25 anos', 11:'Entre 26 e 30 anos',\n",
    "12:'Entre 31 e 35 anos', 13:'Entre 36 e 40 anos', 14:'Entre 41 e 45 anos', 15:'Entre 46 e 50 anos',\n",
    "16:'Entre 51 e 55 anos', 17:'Entre 56 e 60 anos', 18:'Entre 61 e 65 anos',19:'Entre 66 e 70 anos',\n",
    "20:'Maior de 70 anos'}"
   ]
  },
  {
   "cell_type": "code",
   "execution_count": null,
   "id": "b342cc9c",
   "metadata": {},
   "outputs": [],
   "source": [
    "ax = sns.barplot(data=Contagem_sexo, x='FAIXA_ETARIA', y='Percentual(%)', hue='SEXO',palette = 'flare')\n",
    "ax.set_title(\"Distribuição de percentual\", fontsize = 20)\n",
    "\n",
    "\n",
    "textdict = \" \"\n",
    "for key,value in dict_faixa_etaria.items():\n",
    "    textdict = textdict + \"{k} : {v}\\n\".format(k=key,v=value)\n",
    "\n",
    "ax.text(1.04, -0.00, textdict, transform=ax.transAxes, fontsize = 9, color = 'black',\n",
    "       bbox = {'boxstyle': 'round', 'facecolor': 'white', 'alpha': 1})\n",
    "ax=ax"
   ]
  },
  {
   "cell_type": "markdown",
   "id": "fd1c8fae",
   "metadata": {},
   "source": [
    "### Podemos inferir do gráfico:\n",
    "1) A faixa etária com maior número de participação é a de 18 anos e também maior participação feminina.\n",
    "\n",
    "2) Em quase todas as faixas etárias o que prevalece é o sexo feminino, no gráfico não mostra, mas nas duas últimas faixas o sexo masculino prevalece.\n",
    "\n",
    "3) As faixas etárias 2, 3,e 4 têm um número muito grande pela seguinte questão: muitos dos candidatos estão prestando seu primeiro vestibular pois estão já no último ano do Ensino Médio.\n",
    "\n",
    "4) Podem ter candidatos das faixas etárias maiores também que prestaram seu primeiro vestibular, que são aquelas pessoas que concluiram o seu ensino médio de forma tardio."
   ]
  },
  {
   "cell_type": "markdown",
   "id": "0b448af7",
   "metadata": {},
   "source": [
    "## 3) Qual a distribuição por frequência absoluta da Cor/Raça no enem 2021 em relação ao sexo?"
   ]
  },
  {
   "cell_type": "code",
   "execution_count": null,
   "id": "39c1ce39",
   "metadata": {},
   "outputs": [],
   "source": [
    "raca_sexo = ['NU_INSCRICAO','TP_COR_RACA','TP_SEXO']\n",
    "dist_raca_sexo = dados_enem.filter(items = raca_sexo)\n",
    "distribuicao_frequência_cor_raca = dist_raca_sexo.groupby(['TP_COR_RACA','TP_SEXO']).count()\n",
    "distribuicao_frequência_cor_raca.columns = ['Total']\n",
    "distribuicao_frequência_cor_raca"
   ]
  },
  {
   "cell_type": "code",
   "execution_count": null,
   "id": "ccf66c1e",
   "metadata": {},
   "outputs": [],
   "source": [
    "# plotar um grafico \n",
    "grafico = distribuicao_frequência_cor_raca.reset_index()\n",
    "grafico['TP_COR_RACA'] = grafico['TP_COR_RACA'].map({0: \"NA\",1: \"Branca\",2: \"Preta\",3: \"Parda\",4: \"Amarela\",5: \"Indígena\",6: \"NA\"})\n",
    "grafico"
   ]
  },
  {
   "cell_type": "code",
   "execution_count": null,
   "id": "a90b8c11",
   "metadata": {},
   "outputs": [],
   "source": [
    "sns.set_theme(style=\"whitegrid\")\n",
    "\n",
    "g = sns.catplot(\n",
    "    data=grafico, kind=\"bar\",\n",
    "    x=\"TP_COR_RACA\", y=\"Total\", hue=\"TP_SEXO\",\n",
    "   palette=\"dark\", alpha=.8, height=6)\n",
    "g.despine(left=True)\n",
    "g.set_axis_labels(\"\", \"Total\")\n",
    "g.legend.set_title(\"SEXO\")\n",
    "g.set(ylim=(0, 1000000))\n",
    "ax=ax"
   ]
  },
  {
   "cell_type": "markdown",
   "id": "b3edf84d",
   "metadata": {},
   "source": [
    "De acordo com grafico de distribuiçao podemos observar que Candidatos que se autodeclararam pardos são maioria entre outras Cores/Raças. \n",
    "\n",
    "Candidatos que se autodeclararam Brancos vem logo após como segunda Cor/Raça mais presente no Enem 2021. \n",
    "\n",
    "E logo despois os candidatos autodeclarados pretos com menos de 500.000 candidatos. \n",
    "\n",
    "\n",
    "Essa distribuição é bem semelhanete a que IBGE através da PNAD, Pesquisa Nacional por Amostra de Domicílios (PNAD Contínua) 2021, divulgou, que 43,0% dos brasileiros se declararam como brancos, 47,0% como pardos e 9,1% como pretos. \n",
    "\n",
    "\n"
   ]
  },
  {
   "cell_type": "markdown",
   "id": "757ea738",
   "metadata": {},
   "source": [
    "## 4) Quantos candidatos estrangeiros prestaram o Enem?"
   ]
  },
  {
   "cell_type": "markdown",
   "id": "9994c0d9",
   "metadata": {},
   "source": [
    "> ### 4.1) por frequência relativa"
   ]
  },
  {
   "cell_type": "code",
   "execution_count": null,
   "id": "7b111c46",
   "metadata": {},
   "outputs": [],
   "source": [
    "nacionalidade_frequencia_relativa = (dados_enem['TP_NACIONALIDADE'].value_counts(normalize = True)*100).to_frame().reset_index().round(2)\n",
    "nacionalidade_frequencia_relativa.columns = ['Nacionalidade', 'Percentual(%)']\n",
    "nacionalidade_frequencia_relativa['Nacionalidade'] = nacionalidade_frequencia_relativa['Nacionalidade'].map({1: \"Brasileiro(a)\", 2: \"Brasileiro(a) Naturalizado(a)\",\n",
    "                                                                                                             4: \"Brasileiro(a) Nato(a), nascido(a) no exterior\", \n",
    "                                                                                                             3: \"Estrangeiro(a)\", 0: \"Não informado\"})\n",
    "nacionalidade_frequencia_relativa"
   ]
  },
  {
   "cell_type": "markdown",
   "id": "d414ec08",
   "metadata": {},
   "source": [
    "> ### 4.2) por frequência absoluta"
   ]
  },
  {
   "cell_type": "code",
   "execution_count": null,
   "id": "acd02533",
   "metadata": {},
   "outputs": [],
   "source": [
    "nacionalidade_frequencia_absoluta = dados_enem['TP_NACIONALIDADE'].value_counts().to_frame().reset_index()\n",
    "nacionalidade_frequencia_absoluta.columns  = [\"Nacionalidade\", \"Total\"]\n",
    "nacionalidade_frequencia_absoluta[\"Nacionalidade\"] = nacionalidade_frequencia_absoluta[\"Nacionalidade\"].map({0: \"Não informado\", 1: \"Brasileiro(a)\", 2: \"Brasileiro(a) Naturalizado(a)\",\n",
    "                                                                                                             3: \"Estrangeiro(a)\", 4: \"Brasileiro(a) Nato(a), nascido(a) no exterior\"})\n",
    "nacionalidade_frequencia_absoluta"
   ]
  },
  {
   "cell_type": "code",
   "execution_count": null,
   "id": "189739b7",
   "metadata": {},
   "outputs": [],
   "source": [
    "dados_enem[['TP_NACIONALIDADE','TP_FAIXA_ETARIA']].query(\"TP_NACIONALIDADE == 0\").groupby('TP_FAIXA_ETARIA').count()"
   ]
  },
  {
   "cell_type": "code",
   "execution_count": null,
   "id": "fd4eaaf3",
   "metadata": {},
   "outputs": [],
   "source": [
    "dados_enem[['TP_NACIONALIDADE','TP_FAIXA_ETARIA']].query(\"TP_NACIONALIDADE == 2\").groupby('TP_FAIXA_ETARIA').count().plot(kind = \"barh\")"
   ]
  },
  {
   "cell_type": "markdown",
   "id": "7d5ccb23",
   "metadata": {},
   "source": [
    "97% dos candidatos são brasileiros. Quase 2% dos candidatos são naturalizados. Os brasileiros naturalizados também poderiam sinalizar no questionário que são brasileiros pois a opção brasileiro(a) não faz diferença entre natos e naturalizados. 0.19% declararam ser Brasileiro Nato, porém nascido no exterior e 0.13% se declarou estrangeiro.\n",
    "\n",
    "Explorando as idades dos candidatos Brasileiro Naturalizados podemos observar que eles estão presentes em todas as faixa etaria e maior número estão nas idades  de 18 e 19 anos. "
   ]
  },
  {
   "cell_type": "markdown",
   "id": "72caede2",
   "metadata": {},
   "source": [
    "## 5) Qual a média das notas em matemática, Português,e Redação de acordo com escolaridade do Pai e da Mãe?\n"
   ]
  },
  {
   "cell_type": "code",
   "execution_count": null,
   "id": "9d255426",
   "metadata": {},
   "outputs": [],
   "source": [
    "#definindo um dicionario para visualizar melhor o resultado\n",
    "\n",
    "dicionarioq01q02 = {'A': 'Nunca estudou',\n",
    "'B': 'Não completou a 4ª série/5º ano do Ensino Fundamental',\n",
    "'C': 'Completou a 4ª série/5º ano, mas não completou a 8ª série/9º ano do Ensino Fundamental',\n",
    "'D': 'Completou a 8ª série/9º ano do Ensino Fundamental, mas não completou o Ensino Médio',\n",
    "'E': 'Completou o Ensino Médio, mas não completou a Faculdade',\n",
    "'F': 'Completou a Faculdade, mas não completou a Pós-graduação',\n",
    "'G': 'Completou a Pós-graduação',\n",
    "'H':'Não sei'}\n",
    "dicionarioq24 = {\"A\": \"Não\", \"B\": \"Sim,um\",\"C\":\"Sim, dois\",\"D\":\"Sim, três\",\"E\":\"Sim, quatro ou mais\"}\n",
    "dicionarioq25 = {\"A\":\"Não\",\"B\":\"Sim\"}"
   ]
  },
  {
   "cell_type": "code",
   "execution_count": null,
   "id": "468444e7",
   "metadata": {},
   "outputs": [],
   "source": [
    "colunasselecionadas = ['NU_INSCRICAO','NU_NOTA_MT', 'NU_NOTA_LC','NU_NOTA_REDACAO','Q001', 'Q002','Q024', 'Q025']\n",
    "microdadosenemselecionado = dados_selecionado.filter(items = colunasselecionadas)\n",
    "microdadosenemselecionado = microdadosenemselecionado.dropna()\n",
    "microdadosenemselecionado.head()"
   ]
  },
  {
   "cell_type": "code",
   "execution_count": null,
   "id": "b8e9ab03",
   "metadata": {},
   "outputs": [],
   "source": [
    "microdadosenemselecionado['NO_Q001'] = [dicionarioq01q02[resp] for resp in microdadosenemselecionado.Q001]\n",
    "microdadosenemselecionado['NO_Q002'] = [dicionarioq01q02[resp] for resp in microdadosenemselecionado.Q002]\n",
    "microdadosenemselecionado['NO_Q024'] = [dicionarioq24[resp] for resp in microdadosenemselecionado.Q024]\n",
    "microdadosenemselecionado['NO_Q025'] = [dicionarioq25[resp] for resp in microdadosenemselecionado.Q025] "
   ]
  },
  {
   "cell_type": "code",
   "execution_count": null,
   "id": "415e4f6b",
   "metadata": {
    "scrolled": true
   },
   "outputs": [],
   "source": [
    "microdadosenemselecionado.head()"
   ]
  },
  {
   "cell_type": "markdown",
   "id": "9a555364",
   "metadata": {},
   "source": [
    "## 6) Qual a média das notas em Matemática, Português, e Redação de acordo com escolaridade do Pai e da Mãe?"
   ]
  },
  {
   "cell_type": "code",
   "execution_count": null,
   "id": "20c1bdb7",
   "metadata": {},
   "outputs": [],
   "source": [
    "# Desempenho em Matemática em relação à escolidade do PAI\n",
    "grafico_nota_matematica_p = microdadosenemselecionado.filter(items=['NU_NOTA_MT', 'NO_Q001']).groupby('NO_Q001').mean().sort_values(by='NU_NOTA_MT', ascending= True)\n",
    "ax = grafico_nota_matematica_p.plot(kind = 'barh', colormap = 'twilight_shifted',legend = False)\n",
    "ax.set_title(\"Nota Matemática x Escolaridade em relação ao Pai\", fontsize = 15)\n",
    "ax=ax"
   ]
  },
  {
   "cell_type": "code",
   "execution_count": null,
   "id": "a89f9f79",
   "metadata": {},
   "outputs": [],
   "source": [
    "# Desempenho em Matemática em relação à escolidade do Mãe\n",
    "\n",
    "grafico_nota_matematica_m = microdadosenemselecionado.filter(items=['NU_NOTA_MT', 'NO_Q002']).groupby('NO_Q002').mean().sort_values(by='NU_NOTA_MT', ascending= True)\n",
    "ax = grafico_nota_matematica_m.plot(kind = \"barh\", colormap = \"pink\", legend = False)\n",
    "ax.set_title(\"Nota Matemática x Escolaridade da Mãe\", fontsize = 15)"
   ]
  },
  {
   "cell_type": "code",
   "execution_count": null,
   "id": "f80341fa",
   "metadata": {},
   "outputs": [],
   "source": [
    "# Desempenho em Português em relação à escolidade do PAI\n",
    "grafico_nota_portugues_p = microdadosenemselecionado.filter(items=['NU_NOTA_LC', 'NO_Q001']).groupby('NO_Q001').mean().sort_values(by='NU_NOTA_LC', ascending= True)\n",
    "ax = grafico_nota_portugues_p.plot(kind = \"barh\", colormap = \"vlag\", legend = False)\n",
    "ax.set_title(\"Nota Lingua Portuguesa x Escolaridade da Pai\", fontsize = 15)\n",
    "ax=ax"
   ]
  },
  {
   "cell_type": "code",
   "execution_count": null,
   "id": "da76d352",
   "metadata": {},
   "outputs": [],
   "source": [
    "# Desempenho em Português em relação à escolidade do Mãe\n",
    "grafico_nota_portugues_m = microdadosenemselecionado.filter(items=['NU_NOTA_LC', 'NO_Q002']).groupby('NO_Q002').mean().sort_values(by='NU_NOTA_LC', ascending= True)\n",
    "ax = grafico_nota_portugues_m.plot(kind = \"barh\", colormap = \"summer\", legend = False)\n",
    "ax.set_title(\"Nota Lingua Portuguesa x Escolaridade da Mãe\", fontsize = 15)\n",
    "ax=ax"
   ]
  },
  {
   "cell_type": "code",
   "execution_count": null,
   "id": "f66130b4",
   "metadata": {},
   "outputs": [],
   "source": [
    "# Desempenho em Redação em relação à escolidade do Pai\n",
    "grafico_nota_redacao_p = microdadosenemselecionado.filter(items=['NU_NOTA_REDACAO', 'NO_Q001']).groupby('NO_Q001').mean().sort_values(by='NU_NOTA_REDACAO', ascending= True)\n",
    "ax = grafico_nota_portugues_p.plot(kind = \"barh\", colormap = \"magma\", legend = False)\n",
    "ax.set_title(\"Nota Redação x Escolaridade da Pai\", fontsize = 15)\n",
    "ax=ax"
   ]
  },
  {
   "cell_type": "code",
   "execution_count": null,
   "id": "62ff7376",
   "metadata": {},
   "outputs": [],
   "source": [
    "# Desempenho em Redação em relação à escolidade do Pai\n",
    "grafico_nota_recacao_m = microdadosenemselecionado.filter(items=['NU_NOTA_REDACAO', 'NO_Q002']).groupby('NO_Q002').mean().sort_values(by='NU_NOTA_REDACAO', ascending= True)\n",
    "ax = grafico_nota_portugues_m.plot(kind = \"barh\", colormap = \"copper\", legend = False)\n",
    "ax.set_title(\"Nota Lingua Portuguesa x Escolaridade da Mãe\", fontsize = 15)"
   ]
  },
  {
   "cell_type": "markdown",
   "id": "ff358f52",
   "metadata": {},
   "source": [
    "Analisando as médias das notas em Lingua Portguesa, Mátemática e Redação foi verificado que quanto maior a escolaridade dos pais \n",
    "melhor é o desempenho do candidato.\n",
    "\n",
    "Em relação a nota de matemática, foi observado uma diferença entre as medias um pouco acentuada quando os pais já completou a Pós-Graduação e Completou a facultadade, mas não completou a Pós-Graduação. "
   ]
  },
  {
   "cell_type": "markdown",
   "id": "31183b61",
   "metadata": {},
   "source": [
    "## 7) Qual relação da nota com o acesso a internet e ter um computador em casa?"
   ]
  },
  {
   "cell_type": "code",
   "execution_count": null,
   "id": "3e9e3e74",
   "metadata": {},
   "outputs": [],
   "source": [
    "microdadosenemselecionado[[\"NU_INSCRICAO\",\"NU_NOTA_MT\",\"NU_NOTA_LC\",\"NU_NOTA_REDACAO\",\"NO_Q024\",\"NO_Q025\"]]\n",
    "\n"
   ]
  },
  {
   "cell_type": "markdown",
   "id": "9cad5ece",
   "metadata": {},
   "source": [
    ">> <b>7.1) Candidatos com/sem acesso a internet e a relação da media das notas de Matemática Portugues e Redação?</b>"
   ]
  },
  {
   "cell_type": "code",
   "execution_count": null,
   "id": "18a46c3c",
   "metadata": {},
   "outputs": [],
   "source": [
    "acesso_internet = (microdadosenemselecionado[\"NO_Q025\"].value_counts(normalize = True)*100).round().to_frame().reset_index()\n",
    "acesso_internet.columns = [\"acesso_internet\", \"%_Percentual\"]\n",
    "acesso_internet"
   ]
  },
  {
   "cell_type": "code",
   "execution_count": null,
   "id": "c5865eb5",
   "metadata": {},
   "outputs": [],
   "source": [
    "# Desempenho em Matemática dos Candidatos que possuem internet e aqueles que não possuem\n",
    "microdadosenemselecionado[[\"NO_Q025\",\"NU_NOTA_MT\"]].groupby(\"NO_Q025\").mean()"
   ]
  },
  {
   "cell_type": "code",
   "execution_count": null,
   "id": "b7f09236",
   "metadata": {},
   "outputs": [],
   "source": [
    "# Desempenho em Português dos Candidatos que possuem internet e aqueles que não possuem\n",
    "microdadosenemselecionado[[\"NO_Q025\",\"NU_NOTA_LC\"]].groupby(\"NO_Q025\").mean()"
   ]
  },
  {
   "cell_type": "code",
   "execution_count": null,
   "id": "22d4564c",
   "metadata": {},
   "outputs": [],
   "source": [
    "# Desempenho em Redação dos Candidatos que possuem internet e aqueles que não possuem\n",
    "microdadosenemselecionado[[\"NO_Q025\",\"NU_NOTA_REDACAO\"]].groupby(\"NO_Q025\").mean()"
   ]
  },
  {
   "cell_type": "markdown",
   "id": "7b3889d7",
   "metadata": {},
   "source": [
    ">> <b>7.2) Quantos candidatos têm pelo menos um computador em casa?</b>"
   ]
  },
  {
   "cell_type": "code",
   "execution_count": null,
   "id": "4bacd8e3",
   "metadata": {},
   "outputs": [],
   "source": [
    "microdadosenemselecionado[\"NO_Q024\"].value_counts().to_frame()"
   ]
  },
  {
   "cell_type": "code",
   "execution_count": null,
   "id": "c6e35a31",
   "metadata": {},
   "outputs": [],
   "source": [
    "qtd_pc_mat = microdadosenemselecionado[[\"NO_Q024\",\"NU_NOTA_MT\"]].groupby(\"NO_Q024\").mean()\n",
    "qtd_pc_mat[\"DESVIO_PADRAO\"] = microdadosenemselecionado[[\"NO_Q024\",\"NU_NOTA_MT\"]].groupby(\"NO_Q024\").std()\n",
    "qtd_pc_mat"
   ]
  },
  {
   "cell_type": "code",
   "execution_count": null,
   "id": "46e5b1cc",
   "metadata": {},
   "outputs": [],
   "source": [
    "microdadosenemselecionado[[\"NO_Q024\",\"NU_NOTA_MT\"]].groupby(\"NO_Q024\").sem()"
   ]
  },
  {
   "cell_type": "code",
   "execution_count": null,
   "id": "88c472e4",
   "metadata": {},
   "outputs": [],
   "source": [
    "qtd_pc_port = microdadosenemselecionado[[\"NO_Q024\",\"NU_NOTA_LC\"]].groupby(\"NO_Q024\").mean()\n",
    "qtd_pc_port[\"DESVIO_PADRAO\"] = microdadosenemselecionado[[\"NO_Q024\",\"NU_NOTA_LC\"]].groupby(\"NO_Q024\").std().round(2)\n",
    "qtd_pc_port"
   ]
  },
  {
   "cell_type": "code",
   "execution_count": null,
   "id": "e95de179",
   "metadata": {},
   "outputs": [],
   "source": [
    "qtd_pc_red = microdadosenemselecionado[[\"NO_Q024\",\"NU_NOTA_REDACAO\"]].groupby(\"NO_Q024\").mean()\n",
    "qtd_pc_red[\"DESVIO_PADRAO\"] = microdadosenemselecionado[[\"NO_Q024\",\"NU_NOTA_REDACAO\"]].groupby(\"NO_Q024\").std()\n",
    "qtd_pc_red"
   ]
  },
  {
   "cell_type": "code",
   "execution_count": null,
   "id": "0a2034b5",
   "metadata": {},
   "outputs": [],
   "source": [
    "desvio_padrao_port = microdadosenemselecionado[[\"NO_Q024\",\"NU_NOTA_LC\"]].groupby(\"NO_Q024\").std().sort_values( by = \"NU_NOTA_LC\", ascending = False).reset_index()\n",
    "desvio_padrao_port"
   ]
  },
  {
   "cell_type": "code",
   "execution_count": null,
   "id": "d794be58",
   "metadata": {},
   "outputs": [],
   "source": []
  },
  {
   "cell_type": "markdown",
   "id": "129f7e26",
   "metadata": {},
   "source": [
    "## 8 ) Teste de comparação da média das notas entre sexo"
   ]
  },
  {
   "cell_type": "code",
   "execution_count": null,
   "id": "90201193",
   "metadata": {},
   "outputs": [],
   "source": [
    "from scipy import stats\n",
    "from scipy.stats import normaltest\n",
    "from scipy.stats import norm"
   ]
  },
  {
   "cell_type": "markdown",
   "id": "22d0f394",
   "metadata": {},
   "source": [
    "### **Passo 1** - formulação das hipóteses $H_0$ e $H_1$\n",
    "\n",
    "#### <font color='red'>Lembre-se, a hipótese nula sempre contém a alegação de igualdade</font>"
   ]
  },
  {
   "cell_type": "markdown",
   "id": "03740643",
   "metadata": {},
   "source": [
    "### $\\mu_1 \\Rightarrow$ Média das notas do sexo masculino\n",
    "### $\\mu_2 \\Rightarrow$ Média das notas do sexo feminino\n",
    "\n",
    "### $\n",
    "\\begin{cases}\n",
    "H_0: \\mu_1 \\leq \\mu_2\\\\\n",
    "H_1: \\mu_1 > \\mu_2\n",
    "\\end{cases}\n",
    "$\n",
    "\n",
    "### ou\n",
    "\n",
    "### $\n",
    "\\begin{cases}\n",
    "H_0: \\mu_1 -\\mu_2 \\leq 0\\\\\n",
    "H_1: \\mu_1 -\\mu_2 > 0\n",
    "\\end{cases}\n",
    "$"
   ]
  },
  {
   "cell_type": "markdown",
   "id": "c6edd429",
   "metadata": {},
   "source": [
    " ### <font color='black'> As notas em Português do sexo masculino é maior que a do sexo feminino?</font>"
   ]
  },
  {
   "cell_type": "code",
   "execution_count": null,
   "id": "88cb103e",
   "metadata": {},
   "outputs": [],
   "source": [
    "# vamos colher as duas amostras e verificar se as notas em português tem diferença entre o sexo masculino e feminino\n",
    "notas_lc_F  = dados_selecionado.query(\"TP_SEXO == 'F'\").sample(n = 1000, random_state = 101).NU_NOTA_LC.dropna()\n",
    "notas_lc_M  = dados_selecionado.query(\"TP_SEXO == 'M'\").sample(n = 1000, random_state = 101).NU_NOTA_LC.dropna()"
   ]
  },
  {
   "cell_type": "code",
   "execution_count": null,
   "id": "16ad9898",
   "metadata": {},
   "outputs": [],
   "source": [
    "# Retirar a média do sexo feminino\n",
    "media_amostra_f = notas_lc_F.mean()\n",
    "media_amostra_f"
   ]
  },
  {
   "cell_type": "code",
   "execution_count": null,
   "id": "258ce2d9",
   "metadata": {},
   "outputs": [],
   "source": [
    "# Retirar a média do sexo masculino\n",
    "media_amostra_m = notas_lc_M.mean()\n",
    "media_amostra_m"
   ]
  },
  {
   "cell_type": "code",
   "execution_count": null,
   "id": "a80f4e31",
   "metadata": {},
   "outputs": [],
   "source": [
    "# retirar o desvio padrão das notas do sexo feminino\n",
    "desvio_padrao_f = notas_lc_F.std()\n",
    "desvio_padrao_f"
   ]
  },
  {
   "cell_type": "code",
   "execution_count": null,
   "id": "c6bf0a2e",
   "metadata": {},
   "outputs": [],
   "source": [
    "# retirar o desvio padrão das notas do sexo masculino\n",
    "desvio_padrao_m = notas_lc_M.std()\n",
    "desvio_padrao_m"
   ]
  },
  {
   "cell_type": "code",
   "execution_count": null,
   "id": "3da04b5b",
   "metadata": {},
   "outputs": [],
   "source": [
    "significancia = 0.05\n",
    "confianca = 1 - significancia\n",
    "n_M = 1000\n",
    "n_H = 1000\n",
    "D_0 = 0"
   ]
  },
  {
   "cell_type": "code",
   "execution_count": null,
   "id": "60b5b406",
   "metadata": {},
   "outputs": [],
   "source": [
    "probabilidade = confianca\n",
    "probabilidade"
   ]
  },
  {
   "cell_type": "code",
   "execution_count": null,
   "id": "2a409582",
   "metadata": {},
   "outputs": [],
   "source": [
    "z_alpha = norm.ppf(probabilidade)\n",
    "z_alpha.round(2)"
   ]
  },
  {
   "cell_type": "code",
   "execution_count": null,
   "id": "12e0a20f",
   "metadata": {},
   "outputs": [],
   "source": [
    "numerador = (media_amostra_m - media_amostra_f) - D_0\n",
    "\n",
    "denominador = np.sqrt((desvio_padrao_f ** 2 / n_H) + (desvio_padrao_m ** 2 / n_M))\n",
    "\n",
    "z = numerador / denominador\n",
    "\n",
    "z"
   ]
  },
  {
   "cell_type": "code",
   "execution_count": null,
   "id": "87be32f4",
   "metadata": {},
   "outputs": [],
   "source": [
    "z >= z_alpha"
   ]
  },
  {
   "cell_type": "markdown",
   "id": "f062b81e",
   "metadata": {},
   "source": [
    "### <font color='green'>Conclusão: Com um nível de confiança de 99% rejeitamos $H_0$ , isto é, concluímos que a média das notas em Português do sexo masculino não é maior que a média das notas em Português do sexo feminino. Não corroborando com hipotese de que as notas em linguagens dos candidatos do sexo masculino é maior que a do sexo feminino</font>"
   ]
  },
  {
   "cell_type": "markdown",
   "id": "20b87562",
   "metadata": {},
   "source": [
    " ### <font color='black'> As notas em matémática do sexo masculino é maior que a do sexo feminino?</font>"
   ]
  },
  {
   "cell_type": "code",
   "execution_count": null,
   "id": "5ac5fbab",
   "metadata": {},
   "outputs": [],
   "source": [
    "notas_mt_F  = dados_selecionado.query(\"TP_SEXO == 'F'\").sample(n = 1000, random_state = 101).NU_NOTA_MT.dropna()\n",
    "notas_mt_M  = dados_selecionado.query(\"TP_SEXO == 'M'\").sample(n = 1000, random_state = 101).NU_NOTA_MT.dropna()"
   ]
  },
  {
   "cell_type": "code",
   "execution_count": null,
   "id": "ae74c598",
   "metadata": {},
   "outputs": [],
   "source": [
    "notas_mt_F"
   ]
  },
  {
   "cell_type": "code",
   "execution_count": null,
   "id": "d3af5c57",
   "metadata": {},
   "outputs": [],
   "source": [
    "notas_mt_M"
   ]
  },
  {
   "cell_type": "code",
   "execution_count": null,
   "id": "f46a9829",
   "metadata": {},
   "outputs": [],
   "source": [
    "media_amostra_mt_f = notas_mt_F.mean()\n",
    "media_amostra_mt_f"
   ]
  },
  {
   "cell_type": "code",
   "execution_count": null,
   "id": "d4ceb976",
   "metadata": {},
   "outputs": [],
   "source": [
    "media_amostra_mt_m = notas_mt_M.mean()\n",
    "media_amostra_mt_m"
   ]
  },
  {
   "cell_type": "code",
   "execution_count": null,
   "id": "5af9e30d",
   "metadata": {},
   "outputs": [],
   "source": [
    "desvio_padrao_mt_f = notas_mt_F.std()\n",
    "desvio_padrao_mt_f"
   ]
  },
  {
   "cell_type": "code",
   "execution_count": null,
   "id": "ee54631b",
   "metadata": {},
   "outputs": [],
   "source": [
    "desvio_padrao_mt_m = notas_mt_M.std()\n",
    "desvio_padrao_mt_m"
   ]
  },
  {
   "cell_type": "code",
   "execution_count": null,
   "id": "3fc35c84",
   "metadata": {},
   "outputs": [],
   "source": [
    "significancia = 0.05\n",
    "confianca = 1 - significancia\n",
    "n_M = 1000\n",
    "n_H = 1000\n",
    "D_0 = 0"
   ]
  },
  {
   "cell_type": "code",
   "execution_count": null,
   "id": "a5baf77a",
   "metadata": {},
   "outputs": [],
   "source": [
    "probabilidade = confianca\n",
    "probabilidade"
   ]
  },
  {
   "cell_type": "code",
   "execution_count": null,
   "id": "41394ed3",
   "metadata": {},
   "outputs": [],
   "source": [
    "z_alpha = norm.ppf(probabilidade)\n",
    "z_alpha.round(2)"
   ]
  },
  {
   "cell_type": "code",
   "execution_count": null,
   "id": "5efd6d18",
   "metadata": {},
   "outputs": [],
   "source": [
    "numerador = (media_amostra_mt_m - media_amostra_mt_f) - D_0\n",
    "\n",
    "denominador = np.sqrt((desvio_padrao_mt_f ** 2 / n_H) + (desvio_padrao_mt_m ** 2 / n_M))\n",
    "\n",
    "z = numerador / denominador\n",
    "\n",
    "z"
   ]
  },
  {
   "cell_type": "code",
   "execution_count": null,
   "id": "de3dcf50",
   "metadata": {},
   "outputs": [],
   "source": [
    "z >= z_alpha"
   ]
  },
  {
   "cell_type": "markdown",
   "id": "d6ca2841",
   "metadata": {},
   "source": [
    "### <font color='green'>Conclusão: Com um nível de confiança de 99% aceitamos $H_0$ , isto é, concluímos que a média das notas em matemática do sexo masculino é maior que a média das notas em Português do sexo feminino. Corroborando com hipotese de que as notas em Matemática dos candidatos do sexo masculino é maior que a do sexo feminino</font>"
   ]
  },
  {
   "cell_type": "markdown",
   "id": "2af1e8a4",
   "metadata": {},
   "source": [
    " ### <font color='black'> As notas em Redação do sexo masculino é maior que a do sexo feminino?</font>"
   ]
  },
  {
   "cell_type": "code",
   "execution_count": null,
   "id": "2d76d4ed",
   "metadata": {},
   "outputs": [],
   "source": [
    "notas_red_F  = dados_selecionado.query(\"TP_SEXO == 'F'\").sample(n = 1000, random_state = 101).NU_NOTA_REDACAO.dropna()\n",
    "notas_red_M  = dados_selecionado.query(\"TP_SEXO == 'M'\").sample(n = 1000, random_state = 101).NU_NOTA_REDACAO.dropna()"
   ]
  },
  {
   "cell_type": "code",
   "execution_count": null,
   "id": "f43b5349",
   "metadata": {},
   "outputs": [],
   "source": [
    "notas_red_F"
   ]
  },
  {
   "cell_type": "code",
   "execution_count": null,
   "id": "ff92c346",
   "metadata": {},
   "outputs": [],
   "source": [
    "notas_red_M"
   ]
  },
  {
   "cell_type": "code",
   "execution_count": null,
   "id": "ca467099",
   "metadata": {},
   "outputs": [],
   "source": [
    "media_amostra_red_m = notas_red_M.mean()\n",
    "media_amostra_red_m"
   ]
  },
  {
   "cell_type": "code",
   "execution_count": null,
   "id": "ca43d8a5",
   "metadata": {},
   "outputs": [],
   "source": [
    "media_amostra_red_f = notas_red_F.mean()\n",
    "media_amostra_red_f"
   ]
  },
  {
   "cell_type": "code",
   "execution_count": null,
   "id": "6ddc3f8e",
   "metadata": {},
   "outputs": [],
   "source": [
    "desvio_padrao_red_m = notas_red_M.std()\n",
    "desvio_padrao_red_m"
   ]
  },
  {
   "cell_type": "code",
   "execution_count": null,
   "id": "b9d2a344",
   "metadata": {},
   "outputs": [],
   "source": [
    "desvio_padrao_red_f = notas_red_F.std()\n",
    "desvio_padrao_red_f"
   ]
  },
  {
   "cell_type": "code",
   "execution_count": null,
   "id": "f45f56a9",
   "metadata": {},
   "outputs": [],
   "source": []
  },
  {
   "cell_type": "code",
   "execution_count": null,
   "id": "78130c90",
   "metadata": {},
   "outputs": [],
   "source": [
    "significancia = 0.05\n",
    "confianca = 1 - significancia\n",
    "n_M = 1000\n",
    "n_H = 1000\n",
    "D_0 = 0"
   ]
  },
  {
   "cell_type": "code",
   "execution_count": null,
   "id": "992389bd",
   "metadata": {},
   "outputs": [],
   "source": [
    "probabilidade = confianca\n",
    "probabilidade"
   ]
  },
  {
   "cell_type": "code",
   "execution_count": null,
   "id": "80ee18ef",
   "metadata": {},
   "outputs": [],
   "source": [
    "z_alpha = norm.ppf(probabilidade)\n",
    "z_alpha.round(2)"
   ]
  },
  {
   "cell_type": "code",
   "execution_count": null,
   "id": "fdc08e27",
   "metadata": {},
   "outputs": [],
   "source": [
    "numerador = (media_amostra_red_m - media_amostra_red_f) - D_0\n",
    "\n",
    "denominador = np.sqrt((desvio_padrao_red_f ** 2 / n_H) + (desvio_padrao_red_m ** 2 / n_M))\n",
    "\n",
    "z = numerador / denominador\n",
    "\n",
    "z"
   ]
  },
  {
   "cell_type": "code",
   "execution_count": null,
   "id": "a7852d54",
   "metadata": {},
   "outputs": [],
   "source": [
    "z >= z_alpha"
   ]
  },
  {
   "cell_type": "markdown",
   "id": "0f457b56",
   "metadata": {},
   "source": [
    "### <font color='green'>Conclusão: Com um nível de confiança de 95% rejeitamos $H_0$ , isto é, concluímos que a média das notas em Redação do sexo masculino não é maior que a média das notas em Português do sexo feminino. Não corroborando com hipotese de que as notas em Redação dos candidatos do sexo masculino é maior que a do sexo feminino</font>"
   ]
  },
  {
   "cell_type": "markdown",
   "id": "ae2a40f3",
   "metadata": {},
   "source": [
    "## Teste de comparação da média das notas entre municípios"
   ]
  },
  {
   "cell_type": "markdown",
   "id": "fb1e578d",
   "metadata": {},
   "source": [
    "### $\\mu_1 \\Rightarrow$ Média das notas do municipio de Pedreiras\n",
    "### $\\mu_2 \\Rightarrow$ Média das notas do municipio de Caxias\n",
    "\n",
    "### $\n",
    "\\begin{cases}\n",
    "H_0: \\mu_1 \\leq \\mu_2\\\\\n",
    "H_1: \\mu_1 > \\mu_2\n",
    "\\end{cases}\n",
    "$\n",
    "\n",
    "### ou\n",
    "\n",
    "### $\n",
    "\\begin{cases}\n",
    "H_0: \\mu_1 -\\mu_2 \\leq 0\\\\\n",
    "H_1: \\mu_1 -\\mu_2 > 0\n",
    "\\end{cases}\n",
    "$"
   ]
  },
  {
   "cell_type": "code",
   "execution_count": null,
   "id": "1f057ac6",
   "metadata": {},
   "outputs": [],
   "source": [
    "notas_pedreiras_lc = dados_selecionado.query(\"NO_MUNICIPIO_PROVA == 'Pedreiras'\").sample(n = 1000,random_state = 101).NU_NOTA_LC.dropna()\n",
    "notas_pedreiras_lc"
   ]
  },
  {
   "cell_type": "code",
   "execution_count": null,
   "id": "0149ac21",
   "metadata": {},
   "outputs": [],
   "source": [
    "media_amostra_ped_lc = notas_pedreiras.mean()"
   ]
  },
  {
   "cell_type": "code",
   "execution_count": null,
   "id": "092173cc",
   "metadata": {},
   "outputs": [],
   "source": [
    "desvio_padrao_ped_lc = notas_pedreiras.std()\n",
    "desvio_padrao_ped_lc"
   ]
  },
  {
   "cell_type": "code",
   "execution_count": null,
   "id": "f91a67b6",
   "metadata": {},
   "outputs": [],
   "source": [
    "notas_caxias_lc = dados_selecionado.query(\"NO_MUNICIPIO_PROVA == 'Caxias'\").sample(n = 1000,random_state = 101).NU_NOTA_LC.dropna()\n",
    "notas_caxias_lc"
   ]
  },
  {
   "cell_type": "code",
   "execution_count": null,
   "id": "b7965e6f",
   "metadata": {},
   "outputs": [],
   "source": [
    "media_amostra_cax_lc = notas_caxias_lc.mean()\n",
    "media_amostra_cax_lc"
   ]
  },
  {
   "cell_type": "code",
   "execution_count": null,
   "id": "dc21c443",
   "metadata": {},
   "outputs": [],
   "source": [
    "desvio_padrao_cax_lc = notas_caxias_lc.std()\n",
    "desvio_padrao_cax_lc"
   ]
  },
  {
   "cell_type": "code",
   "execution_count": null,
   "id": "599d0d75",
   "metadata": {},
   "outputs": [],
   "source": [
    "significancia = 0.05\n",
    "confianca = 1 - significancia\n",
    "n_M = 1000\n",
    "n_H = 1000\n",
    "D_0 = 0"
   ]
  },
  {
   "cell_type": "code",
   "execution_count": null,
   "id": "fe919fa0",
   "metadata": {},
   "outputs": [],
   "source": [
    "probabilidade = confianca\n",
    "probabilidade"
   ]
  },
  {
   "cell_type": "code",
   "execution_count": null,
   "id": "fcc6a722",
   "metadata": {},
   "outputs": [],
   "source": [
    "z_alpha = norm.ppf(probabilidade)\n",
    "z_alpha.round(2)"
   ]
  },
  {
   "cell_type": "code",
   "execution_count": null,
   "id": "4031c6c2",
   "metadata": {},
   "outputs": [],
   "source": [
    "numerador = (media_amostra_ped_lc - media_amostra_cax_lc) - D_0\n",
    "\n",
    "denominador = np.sqrt((desvio_padrao_cax_lc ** 2 / n_H) + (desvio_padrao_ped_lc ** 2 / n_M))\n",
    "\n",
    "z = numerador / denominador\n",
    "\n",
    "z"
   ]
  },
  {
   "cell_type": "code",
   "execution_count": null,
   "id": "f2490e91",
   "metadata": {},
   "outputs": [],
   "source": [
    "z >= z_alpha"
   ]
  },
  {
   "cell_type": "markdown",
   "id": "38a6b4a2",
   "metadata": {},
   "source": [
    "### <font color='green'>Conclusão: Com um nível de confiança de 95% aceitamos $H_1$ , isto é, concluímos que a média das notas em linguagens e código no municipio de pedreiras é maior que a média das notas em linguagens e código no municipio de Caxias. corroborando com hipotese de que as notas em Redação dos candidatos do sexo masculino é maior que a do sexo feminino</font>"
   ]
  },
  {
   "cell_type": "code",
   "execution_count": null,
   "id": "726bbdc1",
   "metadata": {},
   "outputs": [],
   "source": []
  }
 ],
 "metadata": {
  "kernelspec": {
   "display_name": "Python 3 (ipykernel)",
   "language": "python",
   "name": "python3"
  },
  "language_info": {
   "codemirror_mode": {
    "name": "ipython",
    "version": 3
   },
   "file_extension": ".py",
   "mimetype": "text/x-python",
   "name": "python",
   "nbconvert_exporter": "python",
   "pygments_lexer": "ipython3",
   "version": "3.9.7"
  }
 },
 "nbformat": 4,
 "nbformat_minor": 5
}
